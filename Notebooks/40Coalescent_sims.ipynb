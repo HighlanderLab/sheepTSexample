{
 "cells": [
  {
   "cell_type": "markdown",
   "id": "4fd7d9ec",
   "metadata": {},
   "source": [
    "# Coalescent simulations\n",
    "Following https://tskit.dev/tutorials/no_mutations.html"
   ]
  },
  {
   "cell_type": "code",
   "execution_count": 1,
   "id": "2c22a60a",
   "metadata": {},
   "outputs": [],
   "source": [
    "import msprime"
   ]
  },
  {
   "cell_type": "markdown",
   "id": "33d6976f",
   "metadata": {},
   "source": [
    "Set up simulation parameters:"
   ]
  },
  {
   "cell_type": "code",
   "execution_count": 2,
   "id": "347a0008",
   "metadata": {},
   "outputs": [],
   "source": [
    "L = 1_000_000 # genome size\n",
    "rho = mu = 1e-8 # recombiation rate and mutation rate\n",
    "n_subpops = 2\n",
    "subpop_size = 1e4\n",
    "migration_rate = 1e-4"
   ]
  },
  {
   "cell_type": "markdown",
   "id": "ae6e9e71",
   "metadata": {},
   "source": [
    "One ARG without motations"
   ]
  },
  {
   "cell_type": "code",
   "execution_count": 3,
   "id": "1c19c406",
   "metadata": {},
   "outputs": [],
   "source": [
    "# simulate ancestry (tree sequence = ARG) without mutations\n",
    "ts_no_mut = msprime.sim_ancestry(\n",
    "    samples={f\"pop_{i}\": 10 for i in range(n_subpops)},\n",
    "    demography=msprime.Demography.island_model([subpop_size] * n_subpops, migration_rate),\n",
    "    ploidy=2,\n",
    "    recombination_rate=rho,\n",
    "    sequence_length=L,\n",
    "    random_seed=123\n",
    "    \n",
    ")"
   ]
  },
  {
   "cell_type": "code",
   "execution_count": 4,
   "id": "1ca8f12f",
   "metadata": {},
   "outputs": [
    {
     "data": {
      "text/html": [
       "\n",
       "            <div>\n",
       "              <style>\n",
       "                .tskit-table thead tr th {text-align: left;padding: 0.5em 0.5em;}\n",
       "                .tskit-table tbody tr td {padding: 0.5em 0.5em;}\n",
       "                .tskit-table tbody tr td:first-of-type {text-align: left;}\n",
       "                .tskit-details-label {vertical-align: top; padding-right:5px;}\n",
       "                .tskit-table-set {display: inline-flex;flex-wrap: wrap;margin: -12px 0 0 -12px;width: calc(100% + 12px);}\n",
       "                .tskit-table-set-table {margin: 12px 0 0 12px;}\n",
       "                details {display: inline-block;}\n",
       "                summary {cursor: pointer; outline: 0; display: list-item;}\n",
       "              </style>\n",
       "              <div class=\"tskit-table-set\">\n",
       "                <div class=\"tskit-table-set-table\">\n",
       "                  <table class=\"tskit-table\">\n",
       "                    <thead>\n",
       "                      <tr>\n",
       "                        <th style=\"padding:0;line-height:21px;\">\n",
       "                          <img style=\"height: 32px;display: inline-block;padding: 3px 5px 3px 0;\" src=\"https://raw.githubusercontent.com/tskit-dev/administrative/main/tskit_logo.svg\"/>\n",
       "                          <a target=\"_blank\" href=\"https://tskit.dev/tskit/docs/latest/python-api.html#the-treesequence-class\"> Tree Sequence </a>\n",
       "                        </th>\n",
       "                      </tr>\n",
       "                    </thead>\n",
       "                    <tbody>\n",
       "                      <tr><td>Trees</td><td>2800</td></tr>\n",
       "                      <tr><td>Sequence Length</td><td>1000000.0</td></tr>\n",
       "                      <tr><td>Time Units</td><td>generations</td></tr>\n",
       "                      <tr><td>Sample Nodes</td><td>40</td></tr>\n",
       "                      <tr><td>Total Size</td><td>427.7 KiB</td></tr>\n",
       "                      <tr>\n",
       "                        <td>Metadata</td><td style=\"text-align: left;\">No Metadata</td></tr>\n",
       "                    </tbody>\n",
       "                  </table>\n",
       "                </div>\n",
       "                <div class=\"tskit-table-set-table\">\n",
       "                  <table class=\"tskit-table\">\n",
       "                    <thead>\n",
       "                      <tr>\n",
       "                        <th style=\"line-height:21px;\">Table</th>\n",
       "                        <th>Rows</th>\n",
       "                        <th>Size</th>\n",
       "                        <th>Has Metadata</th>\n",
       "                      </tr>\n",
       "                    </thead>\n",
       "                    <tbody>\n",
       "                    \n",
       "                  <tr>\n",
       "                    <td>Edges</td>\n",
       "                      <td>9551</td>\n",
       "                      <td>298.5 KiB</td>\n",
       "                      <td style=\"text-align: center;\">\n",
       "                        \n",
       "                      </td>\n",
       "                    </tr>\n",
       "                \n",
       "                  <tr>\n",
       "                    <td>Individuals</td>\n",
       "                      <td>20</td>\n",
       "                      <td>584 Bytes</td>\n",
       "                      <td style=\"text-align: center;\">\n",
       "                        \n",
       "                      </td>\n",
       "                    </tr>\n",
       "                \n",
       "                  <tr>\n",
       "                    <td>Migrations</td>\n",
       "                      <td>0</td>\n",
       "                      <td>8 Bytes</td>\n",
       "                      <td style=\"text-align: center;\">\n",
       "                        \n",
       "                      </td>\n",
       "                    </tr>\n",
       "                \n",
       "                  <tr>\n",
       "                    <td>Mutations</td>\n",
       "                      <td>0</td>\n",
       "                      <td>16 Bytes</td>\n",
       "                      <td style=\"text-align: center;\">\n",
       "                        \n",
       "                      </td>\n",
       "                    </tr>\n",
       "                \n",
       "                  <tr>\n",
       "                    <td>Nodes</td>\n",
       "                      <td>1912</td>\n",
       "                      <td>52.3 KiB</td>\n",
       "                      <td style=\"text-align: center;\">\n",
       "                        \n",
       "                      </td>\n",
       "                    </tr>\n",
       "                \n",
       "                  <tr>\n",
       "                    <td>Populations</td>\n",
       "                      <td>2</td>\n",
       "                      <td>265 Bytes</td>\n",
       "                      <td style=\"text-align: center;\">\n",
       "                        ✅\n",
       "                      </td>\n",
       "                    </tr>\n",
       "                \n",
       "                  <tr>\n",
       "                    <td>Provenances</td>\n",
       "                      <td>1</td>\n",
       "                      <td>1.4 KiB</td>\n",
       "                      <td style=\"text-align: center;\">\n",
       "                        \n",
       "                      </td>\n",
       "                    </tr>\n",
       "                \n",
       "                  <tr>\n",
       "                    <td>Sites</td>\n",
       "                      <td>0</td>\n",
       "                      <td>16 Bytes</td>\n",
       "                      <td style=\"text-align: center;\">\n",
       "                        \n",
       "                      </td>\n",
       "                    </tr>\n",
       "                \n",
       "                    </tbody>\n",
       "                  </table>\n",
       "                </div>\n",
       "              </div>\n",
       "            </div>\n",
       "            "
      ],
      "text/plain": [
       "<tskit.trees.TreeSequence at 0x7f30ef25d040>"
      ]
     },
     "execution_count": 4,
     "metadata": {},
     "output_type": "execute_result"
    }
   ],
   "source": [
    "ts_no_mut"
   ]
  },
  {
   "cell_type": "markdown",
   "id": "6c5d56ac",
   "metadata": {},
   "source": [
    "The same RG with mutations added:"
   ]
  },
  {
   "cell_type": "code",
   "execution_count": 5,
   "id": "5cccf7ae",
   "metadata": {},
   "outputs": [],
   "source": [
    "ts_mutated = msprime.sim_mutations(\n",
    "    ts_no_mut,\n",
    "    rate=mu,\n",
    "    random_seed=456\n",
    ")"
   ]
  },
  {
   "cell_type": "code",
   "execution_count": 58,
   "id": "86516bc0",
   "metadata": {},
   "outputs": [
    {
     "data": {
      "text/html": [
       "\n",
       "            <div>\n",
       "              <style>\n",
       "                .tskit-table thead tr th {text-align: left;padding: 0.5em 0.5em;}\n",
       "                .tskit-table tbody tr td {padding: 0.5em 0.5em;}\n",
       "                .tskit-table tbody tr td:first-of-type {text-align: left;}\n",
       "                .tskit-details-label {vertical-align: top; padding-right:5px;}\n",
       "                .tskit-table-set {display: inline-flex;flex-wrap: wrap;margin: -12px 0 0 -12px;width: calc(100% + 12px);}\n",
       "                .tskit-table-set-table {margin: 12px 0 0 12px;}\n",
       "                details {display: inline-block;}\n",
       "                summary {cursor: pointer; outline: 0; display: list-item;}\n",
       "              </style>\n",
       "              <div class=\"tskit-table-set\">\n",
       "                <div class=\"tskit-table-set-table\">\n",
       "                  <table class=\"tskit-table\">\n",
       "                    <thead>\n",
       "                      <tr>\n",
       "                        <th style=\"padding:0;line-height:21px;\">\n",
       "                          <img style=\"height: 32px;display: inline-block;padding: 3px 5px 3px 0;\" src=\"https://raw.githubusercontent.com/tskit-dev/administrative/main/tskit_logo.svg\"/>\n",
       "                          <a target=\"_blank\" href=\"https://tskit.dev/tskit/docs/latest/python-api.html#the-treesequence-class\"> Tree Sequence </a>\n",
       "                        </th>\n",
       "                      </tr>\n",
       "                    </thead>\n",
       "                    <tbody>\n",
       "                      <tr><td>Trees</td><td>2800</td></tr>\n",
       "                      <tr><td>Sequence Length</td><td>1000000.0</td></tr>\n",
       "                      <tr><td>Time Units</td><td>generations</td></tr>\n",
       "                      <tr><td>Sample Nodes</td><td>40</td></tr>\n",
       "                      <tr><td>Total Size</td><td>646.1 KiB</td></tr>\n",
       "                      <tr>\n",
       "                        <td>Metadata</td><td style=\"text-align: left;\">No Metadata</td></tr>\n",
       "                    </tbody>\n",
       "                  </table>\n",
       "                </div>\n",
       "                <div class=\"tskit-table-set-table\">\n",
       "                  <table class=\"tskit-table\">\n",
       "                    <thead>\n",
       "                      <tr>\n",
       "                        <th style=\"line-height:21px;\">Table</th>\n",
       "                        <th>Rows</th>\n",
       "                        <th>Size</th>\n",
       "                        <th>Has Metadata</th>\n",
       "                      </tr>\n",
       "                    </thead>\n",
       "                    <tbody>\n",
       "                    \n",
       "                  <tr>\n",
       "                    <td>Edges</td>\n",
       "                      <td>9551</td>\n",
       "                      <td>298.5 KiB</td>\n",
       "                      <td style=\"text-align: center;\">\n",
       "                        \n",
       "                      </td>\n",
       "                    </tr>\n",
       "                \n",
       "                  <tr>\n",
       "                    <td>Individuals</td>\n",
       "                      <td>20</td>\n",
       "                      <td>584 Bytes</td>\n",
       "                      <td style=\"text-align: center;\">\n",
       "                        \n",
       "                      </td>\n",
       "                    </tr>\n",
       "                \n",
       "                  <tr>\n",
       "                    <td>Migrations</td>\n",
       "                      <td>0</td>\n",
       "                      <td>8 Bytes</td>\n",
       "                      <td style=\"text-align: center;\">\n",
       "                        \n",
       "                      </td>\n",
       "                    </tr>\n",
       "                \n",
       "                  <tr>\n",
       "                    <td>Mutations</td>\n",
       "                      <td>3601</td>\n",
       "                      <td>130.1 KiB</td>\n",
       "                      <td style=\"text-align: center;\">\n",
       "                        \n",
       "                      </td>\n",
       "                    </tr>\n",
       "                \n",
       "                  <tr>\n",
       "                    <td>Nodes</td>\n",
       "                      <td>1912</td>\n",
       "                      <td>52.3 KiB</td>\n",
       "                      <td style=\"text-align: center;\">\n",
       "                        \n",
       "                      </td>\n",
       "                    </tr>\n",
       "                \n",
       "                  <tr>\n",
       "                    <td>Populations</td>\n",
       "                      <td>2</td>\n",
       "                      <td>265 Bytes</td>\n",
       "                      <td style=\"text-align: center;\">\n",
       "                        ✅\n",
       "                      </td>\n",
       "                    </tr>\n",
       "                \n",
       "                  <tr>\n",
       "                    <td>Provenances</td>\n",
       "                      <td>2</td>\n",
       "                      <td>2.1 KiB</td>\n",
       "                      <td style=\"text-align: center;\">\n",
       "                        \n",
       "                      </td>\n",
       "                    </tr>\n",
       "                \n",
       "                  <tr>\n",
       "                    <td>Sites</td>\n",
       "                      <td>3590</td>\n",
       "                      <td>87.7 KiB</td>\n",
       "                      <td style=\"text-align: center;\">\n",
       "                        \n",
       "                      </td>\n",
       "                    </tr>\n",
       "                \n",
       "                    </tbody>\n",
       "                  </table>\n",
       "                </div>\n",
       "              </div>\n",
       "            </div>\n",
       "            "
      ],
      "text/plain": [
       "<tskit.trees.TreeSequence at 0x7f139d31c220>"
      ]
     },
     "execution_count": 58,
     "metadata": {},
     "output_type": "execute_result"
    }
   ],
   "source": [
    "ts_mutated"
   ]
  },
  {
   "cell_type": "markdown",
   "id": "380c6197",
   "metadata": {},
   "source": [
    "The presence of mutation makes the TS object 50% bigger."
   ]
  },
  {
   "cell_type": "markdown",
   "id": "65e364f1",
   "metadata": {},
   "source": [
    "## Analysing patterns of relatedness\n",
    "Based in mutations (as one would do starting vrom a VCF file) and for comparison from trees:"
   ]
  },
  {
   "cell_type": "code",
   "execution_count": 6,
   "id": "86505504",
   "metadata": {},
   "outputs": [],
   "source": [
    "import numpy as np"
   ]
  },
  {
   "cell_type": "markdown",
   "id": "c13c27c2",
   "metadata": {},
   "source": [
    "Divergence based on (weighted) average branch langths:"
   ]
  },
  {
   "cell_type": "code",
   "execution_count": 11,
   "id": "d8960a27",
   "metadata": {},
   "outputs": [
    {
     "name": "stdout",
     "output_type": "stream",
     "text": [
      "Avg. tMRCA between sample 9 (pop_0) and 24 (pop_1) is 42396.75 generations\n"
     ]
    }
   ],
   "source": [
    "np.random.seed(10)\n",
    "sample_a = np.random.choice(ts_no_mut.samples(population=0), size=1)[0]\n",
    "sample_b = np.random.choice(ts_no_mut.samples(population=1), size=1)[0]\n",
    "\n",
    "av_tMRCA = 0\n",
    "\n",
    "for tree in ts_no_mut.trees():\n",
    "    # get tMRCA and weight by each tree's span\n",
    "    av_tMRCA += tree.tmrca(sample_a, sample_b) * tree.span /ts_no_mut.sequence_length\n",
    "\n",
    "print(f\"Avg. tMRCA between sample {sample_a} (pop_0) and\",\n",
    "     f\"{sample_b} (pop_1) is {av_tMRCA:.2f} {ts_no_mut.time_units}\")"
   ]
  },
  {
   "cell_type": "markdown",
   "id": "675e28b4",
   "metadata": {},
   "source": [
    "Based on SNPs:"
   ]
  },
  {
   "cell_type": "code",
   "execution_count": 8,
   "id": "17f28373",
   "metadata": {},
   "outputs": [
    {
     "name": "stdout",
     "output_type": "stream",
     "text": [
      "Genetic divergence between samples 9 and 24 is 0.000840\n"
     ]
    }
   ],
   "source": [
    "print(\n",
    "    f\"Genetic divergence between samples {sample_a} and {sample_b} is\",\n",
    "    f\"{ts_mutated.divergence([[sample_a], [sample_b]]):.6f}\"\n",
    ")"
   ]
  },
  {
   "cell_type": "code",
   "execution_count": 9,
   "id": "f093fcbd",
   "metadata": {},
   "outputs": [],
   "source": [
    "ab_dist = ts_no_mut.divergence([[sample_a], [sample_b]], mode=\"branch\")"
   ]
  },
  {
   "cell_type": "code",
   "execution_count": 10,
   "id": "4cfccee4",
   "metadata": {},
   "outputs": [
    {
     "data": {
      "text/plain": [
       "84793.5015739319"
      ]
     },
     "execution_count": 10,
     "metadata": {},
     "output_type": "execute_result"
    }
   ],
   "source": [
    "ab_dist"
   ]
  },
  {
   "cell_type": "markdown",
   "id": "3f3a2b97",
   "metadata": {},
   "source": [
    "Multiplying the branch length by the mutation rate, we get a value very similar to the SNP divergence estimate:"
   ]
  },
  {
   "cell_type": "code",
   "execution_count": 74,
   "id": "958fb78f",
   "metadata": {},
   "outputs": [
    {
     "data": {
      "text/plain": [
       "'0.000848'"
      ]
     },
     "execution_count": 74,
     "metadata": {},
     "output_type": "execute_result"
    }
   ],
   "source": [
    "f\"{ab_dist * mu:.6f}\""
   ]
  },
  {
   "cell_type": "markdown",
   "id": "501d7d54",
   "metadata": {},
   "source": [
    "## Compare $F_{ST}$ estimates based on SNPs and branches"
   ]
  },
  {
   "cell_type": "markdown",
   "id": "b87a4807",
   "metadata": {},
   "source": [
    "Load plotting library"
   ]
  },
  {
   "cell_type": "code",
   "execution_count": 12,
   "id": "fc58290e",
   "metadata": {},
   "outputs": [],
   "source": [
    "import matplotlib.pyplot as plt"
   ]
  },
  {
   "cell_type": "markdown",
   "id": "9c1b74df",
   "metadata": {},
   "source": [
    "Make a list of 20 replicate simulations:"
   ]
  },
  {
   "cell_type": "code",
   "execution_count": 14,
   "id": "ab81bc0e",
   "metadata": {},
   "outputs": [],
   "source": [
    "n_reps = 20\n",
    "\n",
    "ts_reps = list(msprime.sim_ancestry(\n",
    "    samples={f\"pop_{i}\": 10 for i in range(n_subpops)},\n",
    "    demography=msprime.Demography.island_model([subpop_size] * n_subpops, migration_rate),\n",
    "    ploidy=2,\n",
    "    recombination_rate=rho,\n",
    "    sequence_length=L,\n",
    "    random_seed=123,\n",
    "    num_replicates=n_reps\n",
    ")\n",
    ")"
   ]
  },
  {
   "cell_type": "markdown",
   "id": "1934dd3b",
   "metadata": {},
   "source": [
    "A little detour... demonstrate `enumerate()` and `zip()`."
   ]
  },
  {
   "cell_type": "code",
   "execution_count": 15,
   "id": "56976efb",
   "metadata": {},
   "outputs": [],
   "source": [
    "ll = [\"a\",\"b\",\"c\"]"
   ]
  },
  {
   "cell_type": "code",
   "execution_count": 16,
   "id": "737b520e",
   "metadata": {},
   "outputs": [
    {
     "name": "stdout",
     "output_type": "stream",
     "text": [
      "Element 0 is a\n",
      "Element 1 is b\n",
      "Element 2 is c\n"
     ]
    }
   ],
   "source": [
    "for k, i in enumerate(ll):\n",
    "    print(f\"Element {k} is {i}\")"
   ]
  },
  {
   "cell_type": "code",
   "execution_count": 17,
   "id": "e337431f",
   "metadata": {},
   "outputs": [
    {
     "name": "stdout",
     "output_type": "stream",
     "text": [
      "List1: a, list2: 3\n",
      "List1: b, list2: 2\n",
      "List1: c, list2: 1\n"
     ]
    }
   ],
   "source": [
    "for k, i, in zip([\"a\", \"b\", \"c\"], [\"3\", \"2\", \"1\"]):\n",
    "     print(f\"List1: {k}, list2: {i}\")"
   ]
  },
  {
   "cell_type": "markdown",
   "id": "a3f105a2",
   "metadata": {},
   "source": [
    "Back to our ARGs... add muations to the 20 replicate ARGS:"
   ]
  },
  {
   "cell_type": "code",
   "execution_count": 23,
   "id": "cd0cb685",
   "metadata": {},
   "outputs": [],
   "source": [
    "ts_mutated_reps = [\n",
    "    msprime.sim_mutations(ts, rate=mu/100, random_seed=i+4)\n",
    "    for i, ts in enumerate(ts_reps)\n",
    "]"
   ]
  },
  {
   "cell_type": "markdown",
   "id": "8d298ce6",
   "metadata": {},
   "source": [
    "Get ready to compute $F_{ST}$"
   ]
  },
  {
   "cell_type": "code",
   "execution_count": 24,
   "id": "08d5f309",
   "metadata": {},
   "outputs": [],
   "source": [
    "def sample_sets(ts):\n",
    "    return [ts.samples(population=p.id) for p in ts.populations()]"
   ]
  },
  {
   "cell_type": "code",
   "execution_count": 25,
   "id": "b7da0d97",
   "metadata": {},
   "outputs": [
    {
     "data": {
      "text/plain": [
       "[array([ 0,  1,  2,  3,  4,  5,  6,  7,  8,  9, 10, 11, 12, 13, 14, 15, 16,\n",
       "        17, 18, 19], dtype=int32),\n",
       " array([20, 21, 22, 23, 24, 25, 26, 27, 28, 29, 30, 31, 32, 33, 34, 35, 36,\n",
       "        37, 38, 39], dtype=int32)]"
      ]
     },
     "execution_count": 25,
     "metadata": {},
     "output_type": "execute_result"
    }
   ],
   "source": [
    "sample_sets(ts_reps[0])"
   ]
  },
  {
   "cell_type": "code",
   "execution_count": 26,
   "id": "4653fe39",
   "metadata": {},
   "outputs": [],
   "source": [
    "Fst_genealogy = np.array([ts.Fst(sample_sets(ts), mode=\"branch\") for ts in ts_reps])"
   ]
  },
  {
   "cell_type": "code",
   "execution_count": 27,
   "id": "c186c69c",
   "metadata": {},
   "outputs": [],
   "source": [
    "Fst_genetic_var = np.array([ts.Fst(sample_sets(ts)) for ts in ts_mutated_reps])"
   ]
  },
  {
   "cell_type": "code",
   "execution_count": 28,
   "id": "1b6cc247",
   "metadata": {},
   "outputs": [
    {
     "data": {
      "text/plain": [
       "array([0.04083347, 0.12845075, 0.0931933 , 0.11172998, 0.11784762,\n",
       "       0.0802867 , 0.01217146, 0.0474748 , 0.0677836 , 0.04174238,\n",
       "       0.05261433, 0.10640619, 0.0461887 , 0.05188515, 0.09648855,\n",
       "       0.04368489, 0.05771106, 0.01782587, 0.11527371, 0.02899626])"
      ]
     },
     "execution_count": 28,
     "metadata": {},
     "output_type": "execute_result"
    }
   ],
   "source": [
    "Fst_genetic_var"
   ]
  },
  {
   "cell_type": "markdown",
   "id": "a8dfa9be",
   "metadata": {},
   "source": [
    "For the theoretical expectation see e.g. Crow and Aoki (1984) PNAS 81: 6073, eqn 7"
   ]
  },
  {
   "cell_type": "code",
   "execution_count": 29,
   "id": "730bbdc9",
   "metadata": {},
   "outputs": [],
   "source": [
    "Fst_theory = 1/(4*subpop_size*migration_rate*(n_subpops/(n_subpops-1))**2 + 1)"
   ]
  },
  {
   "cell_type": "markdown",
   "id": "f574a8c9",
   "metadata": {},
   "source": [
    "Plot the estimates and theoretical exprectation:"
   ]
  },
  {
   "cell_type": "code",
   "execution_count": 30,
   "id": "c532bbcf",
   "metadata": {},
   "outputs": [
    {
     "data": {
      "image/png": "[encoded data removed]",
      "text/plain": [
       "<Figure size 640x480 with 1 Axes>"
      ]
     },
     "metadata": {},
     "output_type": "display_data"
    }
   ],
   "source": [
    "plt.scatter([\"Genetic variation\"] * 20, Fst_genetic_var)\n",
    "plt.scatter([\"Genealogy\"] * 20, Fst_genealogy)\n",
    "plt.xlabel(\"Basis of estimate\")\n",
    "plt.ylabel(\"$F_{ST}$\\n(20 replicates)\")\n",
    "plt.axhline(y=Fst_theory, ls=\":\", c=\"grey\")\n",
    "plt.text(0.5, Fst_theory, \"theoretical prediction\", ha=\"center\")\n",
    "plt.show()"
   ]
  },
  {
   "cell_type": "markdown",
   "id": "d8070606",
   "metadata": {},
   "source": [
    "Compare variances. To one of the branch-based estimates is lower:"
   ]
  },
  {
   "cell_type": "code",
   "execution_count": 31,
   "id": "e375bc9c",
   "metadata": {},
   "outputs": [
    {
     "data": {
      "text/plain": [
       "(0.000514027107432661, 0.0012015996757774687)"
      ]
     },
     "execution_count": 31,
     "metadata": {},
     "output_type": "execute_result"
    }
   ],
   "source": [
    "np.var(Fst_genealogy), np.var(Fst_genetic_var)"
   ]
  },
  {
   "cell_type": "markdown",
   "id": "c2f1e57b",
   "metadata": {},
   "source": [
    "## Distribution of coalescence times for a sample of 2 haploids"
   ]
  },
  {
   "cell_type": "code",
   "execution_count": 32,
   "id": "9bfdb5b6",
   "metadata": {},
   "outputs": [],
   "source": [
    "tsList = list(msprime.sim_ancestry(\n",
    "    2,\n",
    "    ploidy=1,\n",
    "    population_size=10_000,\n",
    "    num_replicates=10_000\n",
    "))"
   ]
  },
  {
   "cell_type": "code",
   "execution_count": 33,
   "id": "d9969de0",
   "metadata": {},
   "outputs": [
    {
     "data": {
      "image/svg+xml": [
       "<svg baseProfile=\"full\" height=\"200\" version=\"1.1\" width=\"200\" xmlns=\"http://www.w3.org/2000/svg\" xmlns:ev=\"http://www.w3.org/2001/xml-events\" xmlns:xlink=\"http://www.w3.org/1999/xlink\"><defs><style type=\"text/css\"><![CDATA[.background path {fill: #808080; fill-opacity: 0}.background path:nth-child(odd) {fill-opacity: .1}.axes {font-size: 14px}.x-axis .tick .lab {font-weight: bold; dominant-baseline: hanging}.axes, .tree {font-size: 14px; text-anchor: middle}.axes line, .edge {stroke: black; fill: none}.axes .ax-skip {stroke-dasharray: 4}.y-axis .grid {stroke: #FAFAFA}.node > .sym {fill: black; stroke: none}.site > .sym {stroke: black}.mut text {fill: red; font-style: italic}.mut.extra text {fill: hotpink}.mut line {fill: none; stroke: none}.mut .sym {fill: none; stroke: red}.mut.extra .sym {stroke: hotpink}.node .mut .sym {stroke-width: 1.5px}.tree text, .tree-sequence text {dominant-baseline: central}.plotbox .lab.lft {text-anchor: end}.plotbox .lab.rgt {text-anchor: start}]]></style></defs><g class=\"tree-sequence\"><g class=\"background\"><path d=\"M56.8,0 l123.2,0 l0,138.2 l0,25 l0,5 l-123.2,0 l0,-5 l0,-25 l0,-138.2z\" /></g><g class=\"axes\"><g class=\"x-axis\"><g class=\"title\" transform=\"translate(118.4 200)\"><text class=\"lab\" text-anchor=\"middle\" transform=\"translate(0 -11)\">Genome position</text></g><line class=\"ax-line\" x1=\"56.8\" x2=\"180\" y1=\"163.2\" y2=\"163.2\" /><g class=\"ticks\"><g class=\"tick\" transform=\"translate(56.8 163.2)\"><line x1=\"0\" x2=\"0\" y1=\"0\" y2=\"5\" /><g transform=\"translate(0 6)\"><text class=\"lab\">0</text></g></g><g class=\"tick\" transform=\"translate(180 163.2)\"><line x1=\"0\" x2=\"0\" y1=\"0\" y2=\"5\" /><g transform=\"translate(0 6)\"><text class=\"lab\">1</text></g></g></g></g><g class=\"y-axis\"><g class=\"title\" transform=\"translate(0 65.7)\"><text class=\"lab\" text-anchor=\"middle\" transform=\"translate(11) rotate(-90)\">Time (generations)</text></g><line class=\"ax-line\" x1=\"56.8\" x2=\"56.8\" y1=\"121.4\" y2=\"10\" /><g class=\"ticks\"><g class=\"tick\" transform=\"translate(56.8 121.4)\"><line x1=\"0\" x2=\"-5\" y1=\"0\" y2=\"0\" /><g transform=\"translate(-6 0)\"><text class=\"lab\" text-anchor=\"end\">0.00</text></g></g><g class=\"tick\" transform=\"translate(56.8 26.8)\"><line x1=\"0\" x2=\"-5\" y1=\"0\" y2=\"0\" /><g transform=\"translate(-6 0)\"><text class=\"lab\" text-anchor=\"end\">1356.45</text></g></g></g></g></g><g class=\"plotbox trees\"><g class=\"tree t0\" transform=\"translate(56.8 0)\"><g class=\"plotbox\"><g class=\"c2 node n2 p0 root\" transform=\"translate(61.6 26.8)\"><g class=\"a2 i0 leaf node n0 p0 sample\" transform=\"translate(-20.8 94.6)\"><path class=\"edge\" d=\"M 0 0 V -94.6 H 20.8\" /><rect class=\"sym\" height=\"6\" width=\"6\" x=\"-3\" y=\"-3\" /><text class=\"lab\" transform=\"translate(0 11)\">0</text></g><g class=\"a2 i1 leaf node n1 p0 sample\" transform=\"translate(20.8 94.6)\"><path class=\"edge\" d=\"M 0 0 V -94.6 H -20.8\" /><rect class=\"sym\" height=\"6\" width=\"6\" x=\"-3\" y=\"-3\" /><text class=\"lab\" transform=\"translate(0 11)\">1</text></g><circle class=\"sym\" cx=\"0\" cy=\"0\" r=\"3\" /><text class=\"lab\" transform=\"translate(0 -11)\">2</text></g></g></g></g></g></svg>"
      ],
      "text/plain": [
       "'<svg baseProfile=\"full\" height=\"200\" version=\"1.1\" width=\"200\" xmlns=\"http://www.w3.org/2000/svg\" xmlns:ev=\"http://www.w3.org/2001/xml-events\" xmlns:xlink=\"http://www.w3.org/1999/xlink\"><defs><style type=\"text/css\"><![CDATA[.background path {fill: #808080; fill-opacity: 0}.background path:nth-child(odd) {fill-opacity: .1}.axes {font-size: 14px}.x-axis .tick .lab {font-weight: bold; dominant-baseline: hanging}.axes, .tree {font-size: 14px; text-anchor: middle}.axes line, .edge {stroke: black; fill: none}.axes .ax-skip {stroke-dasharray: 4}.y-axis .grid {stroke: #FAFAFA}.node > .sym {fill: black; stroke: none}.site > .sym {stroke: black}.mut text {fill: red; font-style: italic}.mut.extra text {fill: hotpink}.mut line {fill: none; stroke: none}.mut .sym {fill: none; stroke: red}.mut.extra .sym {stroke: hotpink}.node .mut .sym {stroke-width: 1.5px}.tree text, .tree-sequence text {dominant-baseline: central}.plotbox .lab.lft {text-anchor: end}.plotbox .lab.rgt {text-anchor: start}]]></style></defs><g class=\"tree-sequence\"><g class=\"background\"><path d=\"M56.8,0 l123.2,0 l0,138.2 l0,25 l0,5 l-123.2,0 l0,-5 l0,-25 l0,-138.2z\" /></g><g class=\"axes\"><g class=\"x-axis\"><g class=\"title\" transform=\"translate(118.4 200)\"><text class=\"lab\" text-anchor=\"middle\" transform=\"translate(0 -11)\">Genome position</text></g><line class=\"ax-line\" x1=\"56.8\" x2=\"180\" y1=\"163.2\" y2=\"163.2\" /><g class=\"ticks\"><g class=\"tick\" transform=\"translate(56.8 163.2)\"><line x1=\"0\" x2=\"0\" y1=\"0\" y2=\"5\" /><g transform=\"translate(0 6)\"><text class=\"lab\">0</text></g></g><g class=\"tick\" transform=\"translate(180 163.2)\"><line x1=\"0\" x2=\"0\" y1=\"0\" y2=\"5\" /><g transform=\"translate(0 6)\"><text class=\"lab\">1</text></g></g></g></g><g class=\"y-axis\"><g class=\"title\" transform=\"translate(0 65.7)\"><text class=\"lab\" text-anchor=\"middle\" transform=\"translate(11) rotate(-90)\">Time (generations)</text></g><line class=\"ax-line\" x1=\"56.8\" x2=\"56.8\" y1=\"121.4\" y2=\"10\" /><g class=\"ticks\"><g class=\"tick\" transform=\"translate(56.8 121.4)\"><line x1=\"0\" x2=\"-5\" y1=\"0\" y2=\"0\" /><g transform=\"translate(-6 0)\"><text class=\"lab\" text-anchor=\"end\">0.00</text></g></g><g class=\"tick\" transform=\"translate(56.8 26.8)\"><line x1=\"0\" x2=\"-5\" y1=\"0\" y2=\"0\" /><g transform=\"translate(-6 0)\"><text class=\"lab\" text-anchor=\"end\">1356.45</text></g></g></g></g></g><g class=\"plotbox trees\"><g class=\"tree t0\" transform=\"translate(56.8 0)\"><g class=\"plotbox\"><g class=\"c2 node n2 p0 root\" transform=\"translate(61.6 26.8)\"><g class=\"a2 i0 leaf node n0 p0 sample\" transform=\"translate(-20.8 94.6)\"><path class=\"edge\" d=\"M 0 0 V -94.6 H 20.8\" /><rect class=\"sym\" height=\"6\" width=\"6\" x=\"-3\" y=\"-3\" /><text class=\"lab\" transform=\"translate(0 11)\">0</text></g><g class=\"a2 i1 leaf node n1 p0 sample\" transform=\"translate(20.8 94.6)\"><path class=\"edge\" d=\"M 0 0 V -94.6 H -20.8\" /><rect class=\"sym\" height=\"6\" width=\"6\" x=\"-3\" y=\"-3\" /><text class=\"lab\" transform=\"translate(0 11)\">1</text></g><circle class=\"sym\" cx=\"0\" cy=\"0\" r=\"3\" /><text class=\"lab\" transform=\"translate(0 -11)\">2</text></g></g></g></g></g></svg>'"
      ]
     },
     "execution_count": 33,
     "metadata": {},
     "output_type": "execute_result"
    }
   ],
   "source": [
    "tsList[0].draw_svg(y_axis=True)"
   ]
  },
  {
   "cell_type": "code",
   "execution_count": 34,
   "id": "9a3308fd",
   "metadata": {},
   "outputs": [],
   "source": [
    "tList = [i.first().tmrca(0, 1) for i in tsList]"
   ]
  },
  {
   "cell_type": "code",
   "execution_count": 35,
   "id": "13d98ad3",
   "metadata": {},
   "outputs": [
    {
     "data": {
      "image/png": "[encoded data removed]",
      "text/plain": [
       "<Figure size 640x480 with 1 Axes>"
      ]
     },
     "metadata": {},
     "output_type": "display_data"
    }
   ],
   "source": [
    "plt.hist(tList, bins=100)\n",
    "plt.show()"
   ]
  },
  {
   "cell_type": "code",
   "execution_count": null,
   "id": "171b2088",
   "metadata": {},
   "outputs": [],
   "source": []
  }
 ],
 "metadata": {
  "kernelspec": {
   "display_name": "Python 3 (ipykernel)",
   "language": "python",
   "name": "python3"
  },
  "language_info": {
   "codemirror_mode": {
    "name": "ipython",
    "version": 3
   },
   "file_extension": ".py",
   "mimetype": "text/x-python",
   "name": "python",
   "nbconvert_exporter": "python",
   "pygments_lexer": "ipython3",
   "version": "3.9.13"
  }
 },
 "nbformat": 4,
 "nbformat_minor": 5
}
