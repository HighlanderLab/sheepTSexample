{
 "cells": [
  {
   "cell_type": "markdown",
   "id": "ecf3396e",
   "metadata": {},
   "source": [
    "# Sheep TS intro"
   ]
  },
  {
   "cell_type": "markdown",
   "id": "44a90b1d",
   "metadata": {
    "slideshow": {
     "slide_type": "slide"
    }
   },
   "source": [
    "Import required libraries"
   ]
  },
  {
   "cell_type": "code",
   "execution_count": 2,
   "id": "44d3c14c",
   "metadata": {},
   "outputs": [],
   "source": [
    "import tskit"
   ]
  },
  {
   "cell_type": "code",
   "execution_count": 3,
   "id": "4b1b2df0",
   "metadata": {},
   "outputs": [],
   "source": [
    "import numpy as np"
   ]
  },
  {
   "cell_type": "code",
   "execution_count": 4,
   "id": "3d5c5aa8",
   "metadata": {},
   "outputs": [],
   "source": [
    "import subprocess"
   ]
  },
  {
   "cell_type": "markdown",
   "id": "bfa36bdf",
   "metadata": {},
   "source": [
    "Uncomment and run to download the GitHub repo containing the workshop data:"
   ]
  },
  {
   "cell_type": "code",
   "execution_count": 5,
   "id": "676d3eef",
   "metadata": {},
   "outputs": [],
   "source": [
    "#subprocess.run([\"wget\", \"https://github.com/HighlanderLab/sheepTSexample/archive/refs/heads/main.zip\"])"
   ]
  },
  {
   "cell_type": "markdown",
   "id": "b4bcc527",
   "metadata": {},
   "source": [
    "List directory contents (you may have to navigate using `cd`) to see if `main.zip` is present."
   ]
  },
  {
   "cell_type": "code",
   "execution_count": 6,
   "id": "30546269",
   "metadata": {},
   "outputs": [
    {
     "name": "stdout",
     "output_type": "stream",
     "text": [
      "00TSintro.ipynb  01TSanalyses.ipynb  main.zip  main.zip.1  \u001b[0m\u001b[01;34msheepTSexample-main\u001b[0m/\r\n"
     ]
    }
   ],
   "source": [
    "ls"
   ]
  },
  {
   "cell_type": "markdown",
   "id": "f9182bf7",
   "metadata": {},
   "source": [
    "Uncomment an run to decompress `main.zip` (the Gitub repo that contains the workshop data)"
   ]
  },
  {
   "cell_type": "code",
   "execution_count": 7,
   "id": "6da6dc68",
   "metadata": {},
   "outputs": [],
   "source": [
    "#subprocess.run([\"unzip\", \"main.zip\"])"
   ]
  },
  {
   "cell_type": "code",
   "execution_count": 8,
   "id": "01365a2f",
   "metadata": {},
   "outputs": [
    {
     "name": "stdout",
     "output_type": "stream",
     "text": [
      "00TSintro.ipynb  01TSanalyses.ipynb  main.zip  main.zip.1  \u001b[0m\u001b[01;34msheepTSexample-main\u001b[0m/\r\n"
     ]
    }
   ],
   "source": [
    "ls"
   ]
  },
  {
   "cell_type": "code",
   "execution_count": 9,
   "id": "28e9265e",
   "metadata": {},
   "outputs": [
    {
     "name": "stdout",
     "output_type": "stream",
     "text": [
      "01runScrm1M.sh  LICENSE    test1M.out         test1M.out.inf.vcf  ts1\r\n",
      "02inferTs.py    README.md  test1M.out.inf.ts  tiny_ts.ts          ts2\r\n"
     ]
    }
   ],
   "source": [
    "ls sheepTSexample-main/"
   ]
  },
  {
   "cell_type": "markdown",
   "id": "0fc895b5",
   "metadata": {},
   "source": [
    "Load tree sequence"
   ]
  },
  {
   "cell_type": "code",
   "execution_count": 10,
   "id": "0cda18eb",
   "metadata": {},
   "outputs": [],
   "source": [
    "ts = tskit.load(\"sheepTSexample-main/tiny_ts.ts\")"
   ]
  },
  {
   "cell_type": "markdown",
   "id": "d40feb4b",
   "metadata": {},
   "source": [
    "Print out tree sequence summary"
   ]
  },
  {
   "cell_type": "code",
   "execution_count": 11,
   "id": "d2bfbebf",
   "metadata": {},
   "outputs": [
    {
     "data": {
      "text/html": [
       "\n",
       "            <div>\n",
       "              <style>\n",
       "                .tskit-table thead tr th {text-align: left;padding: 0.5em 0.5em;}\n",
       "                .tskit-table tbody tr td {padding: 0.5em 0.5em;}\n",
       "                .tskit-table tbody tr td:first-of-type {text-align: left;}\n",
       "                .tskit-details-label {vertical-align: top; padding-right:5px;}\n",
       "                .tskit-table-set {display: inline-flex;flex-wrap: wrap;margin: -12px 0 0 -12px;width: calc(100% + 12px);}\n",
       "                .tskit-table-set-table {margin: 12px 0 0 12px;}\n",
       "                details {display: inline-block;}\n",
       "                summary {cursor: pointer; outline: 0; display: list-item;}\n",
       "              </style>\n",
       "              <div class=\"tskit-table-set\">\n",
       "                <div class=\"tskit-table-set-table\">\n",
       "                  <table class=\"tskit-table\">\n",
       "                    <thead>\n",
       "                      <tr>\n",
       "                        <th style=\"padding:0;line-height:21px;\">\n",
       "                          <img style=\"height: 32px;display: inline-block;padding: 3px 5px 3px 0;\" src=\"https://raw.githubusercontent.com/tskit-dev/administrative/main/tskit_logo.svg\"/>\n",
       "                          <a target=\"_blank\" href=\"https://tskit.dev/tskit/docs/latest/python-api.html#the-treesequence-class\"> Tree Sequence </a>\n",
       "                        </th>\n",
       "                      </tr>\n",
       "                    </thead>\n",
       "                    <tbody>\n",
       "                      <tr><td>Trees</td><td>3</td></tr>\n",
       "                      <tr><td>Sequence Length</td><td>10000.0</td></tr>\n",
       "                      <tr><td>Time Units</td><td>generations</td></tr>\n",
       "                      <tr><td>Sample Nodes</td><td>4</td></tr>\n",
       "                      <tr><td>Total Size</td><td>3.3 KiB</td></tr>\n",
       "                      <tr>\n",
       "                        <td>Metadata</td><td style=\"text-align: left;\">No Metadata</td></tr>\n",
       "                    </tbody>\n",
       "                  </table>\n",
       "                </div>\n",
       "                <div class=\"tskit-table-set-table\">\n",
       "                  <table class=\"tskit-table\">\n",
       "                    <thead>\n",
       "                      <tr>\n",
       "                        <th style=\"line-height:21px;\">Table</th>\n",
       "                        <th>Rows</th>\n",
       "                        <th>Size</th>\n",
       "                        <th>Has Metadata</th>\n",
       "                      </tr>\n",
       "                    </thead>\n",
       "                    <tbody>\n",
       "                    \n",
       "                  <tr>\n",
       "                    <td>Edges</td>\n",
       "                      <td>12</td>\n",
       "                      <td>392 Bytes</td>\n",
       "                      <td style=\"text-align: center;\">\n",
       "                        \n",
       "                      </td>\n",
       "                    </tr>\n",
       "                \n",
       "                  <tr>\n",
       "                    <td>Individuals</td>\n",
       "                      <td>2</td>\n",
       "                      <td>80 Bytes</td>\n",
       "                      <td style=\"text-align: center;\">\n",
       "                        \n",
       "                      </td>\n",
       "                    </tr>\n",
       "                \n",
       "                  <tr>\n",
       "                    <td>Migrations</td>\n",
       "                      <td>0</td>\n",
       "                      <td>8 Bytes</td>\n",
       "                      <td style=\"text-align: center;\">\n",
       "                        \n",
       "                      </td>\n",
       "                    </tr>\n",
       "                \n",
       "                  <tr>\n",
       "                    <td>Mutations</td>\n",
       "                      <td>10</td>\n",
       "                      <td>386 Bytes</td>\n",
       "                      <td style=\"text-align: center;\">\n",
       "                        \n",
       "                      </td>\n",
       "                    </tr>\n",
       "                \n",
       "                  <tr>\n",
       "                    <td>Nodes</td>\n",
       "                      <td>9</td>\n",
       "                      <td>260 Bytes</td>\n",
       "                      <td style=\"text-align: center;\">\n",
       "                        \n",
       "                      </td>\n",
       "                    </tr>\n",
       "                \n",
       "                  <tr>\n",
       "                    <td>Populations</td>\n",
       "                      <td>1</td>\n",
       "                      <td>224 Bytes</td>\n",
       "                      <td style=\"text-align: center;\">\n",
       "                        ✅\n",
       "                      </td>\n",
       "                    </tr>\n",
       "                \n",
       "                  <tr>\n",
       "                    <td>Provenances</td>\n",
       "                      <td>2</td>\n",
       "                      <td>1.6 KiB</td>\n",
       "                      <td style=\"text-align: center;\">\n",
       "                        \n",
       "                      </td>\n",
       "                    </tr>\n",
       "                \n",
       "                  <tr>\n",
       "                    <td>Sites</td>\n",
       "                      <td>10</td>\n",
       "                      <td>266 Bytes</td>\n",
       "                      <td style=\"text-align: center;\">\n",
       "                        \n",
       "                      </td>\n",
       "                    </tr>\n",
       "                \n",
       "                    </tbody>\n",
       "                  </table>\n",
       "                </div>\n",
       "              </div>\n",
       "            </div>\n",
       "            "
      ],
      "text/plain": [
       "<tskit.trees.TreeSequence at 0x7fcae4d85580>"
      ]
     },
     "execution_count": 11,
     "metadata": {},
     "output_type": "execute_result"
    }
   ],
   "source": [
    "ts"
   ]
  },
  {
   "cell_type": "markdown",
   "id": "d2d79c6a",
   "metadata": {},
   "source": [
    "What type is it?"
   ]
  },
  {
   "cell_type": "code",
   "execution_count": 12,
   "id": "2dc595a4",
   "metadata": {},
   "outputs": [
    {
     "data": {
      "text/plain": [
       "tskit.trees.TreeSequence"
      ]
     },
     "execution_count": 12,
     "metadata": {},
     "output_type": "execute_result"
    }
   ],
   "source": [
    "type(ts)"
   ]
  },
  {
   "cell_type": "markdown",
   "id": "8bff1e14",
   "metadata": {},
   "source": [
    "Visualise (this only makes sense for small TS object with few trees)."
   ]
  },
  {
   "cell_type": "code",
   "execution_count": 13,
   "id": "c2bf2ce1",
   "metadata": {},
   "outputs": [
    {
     "data": {
      "image/svg+xml": [
       "<svg baseProfile=\"full\" height=\"200\" version=\"1.1\" width=\"600\" xmlns=\"http://www.w3.org/2000/svg\" xmlns:ev=\"http://www.w3.org/2001/xml-events\" xmlns:xlink=\"http://www.w3.org/1999/xlink\"><defs><style type=\"text/css\"><![CDATA[.background path {fill: #808080; fill-opacity: 0}.background path:nth-child(odd) {fill-opacity: .1}.axes {font-size: 14px}.x-axis .tick .lab {font-weight: bold; dominant-baseline: hanging}.axes, .tree {font-size: 14px; text-anchor: middle}.axes line, .edge {stroke: black; fill: none}.axes .ax-skip {stroke-dasharray: 4}.y-axis .grid {stroke: #FAFAFA}.node > .sym {fill: black; stroke: none}.site > .sym {stroke: black}.mut text {fill: red; font-style: italic}.mut.extra text {fill: hotpink}.mut line {fill: none; stroke: none}.mut .sym {fill: none; stroke: red}.mut.extra .sym {stroke: hotpink}.node .mut .sym {stroke-width: 1.5px}.tree text, .tree-sequence text {dominant-baseline: central}.plotbox .lab.lft {text-anchor: end}.plotbox .lab.rgt {text-anchor: start}]]></style></defs><g class=\"tree-sequence\"><g class=\"background\"><path d=\"M20,0 l186.667,0 l0,138.2 l-15.3067,25 l0,5 l-171.36,0 l0,-5 l0,-25 l0,-138.2z\" /><path d=\"M206.667,0 l186.667,0 l0,138.2 l-47.3013,25 l0,5 l-154.672,0 l0,-5 l15.307,-25 l0,-138.2z\" /><path d=\"M393.333,0 l186.667,0 l0,138.2 l0,25 l0,5 l-233.968,0 l0,-5 l47.301,-25 l0,-138.2z\" /></g><g class=\"axes\"><g class=\"x-axis\"><g class=\"title\" transform=\"translate(300 200)\"><text class=\"lab\" text-anchor=\"middle\" transform=\"translate(0 -11)\">Genome position</text></g><line class=\"ax-line\" x1=\"20\" x2=\"580\" y1=\"163.2\" y2=\"163.2\" /><g class=\"ticks\"><g class=\"tick\" transform=\"translate(20 163.2)\"><line x1=\"0\" x2=\"0\" y1=\"0\" y2=\"5\" /><g transform=\"translate(0 6)\"><text class=\"lab\">0</text></g></g><g class=\"tick\" transform=\"translate(191.36 163.2)\"><line x1=\"0\" x2=\"0\" y1=\"0\" y2=\"5\" /><g transform=\"translate(0 6)\"><text class=\"lab\">3060</text></g></g><g class=\"tick\" transform=\"translate(346.032 163.2)\"><line x1=\"0\" x2=\"0\" y1=\"0\" y2=\"5\" /><g transform=\"translate(0 6)\"><text class=\"lab\">5822</text></g></g><g class=\"tick\" transform=\"translate(580 163.2)\"><line x1=\"0\" x2=\"0\" y1=\"0\" y2=\"5\" /><g transform=\"translate(0 6)\"><text class=\"lab\">10000</text></g></g></g><g class=\"site s0\" transform=\"translate(182.4 163.2)\"><line class=\"sym\" x1=\"0\" x2=\"0\" y1=\"0\" y2=\"-10\" /><g class=\"mut m0\"><polyline class=\"sym\" points=\"2.5,-6.5 0,-1.5 -2.5,-6.5\" /></g></g><g class=\"site s1\" transform=\"translate(209.896 163.2)\"><line class=\"sym\" x1=\"0\" x2=\"0\" y1=\"0\" y2=\"-10\" /><g class=\"mut m1\"><polyline class=\"sym\" points=\"2.5,-6.5 0,-1.5 -2.5,-6.5\" /></g></g><g class=\"site s2\" transform=\"translate(315.904 163.2)\"><line class=\"sym\" x1=\"0\" x2=\"0\" y1=\"0\" y2=\"-10\" /><g class=\"mut m2\"><polyline class=\"sym\" points=\"2.5,-6.5 0,-1.5 -2.5,-6.5\" /></g></g><g class=\"site s3\" transform=\"translate(364.624 163.2)\"><line class=\"sym\" x1=\"0\" x2=\"0\" y1=\"0\" y2=\"-10\" /><g class=\"mut m3\"><polyline class=\"sym\" points=\"2.5,-6.5 0,-1.5 -2.5,-6.5\" /></g></g><g class=\"site s4\" transform=\"translate(406.512 163.2)\"><line class=\"sym\" x1=\"0\" x2=\"0\" y1=\"0\" y2=\"-10\" /><g class=\"mut m4\"><polyline class=\"sym\" points=\"2.5,-6.5 0,-1.5 -2.5,-6.5\" /></g></g><g class=\"site s5\" transform=\"translate(462.624 163.2)\"><line class=\"sym\" x1=\"0\" x2=\"0\" y1=\"0\" y2=\"-10\" /><g class=\"mut m5\"><polyline class=\"sym\" points=\"2.5,-6.5 0,-1.5 -2.5,-6.5\" /></g></g><g class=\"site s6\" transform=\"translate(464.192 163.2)\"><line class=\"sym\" x1=\"0\" x2=\"0\" y1=\"0\" y2=\"-10\" /><g class=\"mut m6\"><polyline class=\"sym\" points=\"2.5,-6.5 0,-1.5 -2.5,-6.5\" /></g></g><g class=\"site s7\" transform=\"translate(473.824 163.2)\"><line class=\"sym\" x1=\"0\" x2=\"0\" y1=\"0\" y2=\"-10\" /><g class=\"mut m7\"><polyline class=\"sym\" points=\"2.5,-6.5 0,-1.5 -2.5,-6.5\" /></g></g><g class=\"site s8\" transform=\"translate(483.288 163.2)\"><line class=\"sym\" x1=\"0\" x2=\"0\" y1=\"0\" y2=\"-10\" /><g class=\"mut m8\"><polyline class=\"sym\" points=\"2.5,-6.5 0,-1.5 -2.5,-6.5\" /></g></g><g class=\"site s9\" transform=\"translate(514.424 163.2)\"><line class=\"sym\" x1=\"0\" x2=\"0\" y1=\"0\" y2=\"-10\" /><g class=\"mut m9\"><polyline class=\"sym\" points=\"2.5,-6.5 0,-1.5 -2.5,-6.5\" /></g></g></g></g><g class=\"plotbox trees\"><g class=\"tree t0\" transform=\"translate(20 0)\"><g class=\"plotbox\"><g class=\"c2 node n7 p0 root\" transform=\"translate(116.25 80.4706)\"><g class=\"a7 i0 leaf node n1 p0 sample\" transform=\"translate(32.0833 40.9294)\"><path class=\"edge\" d=\"M 0 0 V -40.9294 H -32.0833\" /><rect class=\"sym\" height=\"6\" width=\"6\" x=\"-3\" y=\"-3\" /><text class=\"lab\" transform=\"translate(0 11)\">1</text></g><g class=\"a7 c2 node n5 p0\" transform=\"translate(-32.0833 24.9736)\"><g class=\"a5 i1 leaf node n2 p0 sample\" transform=\"translate(27.5 15.9559)\"><path class=\"edge\" d=\"M 0 0 V -15.9559 H -27.5\" /><rect class=\"sym\" height=\"6\" width=\"6\" x=\"-3\" y=\"-3\" /><text class=\"lab\" transform=\"translate(0 11)\">2</text></g><g class=\"a5 c2 m0 node n4 p0 s0\" transform=\"translate(-27.5 14.766)\"><g class=\"a4 i0 leaf node n0 p0 sample\" transform=\"translate(-18.3333 1.18984)\"><path class=\"edge\" d=\"M 0 0 V -1.18984 H 18.3333\" /><rect class=\"sym\" height=\"6\" width=\"6\" x=\"-3\" y=\"-3\" /><text class=\"lab\" transform=\"translate(0 11)\">0</text></g><g class=\"a4 i1 leaf node n3 p0 sample\" transform=\"translate(18.3333 1.18984)\"><path class=\"edge\" d=\"M 0 0 V -1.18984 H -18.3333\" /><rect class=\"sym\" height=\"6\" width=\"6\" x=\"-3\" y=\"-3\" /><text class=\"lab\" transform=\"translate(0 11)\">3</text></g><path class=\"edge\" d=\"M 0 0 V -14.766 H 27.5\" /><g class=\"mut m0 s0\" transform=\"translate(0 -6.42798)\"><line x1=\"0\" x2=\"0\" y1=\"0\" y2=\"6.42798\" /><path class=\"sym\" d=\"M -3,-3 l 6,6 M -3,3 l 6,-6\" /><text class=\"lab lft\" transform=\"translate(-5 0)\">0</text></g><circle class=\"sym\" cx=\"0\" cy=\"0\" r=\"3\" /><text class=\"lab lft\" transform=\"translate(-3 -7.0)\">4</text></g><path class=\"edge\" d=\"M 0 0 V -24.9736 H 32.0833\" /><circle class=\"sym\" cx=\"0\" cy=\"0\" r=\"3\" /><text class=\"lab lft\" transform=\"translate(-3 -7.0)\">5</text></g><circle class=\"sym\" cx=\"0\" cy=\"0\" r=\"3\" /><text class=\"lab\" transform=\"translate(0 -11)\">7</text></g></g></g><g class=\"tree t1\" transform=\"translate(206.667 0)\"><g class=\"plotbox\"><g class=\"c2 node n7 p0 root\" transform=\"translate(93.3333 80.4706)\"><g class=\"a7 c2 m1 node n4 p0 s1\" transform=\"translate(-36.6667 39.7396)\"><g class=\"a4 i0 leaf node n0 p0 sample\" transform=\"translate(-18.3333 1.18984)\"><path class=\"edge\" d=\"M 0 0 V -1.18984 H 18.3333\" /><rect class=\"sym\" height=\"6\" width=\"6\" x=\"-3\" y=\"-3\" /><text class=\"lab\" transform=\"translate(0 11)\">0</text></g><g class=\"a4 i1 leaf node n3 p0 sample\" transform=\"translate(18.3333 1.18984)\"><path class=\"edge\" d=\"M 0 0 V -1.18984 H -18.3333\" /><rect class=\"sym\" height=\"6\" width=\"6\" x=\"-3\" y=\"-3\" /><text class=\"lab\" transform=\"translate(0 11)\">3</text></g><path class=\"edge\" d=\"M 0 0 V -39.7396 H 36.6667\" /><g class=\"mut m1 s1\" transform=\"translate(0 -11.9082)\"><line x1=\"0\" x2=\"0\" y1=\"0\" y2=\"11.9082\" /><path class=\"sym\" d=\"M -3,-3 l 6,6 M -3,3 l 6,-6\" /><text class=\"lab lft\" transform=\"translate(-5 0)\">1</text></g><circle class=\"sym\" cx=\"0\" cy=\"0\" r=\"3\" /><text class=\"lab lft\" transform=\"translate(-3 -7.0)\">4</text></g><g class=\"a7 c2 node n6 p0\" transform=\"translate(36.6667 22.3113)\"><g class=\"a6 i0 leaf m2 node n1 p0 s2 sample\" transform=\"translate(-18.3333 18.6181)\"><path class=\"edge\" d=\"M 0 0 V -18.6181 H 18.3333\" /><g class=\"mut m2 s2\" transform=\"translate(0 -6.15021)\"><line x1=\"0\" x2=\"0\" y1=\"0\" y2=\"6.15021\" /><path class=\"sym\" d=\"M -3,-3 l 6,6 M -3,3 l 6,-6\" /><text class=\"lab lft\" transform=\"translate(-5 0)\">2</text></g><rect class=\"sym\" height=\"6\" width=\"6\" x=\"-3\" y=\"-3\" /><text class=\"lab\" transform=\"translate(0 11)\">1</text></g><g class=\"a6 i1 leaf node n2 p0 sample\" transform=\"translate(18.3333 18.6181)\"><path class=\"edge\" d=\"M 0 0 V -18.6181 H -18.3333\" /><rect class=\"sym\" height=\"6\" width=\"6\" x=\"-3\" y=\"-3\" /><text class=\"lab\" transform=\"translate(0 11)\">2</text></g><path class=\"edge\" d=\"M 0 0 V -22.3113 H -36.6667\" /><circle class=\"sym\" cx=\"0\" cy=\"0\" r=\"3\" /><text class=\"lab rgt\" transform=\"translate(3 -7.0)\">6</text></g><circle class=\"sym\" cx=\"0\" cy=\"0\" r=\"3\" /><text class=\"lab\" transform=\"translate(0 -11)\">7</text></g></g></g><g class=\"tree t2\" transform=\"translate(393.333 0)\"><g class=\"plotbox\"><g class=\"c2 node n8 p0 root\" transform=\"translate(93.3333 26.8)\"><g class=\"a8 c2 m4 m5 m7 m8 m9 node n4 p0 s4 s5 s7 s8 s9\" transform=\"translate(-36.6667 93.4102)\"><g class=\"a4 i0 leaf node n0 p0 sample\" transform=\"translate(-18.3333 1.18984)\"><path class=\"edge\" d=\"M 0 0 V -1.18984 H 18.3333\" /><rect class=\"sym\" height=\"6\" width=\"6\" x=\"-3\" y=\"-3\" /><text class=\"lab\" transform=\"translate(0 11)\">0</text></g><g class=\"a4 i1 leaf node n3 p0 sample\" transform=\"translate(18.3333 1.18984)\"><path class=\"edge\" d=\"M 0 0 V -1.18984 H -18.3333\" /><rect class=\"sym\" height=\"6\" width=\"6\" x=\"-3\" y=\"-3\" /><text class=\"lab\" transform=\"translate(0 11)\">3</text></g><path class=\"edge\" d=\"M 0 0 V -93.4102 H 36.6667\" /><g class=\"mut m4 s4\" transform=\"translate(0 -79.77)\"><line x1=\"0\" x2=\"0\" y1=\"0\" y2=\"79.77\" /><path class=\"sym\" d=\"M -3,-3 l 6,6 M -3,3 l 6,-6\" /><text class=\"lab lft\" transform=\"translate(-5 0)\">4</text></g><g class=\"mut m9 s9\" transform=\"translate(0 -73.3583)\"><line x1=\"0\" x2=\"0\" y1=\"0\" y2=\"73.3583\" /><path class=\"sym\" d=\"M -3,-3 l 6,6 M -3,3 l 6,-6\" /><text class=\"lab lft\" transform=\"translate(-5 0)\">9</text></g><g class=\"mut m5 s5\" transform=\"translate(0 -47.9734)\"><line x1=\"0\" x2=\"0\" y1=\"0\" y2=\"47.9734\" /><path class=\"sym\" d=\"M -3,-3 l 6,6 M -3,3 l 6,-6\" /><text class=\"lab lft\" transform=\"translate(-5 0)\">5</text></g><g class=\"mut m7 s7\" transform=\"translate(0 -46.1667)\"><line x1=\"0\" x2=\"0\" y1=\"0\" y2=\"46.1667\" /><path class=\"sym\" d=\"M -3,-3 l 6,6 M -3,3 l 6,-6\" /><text class=\"lab lft\" transform=\"translate(-5 0)\">7</text></g><g class=\"mut m8 s8\" transform=\"translate(0 -17.2286)\"><line x1=\"0\" x2=\"0\" y1=\"0\" y2=\"17.2286\" /><path class=\"sym\" d=\"M -3,-3 l 6,6 M -3,3 l 6,-6\" /><text class=\"lab lft\" transform=\"translate(-5 0)\">8</text></g><circle class=\"sym\" cx=\"0\" cy=\"0\" r=\"3\" /><text class=\"lab lft\" transform=\"translate(-3 -7.0)\">4</text></g><g class=\"a8 c2 m3 m6 node n6 p0 s3 s6\" transform=\"translate(36.6667 75.9819)\"><g class=\"a6 i0 leaf node n1 p0 sample\" transform=\"translate(-18.3333 18.6181)\"><path class=\"edge\" d=\"M 0 0 V -18.6181 H 18.3333\" /><rect class=\"sym\" height=\"6\" width=\"6\" x=\"-3\" y=\"-3\" /><text class=\"lab\" transform=\"translate(0 11)\">1</text></g><g class=\"a6 i1 leaf node n2 p0 sample\" transform=\"translate(18.3333 18.6181)\"><path class=\"edge\" d=\"M 0 0 V -18.6181 H -18.3333\" /><rect class=\"sym\" height=\"6\" width=\"6\" x=\"-3\" y=\"-3\" /><text class=\"lab\" transform=\"translate(0 11)\">2</text></g><path class=\"edge\" d=\"M 0 0 V -75.9819 H -36.6667\" /><g class=\"mut m3 s3\" transform=\"translate(0 -73.6745)\"><line x1=\"0\" x2=\"0\" y1=\"0\" y2=\"73.6745\" /><path class=\"sym\" d=\"M -3,-3 l 6,6 M -3,3 l 6,-6\" /><text class=\"lab rgt\" transform=\"translate(5 0)\">3</text></g><g class=\"mut m6 s6\" transform=\"translate(0 -22.568)\"><line x1=\"0\" x2=\"0\" y1=\"0\" y2=\"22.568\" /><path class=\"sym\" d=\"M -3,-3 l 6,6 M -3,3 l 6,-6\" /><text class=\"lab rgt\" transform=\"translate(5 0)\">6</text></g><circle class=\"sym\" cx=\"0\" cy=\"0\" r=\"3\" /><text class=\"lab rgt\" transform=\"translate(3 -7.0)\">6</text></g><circle class=\"sym\" cx=\"0\" cy=\"0\" r=\"3\" /><text class=\"lab\" transform=\"translate(0 -11)\">8</text></g></g></g></g></g></svg>"
      ],
      "text/plain": [
       "'<svg baseProfile=\"full\" height=\"200\" version=\"1.1\" width=\"600\" xmlns=\"http://www.w3.org/2000/svg\" xmlns:ev=\"http://www.w3.org/2001/xml-events\" xmlns:xlink=\"http://www.w3.org/1999/xlink\"><defs><style type=\"text/css\"><![CDATA[.background path {fill: #808080; fill-opacity: 0}.background path:nth-child(odd) {fill-opacity: .1}.axes {font-size: 14px}.x-axis .tick .lab {font-weight: bold; dominant-baseline: hanging}.axes, .tree {font-size: 14px; text-anchor: middle}.axes line, .edge {stroke: black; fill: none}.axes .ax-skip {stroke-dasharray: 4}.y-axis .grid {stroke: #FAFAFA}.node > .sym {fill: black; stroke: none}.site > .sym {stroke: black}.mut text {fill: red; font-style: italic}.mut.extra text {fill: hotpink}.mut line {fill: none; stroke: none}.mut .sym {fill: none; stroke: red}.mut.extra .sym {stroke: hotpink}.node .mut .sym {stroke-width: 1.5px}.tree text, .tree-sequence text {dominant-baseline: central}.plotbox .lab.lft {text-anchor: end}.plotbox .lab.rgt {text-anchor: start}]]></style></defs><g class=\"tree-sequence\"><g class=\"background\"><path d=\"M20,0 l186.667,0 l0,138.2 l-15.3067,25 l0,5 l-171.36,0 l0,-5 l0,-25 l0,-138.2z\" /><path d=\"M206.667,0 l186.667,0 l0,138.2 l-47.3013,25 l0,5 l-154.672,0 l0,-5 l15.307,-25 l0,-138.2z\" /><path d=\"M393.333,0 l186.667,0 l0,138.2 l0,25 l0,5 l-233.968,0 l0,-5 l47.301,-25 l0,-138.2z\" /></g><g class=\"axes\"><g class=\"x-axis\"><g class=\"title\" transform=\"translate(300 200)\"><text class=\"lab\" text-anchor=\"middle\" transform=\"translate(0 -11)\">Genome position</text></g><line class=\"ax-line\" x1=\"20\" x2=\"580\" y1=\"163.2\" y2=\"163.2\" /><g class=\"ticks\"><g class=\"tick\" transform=\"translate(20 163.2)\"><line x1=\"0\" x2=\"0\" y1=\"0\" y2=\"5\" /><g transform=\"translate(0 6)\"><text class=\"lab\">0</text></g></g><g class=\"tick\" transform=\"translate(191.36 163.2)\"><line x1=\"0\" x2=\"0\" y1=\"0\" y2=\"5\" /><g transform=\"translate(0 6)\"><text class=\"lab\">3060</text></g></g><g class=\"tick\" transform=\"translate(346.032 163.2)\"><line x1=\"0\" x2=\"0\" y1=\"0\" y2=\"5\" /><g transform=\"translate(0 6)\"><text class=\"lab\">5822</text></g></g><g class=\"tick\" transform=\"translate(580 163.2)\"><line x1=\"0\" x2=\"0\" y1=\"0\" y2=\"5\" /><g transform=\"translate(0 6)\"><text class=\"lab\">10000</text></g></g></g><g class=\"site s0\" transform=\"translate(182.4 163.2)\"><line class=\"sym\" x1=\"0\" x2=\"0\" y1=\"0\" y2=\"-10\" /><g class=\"mut m0\"><polyline class=\"sym\" points=\"2.5,-6.5 0,-1.5 -2.5,-6.5\" /></g></g><g class=\"site s1\" transform=\"translate(209.896 163.2)\"><line class=\"sym\" x1=\"0\" x2=\"0\" y1=\"0\" y2=\"-10\" /><g class=\"mut m1\"><polyline class=\"sym\" points=\"2.5,-6.5 0,-1.5 -2.5,-6.5\" /></g></g><g class=\"site s2\" transform=\"translate(315.904 163.2)\"><line class=\"sym\" x1=\"0\" x2=\"0\" y1=\"0\" y2=\"-10\" /><g class=\"mut m2\"><polyline class=\"sym\" points=\"2.5,-6.5 0,-1.5 -2.5,-6.5\" /></g></g><g class=\"site s3\" transform=\"translate(364.624 163.2)\"><line class=\"sym\" x1=\"0\" x2=\"0\" y1=\"0\" y2=\"-10\" /><g class=\"mut m3\"><polyline class=\"sym\" points=\"2.5,-6.5 0,-1.5 -2.5,-6.5\" /></g></g><g class=\"site s4\" transform=\"translate(406.512 163.2)\"><line class=\"sym\" x1=\"0\" x2=\"0\" y1=\"0\" y2=\"-10\" /><g class=\"mut m4\"><polyline class=\"sym\" points=\"2.5,-6.5 0,-1.5 -2.5,-6.5\" /></g></g><g class=\"site s5\" transform=\"translate(462.624 163.2)\"><line class=\"sym\" x1=\"0\" x2=\"0\" y1=\"0\" y2=\"-10\" /><g class=\"mut m5\"><polyline class=\"sym\" points=\"2.5,-6.5 0,-1.5 -2.5,-6.5\" /></g></g><g class=\"site s6\" transform=\"translate(464.192 163.2)\"><line class=\"sym\" x1=\"0\" x2=\"0\" y1=\"0\" y2=\"-10\" /><g class=\"mut m6\"><polyline class=\"sym\" points=\"2.5,-6.5 0,-1.5 -2.5,-6.5\" /></g></g><g class=\"site s7\" transform=\"translate(473.824 163.2)\"><line class=\"sym\" x1=\"0\" x2=\"0\" y1=\"0\" y2=\"-10\" /><g class=\"mut m7\"><polyline class=\"sym\" points=\"2.5,-6.5 0,-1.5 -2.5,-6.5\" /></g></g><g class=\"site s8\" transform=\"translate(483.288 163.2)\"><line class=\"sym\" x1=\"0\" x2=\"0\" y1=\"0\" y2=\"-10\" /><g class=\"mut m8\"><polyline class=\"sym\" points=\"2.5,-6.5 0,-1.5 -2.5,-6.5\" /></g></g><g class=\"site s9\" transform=\"translate(514.424 163.2)\"><line class=\"sym\" x1=\"0\" x2=\"0\" y1=\"0\" y2=\"-10\" /><g class=\"mut m9\"><polyline class=\"sym\" points=\"2.5,-6.5 0,-1.5 -2.5,-6.5\" /></g></g></g></g><g class=\"plotbox trees\"><g class=\"tree t0\" transform=\"translate(20 0)\"><g class=\"plotbox\"><g class=\"c2 node n7 p0 root\" transform=\"translate(116.25 80.4706)\"><g class=\"a7 i0 leaf node n1 p0 sample\" transform=\"translate(32.0833 40.9294)\"><path class=\"edge\" d=\"M 0 0 V -40.9294 H -32.0833\" /><rect class=\"sym\" height=\"6\" width=\"6\" x=\"-3\" y=\"-3\" /><text class=\"lab\" transform=\"translate(0 11)\">1</text></g><g class=\"a7 c2 node n5 p0\" transform=\"translate(-32.0833 24.9736)\"><g class=\"a5 i1 leaf node n2 p0 sample\" transform=\"translate(27.5 15.9559)\"><path class=\"edge\" d=\"M 0 0 V -15.9559 H -27.5\" /><rect class=\"sym\" height=\"6\" width=\"6\" x=\"-3\" y=\"-3\" /><text class=\"lab\" transform=\"translate(0 11)\">2</text></g><g class=\"a5 c2 m0 node n4 p0 s0\" transform=\"translate(-27.5 14.766)\"><g class=\"a4 i0 leaf node n0 p0 sample\" transform=\"translate(-18.3333 1.18984)\"><path class=\"edge\" d=\"M 0 0 V -1.18984 H 18.3333\" /><rect class=\"sym\" height=\"6\" width=\"6\" x=\"-3\" y=\"-3\" /><text class=\"lab\" transform=\"translate(0 11)\">0</text></g><g class=\"a4 i1 leaf node n3 p0 sample\" transform=\"translate(18.3333 1.18984)\"><path class=\"edge\" d=\"M 0 0 V -1.18984 H -18.3333\" /><rect class=\"sym\" height=\"6\" width=\"6\" x=\"-3\" y=\"-3\" /><text class=\"lab\" transform=\"translate(0 11)\">3</text></g><path class=\"edge\" d=\"M 0 0 V -14.766 H 27.5\" /><g class=\"mut m0 s0\" transform=\"translate(0 -6.42798)\"><line x1=\"0\" x2=\"0\" y1=\"0\" y2=\"6.42798\" /><path class=\"sym\" d=\"M -3,-3 l 6,6 M -3,3 l 6,-6\" /><text class=\"lab lft\" transform=\"translate(-5 0)\">0</text></g><circle class=\"sym\" cx=\"0\" cy=\"0\" r=\"3\" /><text class=\"lab lft\" transform=\"translate(-3 -7.0)\">4</text></g><path class=\"edge\" d=\"M 0 0 V -24.9736 H 32.0833\" /><circle class=\"sym\" cx=\"0\" cy=\"0\" r=\"3\" /><text class=\"lab lft\" transform=\"translate(-3 -7.0)\">5</text></g><circle class=\"sym\" cx=\"0\" cy=\"0\" r=\"3\" /><text class=\"lab\" transform=\"translate(0 -11)\">7</text></g></g></g><g class=\"tree t1\" transform=\"translate(206.667 0)\"><g class=\"plotbox\"><g class=\"c2 node n7 p0 root\" transform=\"translate(93.3333 80.4706)\"><g class=\"a7 c2 m1 node n4 p0 s1\" transform=\"translate(-36.6667 39.7396)\"><g class=\"a4 i0 leaf node n0 p0 sample\" transform=\"translate(-18.3333 1.18984)\"><path class=\"edge\" d=\"M 0 0 V -1.18984 H 18.3333\" /><rect class=\"sym\" height=\"6\" width=\"6\" x=\"-3\" y=\"-3\" /><text class=\"lab\" transform=\"translate(0 11)\">0</text></g><g class=\"a4 i1 leaf node n3 p0 sample\" transform=\"translate(18.3333 1.18984)\"><path class=\"edge\" d=\"M 0 0 V -1.18984 H -18.3333\" /><rect class=\"sym\" height=\"6\" width=\"6\" x=\"-3\" y=\"-3\" /><text class=\"lab\" transform=\"translate(0 11)\">3</text></g><path class=\"edge\" d=\"M 0 0 V -39.7396 H 36.6667\" /><g class=\"mut m1 s1\" transform=\"translate(0 -11.9082)\"><line x1=\"0\" x2=\"0\" y1=\"0\" y2=\"11.9082\" /><path class=\"sym\" d=\"M -3,-3 l 6,6 M -3,3 l 6,-6\" /><text class=\"lab lft\" transform=\"translate(-5 0)\">1</text></g><circle class=\"sym\" cx=\"0\" cy=\"0\" r=\"3\" /><text class=\"lab lft\" transform=\"translate(-3 -7.0)\">4</text></g><g class=\"a7 c2 node n6 p0\" transform=\"translate(36.6667 22.3113)\"><g class=\"a6 i0 leaf m2 node n1 p0 s2 sample\" transform=\"translate(-18.3333 18.6181)\"><path class=\"edge\" d=\"M 0 0 V -18.6181 H 18.3333\" /><g class=\"mut m2 s2\" transform=\"translate(0 -6.15021)\"><line x1=\"0\" x2=\"0\" y1=\"0\" y2=\"6.15021\" /><path class=\"sym\" d=\"M -3,-3 l 6,6 M -3,3 l 6,-6\" /><text class=\"lab lft\" transform=\"translate(-5 0)\">2</text></g><rect class=\"sym\" height=\"6\" width=\"6\" x=\"-3\" y=\"-3\" /><text class=\"lab\" transform=\"translate(0 11)\">1</text></g><g class=\"a6 i1 leaf node n2 p0 sample\" transform=\"translate(18.3333 18.6181)\"><path class=\"edge\" d=\"M 0 0 V -18.6181 H -18.3333\" /><rect class=\"sym\" height=\"6\" width=\"6\" x=\"-3\" y=\"-3\" /><text class=\"lab\" transform=\"translate(0 11)\">2</text></g><path class=\"edge\" d=\"M 0 0 V -22.3113 H -36.6667\" /><circle class=\"sym\" cx=\"0\" cy=\"0\" r=\"3\" /><text class=\"lab rgt\" transform=\"translate(3 -7.0)\">6</text></g><circle class=\"sym\" cx=\"0\" cy=\"0\" r=\"3\" /><text class=\"lab\" transform=\"translate(0 -11)\">7</text></g></g></g><g class=\"tree t2\" transform=\"translate(393.333 0)\"><g class=\"plotbox\"><g class=\"c2 node n8 p0 root\" transform=\"translate(93.3333 26.8)\"><g class=\"a8 c2 m4 m5 m7 m8 m9 node n4 p0 s4 s5 s7 s8 s9\" transform=\"translate(-36.6667 93.4102)\"><g class=\"a4 i0 leaf node n0 p0 sample\" transform=\"translate(-18.3333 1.18984)\"><path class=\"edge\" d=\"M 0 0 V -1.18984 H 18.3333\" /><rect class=\"sym\" height=\"6\" width=\"6\" x=\"-3\" y=\"-3\" /><text class=\"lab\" transform=\"translate(0 11)\">0</text></g><g class=\"a4 i1 leaf node n3 p0 sample\" transform=\"translate(18.3333 1.18984)\"><path class=\"edge\" d=\"M 0 0 V -1.18984 H -18.3333\" /><rect class=\"sym\" height=\"6\" width=\"6\" x=\"-3\" y=\"-3\" /><text class=\"lab\" transform=\"translate(0 11)\">3</text></g><path class=\"edge\" d=\"M 0 0 V -93.4102 H 36.6667\" /><g class=\"mut m4 s4\" transform=\"translate(0 -79.77)\"><line x1=\"0\" x2=\"0\" y1=\"0\" y2=\"79.77\" /><path class=\"sym\" d=\"M -3,-3 l 6,6 M -3,3 l 6,-6\" /><text class=\"lab lft\" transform=\"translate(-5 0)\">4</text></g><g class=\"mut m9 s9\" transform=\"translate(0 -73.3583)\"><line x1=\"0\" x2=\"0\" y1=\"0\" y2=\"73.3583\" /><path class=\"sym\" d=\"M -3,-3 l 6,6 M -3,3 l 6,-6\" /><text class=\"lab lft\" transform=\"translate(-5 0)\">9</text></g><g class=\"mut m5 s5\" transform=\"translate(0 -47.9734)\"><line x1=\"0\" x2=\"0\" y1=\"0\" y2=\"47.9734\" /><path class=\"sym\" d=\"M -3,-3 l 6,6 M -3,3 l 6,-6\" /><text class=\"lab lft\" transform=\"translate(-5 0)\">5</text></g><g class=\"mut m7 s7\" transform=\"translate(0 -46.1667)\"><line x1=\"0\" x2=\"0\" y1=\"0\" y2=\"46.1667\" /><path class=\"sym\" d=\"M -3,-3 l 6,6 M -3,3 l 6,-6\" /><text class=\"lab lft\" transform=\"translate(-5 0)\">7</text></g><g class=\"mut m8 s8\" transform=\"translate(0 -17.2286)\"><line x1=\"0\" x2=\"0\" y1=\"0\" y2=\"17.2286\" /><path class=\"sym\" d=\"M -3,-3 l 6,6 M -3,3 l 6,-6\" /><text class=\"lab lft\" transform=\"translate(-5 0)\">8</text></g><circle class=\"sym\" cx=\"0\" cy=\"0\" r=\"3\" /><text class=\"lab lft\" transform=\"translate(-3 -7.0)\">4</text></g><g class=\"a8 c2 m3 m6 node n6 p0 s3 s6\" transform=\"translate(36.6667 75.9819)\"><g class=\"a6 i0 leaf node n1 p0 sample\" transform=\"translate(-18.3333 18.6181)\"><path class=\"edge\" d=\"M 0 0 V -18.6181 H 18.3333\" /><rect class=\"sym\" height=\"6\" width=\"6\" x=\"-3\" y=\"-3\" /><text class=\"lab\" transform=\"translate(0 11)\">1</text></g><g class=\"a6 i1 leaf node n2 p0 sample\" transform=\"translate(18.3333 18.6181)\"><path class=\"edge\" d=\"M 0 0 V -18.6181 H -18.3333\" /><rect class=\"sym\" height=\"6\" width=\"6\" x=\"-3\" y=\"-3\" /><text class=\"lab\" transform=\"translate(0 11)\">2</text></g><path class=\"edge\" d=\"M 0 0 V -75.9819 H -36.6667\" /><g class=\"mut m3 s3\" transform=\"translate(0 -73.6745)\"><line x1=\"0\" x2=\"0\" y1=\"0\" y2=\"73.6745\" /><path class=\"sym\" d=\"M -3,-3 l 6,6 M -3,3 l 6,-6\" /><text class=\"lab rgt\" transform=\"translate(5 0)\">3</text></g><g class=\"mut m6 s6\" transform=\"translate(0 -22.568)\"><line x1=\"0\" x2=\"0\" y1=\"0\" y2=\"22.568\" /><path class=\"sym\" d=\"M -3,-3 l 6,6 M -3,3 l 6,-6\" /><text class=\"lab rgt\" transform=\"translate(5 0)\">6</text></g><circle class=\"sym\" cx=\"0\" cy=\"0\" r=\"3\" /><text class=\"lab rgt\" transform=\"translate(3 -7.0)\">6</text></g><circle class=\"sym\" cx=\"0\" cy=\"0\" r=\"3\" /><text class=\"lab\" transform=\"translate(0 -11)\">8</text></g></g></g></g></g></svg>'"
      ]
     },
     "execution_count": 13,
     "metadata": {},
     "output_type": "execute_result"
    }
   ],
   "source": [
    "ts.draw_svg()"
   ]
  },
  {
   "cell_type": "markdown",
   "id": "18d62c89",
   "metadata": {},
   "source": [
    "Draw the same but without (the red) mutations."
   ]
  },
  {
   "cell_type": "code",
   "execution_count": 14,
   "id": "2b3f91c0",
   "metadata": {},
   "outputs": [
    {
     "data": {
      "image/svg+xml": [
       "<svg baseProfile=\"full\" height=\"200\" version=\"1.1\" width=\"600\" xmlns=\"http://www.w3.org/2000/svg\" xmlns:ev=\"http://www.w3.org/2001/xml-events\" xmlns:xlink=\"http://www.w3.org/1999/xlink\"><defs><style type=\"text/css\"><![CDATA[.background path {fill: #808080; fill-opacity: 0}.background path:nth-child(odd) {fill-opacity: .1}.axes {font-size: 14px}.x-axis .tick .lab {font-weight: bold; dominant-baseline: hanging}.axes, .tree {font-size: 14px; text-anchor: middle}.axes line, .edge {stroke: black; fill: none}.axes .ax-skip {stroke-dasharray: 4}.y-axis .grid {stroke: #FAFAFA}.node > .sym {fill: black; stroke: none}.site > .sym {stroke: black}.mut text {fill: red; font-style: italic}.mut.extra text {fill: hotpink}.mut line {fill: none; stroke: none}.mut .sym {fill: none; stroke: red}.mut.extra .sym {stroke: hotpink}.node .mut .sym {stroke-width: 1.5px}.tree text, .tree-sequence text {dominant-baseline: central}.plotbox .lab.lft {text-anchor: end}.plotbox .lab.rgt {text-anchor: start}]]></style></defs><g class=\"tree-sequence\"><g class=\"background\"><path d=\"M20,0 l186.667,0 l0,138.2 l-15.3067,25 l0,5 l-171.36,0 l0,-5 l0,-25 l0,-138.2z\" /><path d=\"M206.667,0 l186.667,0 l0,138.2 l-47.3013,25 l0,5 l-154.672,0 l0,-5 l15.307,-25 l0,-138.2z\" /><path d=\"M393.333,0 l186.667,0 l0,138.2 l0,25 l0,5 l-233.968,0 l0,-5 l47.301,-25 l0,-138.2z\" /></g><g class=\"axes\"><g class=\"x-axis\"><g class=\"title\" transform=\"translate(300 200)\"><text class=\"lab\" text-anchor=\"middle\" transform=\"translate(0 -11)\">Genome position</text></g><line class=\"ax-line\" x1=\"20\" x2=\"580\" y1=\"163.2\" y2=\"163.2\" /><g class=\"ticks\"><g class=\"tick\" transform=\"translate(20 163.2)\"><line x1=\"0\" x2=\"0\" y1=\"0\" y2=\"5\" /><g transform=\"translate(0 6)\"><text class=\"lab\">0</text></g></g><g class=\"tick\" transform=\"translate(191.36 163.2)\"><line x1=\"0\" x2=\"0\" y1=\"0\" y2=\"5\" /><g transform=\"translate(0 6)\"><text class=\"lab\">3060</text></g></g><g class=\"tick\" transform=\"translate(346.032 163.2)\"><line x1=\"0\" x2=\"0\" y1=\"0\" y2=\"5\" /><g transform=\"translate(0 6)\"><text class=\"lab\">5822</text></g></g><g class=\"tick\" transform=\"translate(580 163.2)\"><line x1=\"0\" x2=\"0\" y1=\"0\" y2=\"5\" /><g transform=\"translate(0 6)\"><text class=\"lab\">10000</text></g></g></g></g></g><g class=\"plotbox trees\"><g class=\"tree t0\" transform=\"translate(20 0)\"><g class=\"plotbox\"><g class=\"c2 node n7 p0 root\" transform=\"translate(116.25 80.4706)\"><g class=\"a7 i0 leaf node n1 p0 sample\" transform=\"translate(32.0833 40.9294)\"><path class=\"edge\" d=\"M 0 0 V -40.9294 H -32.0833\" /><rect class=\"sym\" height=\"6\" width=\"6\" x=\"-3\" y=\"-3\" /><text class=\"lab\" transform=\"translate(0 11)\">1</text></g><g class=\"a7 c2 node n5 p0\" transform=\"translate(-32.0833 24.9736)\"><g class=\"a5 i1 leaf node n2 p0 sample\" transform=\"translate(27.5 15.9559)\"><path class=\"edge\" d=\"M 0 0 V -15.9559 H -27.5\" /><rect class=\"sym\" height=\"6\" width=\"6\" x=\"-3\" y=\"-3\" /><text class=\"lab\" transform=\"translate(0 11)\">2</text></g><g class=\"a5 c2 node n4 p0\" transform=\"translate(-27.5 14.766)\"><g class=\"a4 i0 leaf node n0 p0 sample\" transform=\"translate(-18.3333 1.18984)\"><path class=\"edge\" d=\"M 0 0 V -1.18984 H 18.3333\" /><rect class=\"sym\" height=\"6\" width=\"6\" x=\"-3\" y=\"-3\" /><text class=\"lab\" transform=\"translate(0 11)\">0</text></g><g class=\"a4 i1 leaf node n3 p0 sample\" transform=\"translate(18.3333 1.18984)\"><path class=\"edge\" d=\"M 0 0 V -1.18984 H -18.3333\" /><rect class=\"sym\" height=\"6\" width=\"6\" x=\"-3\" y=\"-3\" /><text class=\"lab\" transform=\"translate(0 11)\">3</text></g><path class=\"edge\" d=\"M 0 0 V -14.766 H 27.5\" /><circle class=\"sym\" cx=\"0\" cy=\"0\" r=\"3\" /><text class=\"lab lft\" transform=\"translate(-3 -7.0)\">4</text></g><path class=\"edge\" d=\"M 0 0 V -24.9736 H 32.0833\" /><circle class=\"sym\" cx=\"0\" cy=\"0\" r=\"3\" /><text class=\"lab lft\" transform=\"translate(-3 -7.0)\">5</text></g><circle class=\"sym\" cx=\"0\" cy=\"0\" r=\"3\" /><text class=\"lab\" transform=\"translate(0 -11)\">7</text></g></g></g><g class=\"tree t1\" transform=\"translate(206.667 0)\"><g class=\"plotbox\"><g class=\"c2 node n7 p0 root\" transform=\"translate(93.3333 80.4706)\"><g class=\"a7 c2 node n4 p0\" transform=\"translate(-36.6667 39.7396)\"><g class=\"a4 i0 leaf node n0 p0 sample\" transform=\"translate(-18.3333 1.18984)\"><path class=\"edge\" d=\"M 0 0 V -1.18984 H 18.3333\" /><rect class=\"sym\" height=\"6\" width=\"6\" x=\"-3\" y=\"-3\" /><text class=\"lab\" transform=\"translate(0 11)\">0</text></g><g class=\"a4 i1 leaf node n3 p0 sample\" transform=\"translate(18.3333 1.18984)\"><path class=\"edge\" d=\"M 0 0 V -1.18984 H -18.3333\" /><rect class=\"sym\" height=\"6\" width=\"6\" x=\"-3\" y=\"-3\" /><text class=\"lab\" transform=\"translate(0 11)\">3</text></g><path class=\"edge\" d=\"M 0 0 V -39.7396 H 36.6667\" /><circle class=\"sym\" cx=\"0\" cy=\"0\" r=\"3\" /><text class=\"lab lft\" transform=\"translate(-3 -7.0)\">4</text></g><g class=\"a7 c2 node n6 p0\" transform=\"translate(36.6667 22.3113)\"><g class=\"a6 i0 leaf node n1 p0 sample\" transform=\"translate(-18.3333 18.6181)\"><path class=\"edge\" d=\"M 0 0 V -18.6181 H 18.3333\" /><rect class=\"sym\" height=\"6\" width=\"6\" x=\"-3\" y=\"-3\" /><text class=\"lab\" transform=\"translate(0 11)\">1</text></g><g class=\"a6 i1 leaf node n2 p0 sample\" transform=\"translate(18.3333 18.6181)\"><path class=\"edge\" d=\"M 0 0 V -18.6181 H -18.3333\" /><rect class=\"sym\" height=\"6\" width=\"6\" x=\"-3\" y=\"-3\" /><text class=\"lab\" transform=\"translate(0 11)\">2</text></g><path class=\"edge\" d=\"M 0 0 V -22.3113 H -36.6667\" /><circle class=\"sym\" cx=\"0\" cy=\"0\" r=\"3\" /><text class=\"lab rgt\" transform=\"translate(3 -7.0)\">6</text></g><circle class=\"sym\" cx=\"0\" cy=\"0\" r=\"3\" /><text class=\"lab\" transform=\"translate(0 -11)\">7</text></g></g></g><g class=\"tree t2\" transform=\"translate(393.333 0)\"><g class=\"plotbox\"><g class=\"c2 node n8 p0 root\" transform=\"translate(93.3333 26.8)\"><g class=\"a8 c2 node n4 p0\" transform=\"translate(-36.6667 93.4102)\"><g class=\"a4 i0 leaf node n0 p0 sample\" transform=\"translate(-18.3333 1.18984)\"><path class=\"edge\" d=\"M 0 0 V -1.18984 H 18.3333\" /><rect class=\"sym\" height=\"6\" width=\"6\" x=\"-3\" y=\"-3\" /><text class=\"lab\" transform=\"translate(0 11)\">0</text></g><g class=\"a4 i1 leaf node n3 p0 sample\" transform=\"translate(18.3333 1.18984)\"><path class=\"edge\" d=\"M 0 0 V -1.18984 H -18.3333\" /><rect class=\"sym\" height=\"6\" width=\"6\" x=\"-3\" y=\"-3\" /><text class=\"lab\" transform=\"translate(0 11)\">3</text></g><path class=\"edge\" d=\"M 0 0 V -93.4102 H 36.6667\" /><circle class=\"sym\" cx=\"0\" cy=\"0\" r=\"3\" /><text class=\"lab lft\" transform=\"translate(-3 -7.0)\">4</text></g><g class=\"a8 c2 node n6 p0\" transform=\"translate(36.6667 75.9819)\"><g class=\"a6 i0 leaf node n1 p0 sample\" transform=\"translate(-18.3333 18.6181)\"><path class=\"edge\" d=\"M 0 0 V -18.6181 H 18.3333\" /><rect class=\"sym\" height=\"6\" width=\"6\" x=\"-3\" y=\"-3\" /><text class=\"lab\" transform=\"translate(0 11)\">1</text></g><g class=\"a6 i1 leaf node n2 p0 sample\" transform=\"translate(18.3333 18.6181)\"><path class=\"edge\" d=\"M 0 0 V -18.6181 H -18.3333\" /><rect class=\"sym\" height=\"6\" width=\"6\" x=\"-3\" y=\"-3\" /><text class=\"lab\" transform=\"translate(0 11)\">2</text></g><path class=\"edge\" d=\"M 0 0 V -75.9819 H -36.6667\" /><circle class=\"sym\" cx=\"0\" cy=\"0\" r=\"3\" /><text class=\"lab rgt\" transform=\"translate(3 -7.0)\">6</text></g><circle class=\"sym\" cx=\"0\" cy=\"0\" r=\"3\" /><text class=\"lab\" transform=\"translate(0 -11)\">8</text></g></g></g></g></g></svg>"
      ],
      "text/plain": [
       "'<svg baseProfile=\"full\" height=\"200\" version=\"1.1\" width=\"600\" xmlns=\"http://www.w3.org/2000/svg\" xmlns:ev=\"http://www.w3.org/2001/xml-events\" xmlns:xlink=\"http://www.w3.org/1999/xlink\"><defs><style type=\"text/css\"><![CDATA[.background path {fill: #808080; fill-opacity: 0}.background path:nth-child(odd) {fill-opacity: .1}.axes {font-size: 14px}.x-axis .tick .lab {font-weight: bold; dominant-baseline: hanging}.axes, .tree {font-size: 14px; text-anchor: middle}.axes line, .edge {stroke: black; fill: none}.axes .ax-skip {stroke-dasharray: 4}.y-axis .grid {stroke: #FAFAFA}.node > .sym {fill: black; stroke: none}.site > .sym {stroke: black}.mut text {fill: red; font-style: italic}.mut.extra text {fill: hotpink}.mut line {fill: none; stroke: none}.mut .sym {fill: none; stroke: red}.mut.extra .sym {stroke: hotpink}.node .mut .sym {stroke-width: 1.5px}.tree text, .tree-sequence text {dominant-baseline: central}.plotbox .lab.lft {text-anchor: end}.plotbox .lab.rgt {text-anchor: start}]]></style></defs><g class=\"tree-sequence\"><g class=\"background\"><path d=\"M20,0 l186.667,0 l0,138.2 l-15.3067,25 l0,5 l-171.36,0 l0,-5 l0,-25 l0,-138.2z\" /><path d=\"M206.667,0 l186.667,0 l0,138.2 l-47.3013,25 l0,5 l-154.672,0 l0,-5 l15.307,-25 l0,-138.2z\" /><path d=\"M393.333,0 l186.667,0 l0,138.2 l0,25 l0,5 l-233.968,0 l0,-5 l47.301,-25 l0,-138.2z\" /></g><g class=\"axes\"><g class=\"x-axis\"><g class=\"title\" transform=\"translate(300 200)\"><text class=\"lab\" text-anchor=\"middle\" transform=\"translate(0 -11)\">Genome position</text></g><line class=\"ax-line\" x1=\"20\" x2=\"580\" y1=\"163.2\" y2=\"163.2\" /><g class=\"ticks\"><g class=\"tick\" transform=\"translate(20 163.2)\"><line x1=\"0\" x2=\"0\" y1=\"0\" y2=\"5\" /><g transform=\"translate(0 6)\"><text class=\"lab\">0</text></g></g><g class=\"tick\" transform=\"translate(191.36 163.2)\"><line x1=\"0\" x2=\"0\" y1=\"0\" y2=\"5\" /><g transform=\"translate(0 6)\"><text class=\"lab\">3060</text></g></g><g class=\"tick\" transform=\"translate(346.032 163.2)\"><line x1=\"0\" x2=\"0\" y1=\"0\" y2=\"5\" /><g transform=\"translate(0 6)\"><text class=\"lab\">5822</text></g></g><g class=\"tick\" transform=\"translate(580 163.2)\"><line x1=\"0\" x2=\"0\" y1=\"0\" y2=\"5\" /><g transform=\"translate(0 6)\"><text class=\"lab\">10000</text></g></g></g></g></g><g class=\"plotbox trees\"><g class=\"tree t0\" transform=\"translate(20 0)\"><g class=\"plotbox\"><g class=\"c2 node n7 p0 root\" transform=\"translate(116.25 80.4706)\"><g class=\"a7 i0 leaf node n1 p0 sample\" transform=\"translate(32.0833 40.9294)\"><path class=\"edge\" d=\"M 0 0 V -40.9294 H -32.0833\" /><rect class=\"sym\" height=\"6\" width=\"6\" x=\"-3\" y=\"-3\" /><text class=\"lab\" transform=\"translate(0 11)\">1</text></g><g class=\"a7 c2 node n5 p0\" transform=\"translate(-32.0833 24.9736)\"><g class=\"a5 i1 leaf node n2 p0 sample\" transform=\"translate(27.5 15.9559)\"><path class=\"edge\" d=\"M 0 0 V -15.9559 H -27.5\" /><rect class=\"sym\" height=\"6\" width=\"6\" x=\"-3\" y=\"-3\" /><text class=\"lab\" transform=\"translate(0 11)\">2</text></g><g class=\"a5 c2 node n4 p0\" transform=\"translate(-27.5 14.766)\"><g class=\"a4 i0 leaf node n0 p0 sample\" transform=\"translate(-18.3333 1.18984)\"><path class=\"edge\" d=\"M 0 0 V -1.18984 H 18.3333\" /><rect class=\"sym\" height=\"6\" width=\"6\" x=\"-3\" y=\"-3\" /><text class=\"lab\" transform=\"translate(0 11)\">0</text></g><g class=\"a4 i1 leaf node n3 p0 sample\" transform=\"translate(18.3333 1.18984)\"><path class=\"edge\" d=\"M 0 0 V -1.18984 H -18.3333\" /><rect class=\"sym\" height=\"6\" width=\"6\" x=\"-3\" y=\"-3\" /><text class=\"lab\" transform=\"translate(0 11)\">3</text></g><path class=\"edge\" d=\"M 0 0 V -14.766 H 27.5\" /><circle class=\"sym\" cx=\"0\" cy=\"0\" r=\"3\" /><text class=\"lab lft\" transform=\"translate(-3 -7.0)\">4</text></g><path class=\"edge\" d=\"M 0 0 V -24.9736 H 32.0833\" /><circle class=\"sym\" cx=\"0\" cy=\"0\" r=\"3\" /><text class=\"lab lft\" transform=\"translate(-3 -7.0)\">5</text></g><circle class=\"sym\" cx=\"0\" cy=\"0\" r=\"3\" /><text class=\"lab\" transform=\"translate(0 -11)\">7</text></g></g></g><g class=\"tree t1\" transform=\"translate(206.667 0)\"><g class=\"plotbox\"><g class=\"c2 node n7 p0 root\" transform=\"translate(93.3333 80.4706)\"><g class=\"a7 c2 node n4 p0\" transform=\"translate(-36.6667 39.7396)\"><g class=\"a4 i0 leaf node n0 p0 sample\" transform=\"translate(-18.3333 1.18984)\"><path class=\"edge\" d=\"M 0 0 V -1.18984 H 18.3333\" /><rect class=\"sym\" height=\"6\" width=\"6\" x=\"-3\" y=\"-3\" /><text class=\"lab\" transform=\"translate(0 11)\">0</text></g><g class=\"a4 i1 leaf node n3 p0 sample\" transform=\"translate(18.3333 1.18984)\"><path class=\"edge\" d=\"M 0 0 V -1.18984 H -18.3333\" /><rect class=\"sym\" height=\"6\" width=\"6\" x=\"-3\" y=\"-3\" /><text class=\"lab\" transform=\"translate(0 11)\">3</text></g><path class=\"edge\" d=\"M 0 0 V -39.7396 H 36.6667\" /><circle class=\"sym\" cx=\"0\" cy=\"0\" r=\"3\" /><text class=\"lab lft\" transform=\"translate(-3 -7.0)\">4</text></g><g class=\"a7 c2 node n6 p0\" transform=\"translate(36.6667 22.3113)\"><g class=\"a6 i0 leaf node n1 p0 sample\" transform=\"translate(-18.3333 18.6181)\"><path class=\"edge\" d=\"M 0 0 V -18.6181 H 18.3333\" /><rect class=\"sym\" height=\"6\" width=\"6\" x=\"-3\" y=\"-3\" /><text class=\"lab\" transform=\"translate(0 11)\">1</text></g><g class=\"a6 i1 leaf node n2 p0 sample\" transform=\"translate(18.3333 18.6181)\"><path class=\"edge\" d=\"M 0 0 V -18.6181 H -18.3333\" /><rect class=\"sym\" height=\"6\" width=\"6\" x=\"-3\" y=\"-3\" /><text class=\"lab\" transform=\"translate(0 11)\">2</text></g><path class=\"edge\" d=\"M 0 0 V -22.3113 H -36.6667\" /><circle class=\"sym\" cx=\"0\" cy=\"0\" r=\"3\" /><text class=\"lab rgt\" transform=\"translate(3 -7.0)\">6</text></g><circle class=\"sym\" cx=\"0\" cy=\"0\" r=\"3\" /><text class=\"lab\" transform=\"translate(0 -11)\">7</text></g></g></g><g class=\"tree t2\" transform=\"translate(393.333 0)\"><g class=\"plotbox\"><g class=\"c2 node n8 p0 root\" transform=\"translate(93.3333 26.8)\"><g class=\"a8 c2 node n4 p0\" transform=\"translate(-36.6667 93.4102)\"><g class=\"a4 i0 leaf node n0 p0 sample\" transform=\"translate(-18.3333 1.18984)\"><path class=\"edge\" d=\"M 0 0 V -1.18984 H 18.3333\" /><rect class=\"sym\" height=\"6\" width=\"6\" x=\"-3\" y=\"-3\" /><text class=\"lab\" transform=\"translate(0 11)\">0</text></g><g class=\"a4 i1 leaf node n3 p0 sample\" transform=\"translate(18.3333 1.18984)\"><path class=\"edge\" d=\"M 0 0 V -1.18984 H -18.3333\" /><rect class=\"sym\" height=\"6\" width=\"6\" x=\"-3\" y=\"-3\" /><text class=\"lab\" transform=\"translate(0 11)\">3</text></g><path class=\"edge\" d=\"M 0 0 V -93.4102 H 36.6667\" /><circle class=\"sym\" cx=\"0\" cy=\"0\" r=\"3\" /><text class=\"lab lft\" transform=\"translate(-3 -7.0)\">4</text></g><g class=\"a8 c2 node n6 p0\" transform=\"translate(36.6667 75.9819)\"><g class=\"a6 i0 leaf node n1 p0 sample\" transform=\"translate(-18.3333 18.6181)\"><path class=\"edge\" d=\"M 0 0 V -18.6181 H 18.3333\" /><rect class=\"sym\" height=\"6\" width=\"6\" x=\"-3\" y=\"-3\" /><text class=\"lab\" transform=\"translate(0 11)\">1</text></g><g class=\"a6 i1 leaf node n2 p0 sample\" transform=\"translate(18.3333 18.6181)\"><path class=\"edge\" d=\"M 0 0 V -18.6181 H -18.3333\" /><rect class=\"sym\" height=\"6\" width=\"6\" x=\"-3\" y=\"-3\" /><text class=\"lab\" transform=\"translate(0 11)\">2</text></g><path class=\"edge\" d=\"M 0 0 V -75.9819 H -36.6667\" /><circle class=\"sym\" cx=\"0\" cy=\"0\" r=\"3\" /><text class=\"lab rgt\" transform=\"translate(3 -7.0)\">6</text></g><circle class=\"sym\" cx=\"0\" cy=\"0\" r=\"3\" /><text class=\"lab\" transform=\"translate(0 -11)\">8</text></g></g></g></g></g></svg>'"
      ]
     },
     "execution_count": 14,
     "metadata": {},
     "output_type": "execute_result"
    }
   ],
   "source": [
    "ts.draw_svg(omit_sites=True)"
   ]
  },
  {
   "cell_type": "markdown",
   "id": "bba1f9c7",
   "metadata": {},
   "source": [
    "Selet the first tree in the tree sequence."
   ]
  },
  {
   "cell_type": "code",
   "execution_count": 15,
   "id": "578beced",
   "metadata": {},
   "outputs": [
    {
     "data": {
      "text/html": [
       "\n",
       "            <div>\n",
       "              <style>\n",
       "                .tskit-table thead tr th {text-align: left;padding: 0.5em 0.5em;}\n",
       "                .tskit-table tbody tr td {padding: 0.5em 0.5em;}\n",
       "                .tskit-table tbody tr td:first-of-type {text-align: left;}\n",
       "                .tskit-details-label {vertical-align: top; padding-right:5px;}\n",
       "                .tskit-table-set {display: inline-flex;flex-wrap: wrap;margin: -12px 0 0 -12px;width: calc(100% + 12px);}\n",
       "                .tskit-table-set-table {margin: 12px 0 0 12px;}\n",
       "                details {display: inline-block;}\n",
       "                summary {cursor: pointer; outline: 0; display: list-item;}\n",
       "              </style>\n",
       "              <div class=\"tskit-table-set\">\n",
       "                <div class=\"tskit-table-set-table\">\n",
       "                  <table class=\"tskit-table\">\n",
       "                    <thead>\n",
       "                      <tr>\n",
       "                        <th style=\"padding:0;line-height:21px;\">\n",
       "                          <img style=\"height: 32px;display: inline-block;padding: 3px 5px 3px 0;\" src=\"https://raw.githubusercontent.com/tskit-dev/administrative/main/tskit_logo.svg\"/>\n",
       "                          <a target=\"_blank\" href=\"https://tskit.dev/tskit/docs/latest/python-api.html#the-tree-class\"> Tree </a>\n",
       "                        </th>\n",
       "                      </tr>\n",
       "                    </thead>\n",
       "                    <tbody>\n",
       "                      <tr><td>Index</td><td>0</td></tr>\n",
       "                      <tr><td>Interval</td><td>0-3060 (3060)</td></tr>\n",
       "                      <tr><td>Roots</td><td>1</td></tr>\n",
       "                      <tr><td>Nodes</td><td>7</td></tr>\n",
       "                      <tr><td>Sites</td><td>1</td></tr>\n",
       "                      <tr><td>Mutations</td><td>1</td></tr>\n",
       "                      <tr><td>Total Branch Length</td><td>5676.7054</td></tr>\n",
       "                    </tbody>\n",
       "                  </table>\n",
       "                </div>\n",
       "              </div>\n",
       "            </div>\n",
       "            "
      ],
      "text/plain": [
       "<tskit.trees.Tree at 0x7fcab9807d00>"
      ]
     },
     "execution_count": 15,
     "metadata": {},
     "output_type": "execute_result"
    }
   ],
   "source": [
    "ts.first()"
   ]
  },
  {
   "cell_type": "markdown",
   "id": "60453af8",
   "metadata": {},
   "source": [
    "Plot it:"
   ]
  },
  {
   "cell_type": "code",
   "execution_count": 16,
   "id": "60deb530",
   "metadata": {},
   "outputs": [
    {
     "data": {
      "image/svg+xml": [
       "<svg baseProfile=\"full\" height=\"200\" version=\"1.1\" width=\"200\" xmlns=\"http://www.w3.org/2000/svg\" xmlns:ev=\"http://www.w3.org/2001/xml-events\" xmlns:xlink=\"http://www.w3.org/1999/xlink\"><defs><style type=\"text/css\"><![CDATA[.background path {fill: #808080; fill-opacity: 0}.background path:nth-child(odd) {fill-opacity: .1}.axes {font-size: 14px}.x-axis .tick .lab {font-weight: bold; dominant-baseline: hanging}.axes, .tree {font-size: 14px; text-anchor: middle}.axes line, .edge {stroke: black; fill: none}.axes .ax-skip {stroke-dasharray: 4}.y-axis .grid {stroke: #FAFAFA}.node > .sym {fill: black; stroke: none}.site > .sym {stroke: black}.mut text {fill: red; font-style: italic}.mut.extra text {fill: hotpink}.mut line {fill: none; stroke: none}.mut .sym {fill: none; stroke: red}.mut.extra .sym {stroke: hotpink}.node .mut .sym {stroke-width: 1.5px}.tree text, .tree-sequence text {dominant-baseline: central}.plotbox .lab.lft {text-anchor: end}.plotbox .lab.rgt {text-anchor: start}]]></style></defs><g class=\"tree t0\"><g class=\"plotbox\"><g class=\"c2 node n7 p0 root\" transform=\"translate(125 26.8)\"><g class=\"a7 i0 leaf node n1 p0 sample\" transform=\"translate(35 141.4)\"><path class=\"edge\" d=\"M 0 0 V -141.4 H -35\" /><rect class=\"sym\" height=\"6\" width=\"6\" x=\"-3\" y=\"-3\" /><text class=\"lab\" transform=\"translate(0 11)\">1</text></g><g class=\"a7 c2 node n5 p0\" transform=\"translate(-35 86.2768)\"><g class=\"a5 i1 leaf node n2 p0 sample\" transform=\"translate(30 55.1232)\"><path class=\"edge\" d=\"M 0 0 V -55.1232 H -30\" /><rect class=\"sym\" height=\"6\" width=\"6\" x=\"-3\" y=\"-3\" /><text class=\"lab\" transform=\"translate(0 11)\">2</text></g><g class=\"a5 c2 m0 node n4 p0 s0\" transform=\"translate(-30 51.0126)\"><g class=\"a4 i0 leaf node n0 p0 sample\" transform=\"translate(-20 4.11056)\"><path class=\"edge\" d=\"M 0 0 V -4.11056 H 20\" /><rect class=\"sym\" height=\"6\" width=\"6\" x=\"-3\" y=\"-3\" /><text class=\"lab\" transform=\"translate(0 11)\">0</text></g><g class=\"a4 i1 leaf node n3 p0 sample\" transform=\"translate(20 4.11056)\"><path class=\"edge\" d=\"M 0 0 V -4.11056 H -20\" /><rect class=\"sym\" height=\"6\" width=\"6\" x=\"-3\" y=\"-3\" /><text class=\"lab\" transform=\"translate(0 11)\">3</text></g><path class=\"edge\" d=\"M 0 0 V -51.0126 H 30\" /><g class=\"mut m0 s0\" transform=\"translate(0 -22.2069)\"><line x1=\"0\" x2=\"0\" y1=\"0\" y2=\"22.2069\" /><path class=\"sym\" d=\"M -3,-3 l 6,6 M -3,3 l 6,-6\" /><text class=\"lab lft\" transform=\"translate(-5 0)\">0</text></g><circle class=\"sym\" cx=\"0\" cy=\"0\" r=\"3\" /><text class=\"lab lft\" transform=\"translate(-3 -7.0)\">4</text></g><path class=\"edge\" d=\"M 0 0 V -86.2768 H 35\" /><circle class=\"sym\" cx=\"0\" cy=\"0\" r=\"3\" /><text class=\"lab lft\" transform=\"translate(-3 -7.0)\">5</text></g><circle class=\"sym\" cx=\"0\" cy=\"0\" r=\"3\" /><text class=\"lab\" transform=\"translate(0 -11)\">7</text></g></g></g></svg>"
      ],
      "text/plain": [
       "'<svg baseProfile=\"full\" height=\"200\" version=\"1.1\" width=\"200\" xmlns=\"http://www.w3.org/2000/svg\" xmlns:ev=\"http://www.w3.org/2001/xml-events\" xmlns:xlink=\"http://www.w3.org/1999/xlink\"><defs><style type=\"text/css\"><![CDATA[.background path {fill: #808080; fill-opacity: 0}.background path:nth-child(odd) {fill-opacity: .1}.axes {font-size: 14px}.x-axis .tick .lab {font-weight: bold; dominant-baseline: hanging}.axes, .tree {font-size: 14px; text-anchor: middle}.axes line, .edge {stroke: black; fill: none}.axes .ax-skip {stroke-dasharray: 4}.y-axis .grid {stroke: #FAFAFA}.node > .sym {fill: black; stroke: none}.site > .sym {stroke: black}.mut text {fill: red; font-style: italic}.mut.extra text {fill: hotpink}.mut line {fill: none; stroke: none}.mut .sym {fill: none; stroke: red}.mut.extra .sym {stroke: hotpink}.node .mut .sym {stroke-width: 1.5px}.tree text, .tree-sequence text {dominant-baseline: central}.plotbox .lab.lft {text-anchor: end}.plotbox .lab.rgt {text-anchor: start}]]></style></defs><g class=\"tree t0\"><g class=\"plotbox\"><g class=\"c2 node n7 p0 root\" transform=\"translate(125 26.8)\"><g class=\"a7 i0 leaf node n1 p0 sample\" transform=\"translate(35 141.4)\"><path class=\"edge\" d=\"M 0 0 V -141.4 H -35\" /><rect class=\"sym\" height=\"6\" width=\"6\" x=\"-3\" y=\"-3\" /><text class=\"lab\" transform=\"translate(0 11)\">1</text></g><g class=\"a7 c2 node n5 p0\" transform=\"translate(-35 86.2768)\"><g class=\"a5 i1 leaf node n2 p0 sample\" transform=\"translate(30 55.1232)\"><path class=\"edge\" d=\"M 0 0 V -55.1232 H -30\" /><rect class=\"sym\" height=\"6\" width=\"6\" x=\"-3\" y=\"-3\" /><text class=\"lab\" transform=\"translate(0 11)\">2</text></g><g class=\"a5 c2 m0 node n4 p0 s0\" transform=\"translate(-30 51.0126)\"><g class=\"a4 i0 leaf node n0 p0 sample\" transform=\"translate(-20 4.11056)\"><path class=\"edge\" d=\"M 0 0 V -4.11056 H 20\" /><rect class=\"sym\" height=\"6\" width=\"6\" x=\"-3\" y=\"-3\" /><text class=\"lab\" transform=\"translate(0 11)\">0</text></g><g class=\"a4 i1 leaf node n3 p0 sample\" transform=\"translate(20 4.11056)\"><path class=\"edge\" d=\"M 0 0 V -4.11056 H -20\" /><rect class=\"sym\" height=\"6\" width=\"6\" x=\"-3\" y=\"-3\" /><text class=\"lab\" transform=\"translate(0 11)\">3</text></g><path class=\"edge\" d=\"M 0 0 V -51.0126 H 30\" /><g class=\"mut m0 s0\" transform=\"translate(0 -22.2069)\"><line x1=\"0\" x2=\"0\" y1=\"0\" y2=\"22.2069\" /><path class=\"sym\" d=\"M -3,-3 l 6,6 M -3,3 l 6,-6\" /><text class=\"lab lft\" transform=\"translate(-5 0)\">0</text></g><circle class=\"sym\" cx=\"0\" cy=\"0\" r=\"3\" /><text class=\"lab lft\" transform=\"translate(-3 -7.0)\">4</text></g><path class=\"edge\" d=\"M 0 0 V -86.2768 H 35\" /><circle class=\"sym\" cx=\"0\" cy=\"0\" r=\"3\" /><text class=\"lab lft\" transform=\"translate(-3 -7.0)\">5</text></g><circle class=\"sym\" cx=\"0\" cy=\"0\" r=\"3\" /><text class=\"lab\" transform=\"translate(0 -11)\">7</text></g></g></g></svg>'"
      ]
     },
     "execution_count": 16,
     "metadata": {},
     "output_type": "execute_result"
    }
   ],
   "source": [
    "ts.first().draw_svg()"
   ]
  },
  {
   "cell_type": "markdown",
   "id": "1cc9b10b",
   "metadata": {},
   "source": [
    "Can also plot as text. Don't forget `print()` otherwise it comes out as a string with line break characters."
   ]
  },
  {
   "cell_type": "code",
   "execution_count": 17,
   "id": "688d52e3",
   "metadata": {},
   "outputs": [
    {
     "name": "stdout",
     "output_type": "stream",
     "text": [
      "    7  \n",
      "  ┏━┻━┓\n",
      "  5   ┃\n",
      " ┏┻━┓ ┃\n",
      " 4  ┃ ┃\n",
      "┏┻┓ ┃ ┃\n",
      "0 3 2 1\n",
      "\n"
     ]
    }
   ],
   "source": [
    "print(ts.first().draw_text())"
   ]
  },
  {
   "cell_type": "markdown",
   "id": "99358446",
   "metadata": {},
   "source": [
    "## Look into the table that underlie the tree sequence format"
   ]
  },
  {
   "cell_type": "code",
   "execution_count": 19,
   "id": "04dffff8",
   "metadata": {},
   "outputs": [
    {
     "data": {
      "image/svg+xml": [
       "<svg baseProfile=\"full\" height=\"200\" version=\"1.1\" width=\"600\" xmlns=\"http://www.w3.org/2000/svg\" xmlns:ev=\"http://www.w3.org/2001/xml-events\" xmlns:xlink=\"http://www.w3.org/1999/xlink\"><defs><style type=\"text/css\"><![CDATA[.background path {fill: #808080; fill-opacity: 0}.background path:nth-child(odd) {fill-opacity: .1}.axes {font-size: 14px}.x-axis .tick .lab {font-weight: bold; dominant-baseline: hanging}.axes, .tree {font-size: 14px; text-anchor: middle}.axes line, .edge {stroke: black; fill: none}.axes .ax-skip {stroke-dasharray: 4}.y-axis .grid {stroke: #FAFAFA}.node > .sym {fill: black; stroke: none}.site > .sym {stroke: black}.mut text {fill: red; font-style: italic}.mut.extra text {fill: hotpink}.mut line {fill: none; stroke: none}.mut .sym {fill: none; stroke: red}.mut.extra .sym {stroke: hotpink}.node .mut .sym {stroke-width: 1.5px}.tree text, .tree-sequence text {dominant-baseline: central}.plotbox .lab.lft {text-anchor: end}.plotbox .lab.rgt {text-anchor: start}]]></style></defs><g class=\"tree-sequence\"><g class=\"background\"><path d=\"M20,0 l186.667,0 l0,138.2 l-15.3067,25 l0,5 l-171.36,0 l0,-5 l0,-25 l0,-138.2z\" /><path d=\"M206.667,0 l186.667,0 l0,138.2 l-47.3013,25 l0,5 l-154.672,0 l0,-5 l15.307,-25 l0,-138.2z\" /><path d=\"M393.333,0 l186.667,0 l0,138.2 l0,25 l0,5 l-233.968,0 l0,-5 l47.301,-25 l0,-138.2z\" /></g><g class=\"axes\"><g class=\"x-axis\"><g class=\"title\" transform=\"translate(300 200)\"><text class=\"lab\" text-anchor=\"middle\" transform=\"translate(0 -11)\">Genome position</text></g><line class=\"ax-line\" x1=\"20\" x2=\"580\" y1=\"163.2\" y2=\"163.2\" /><g class=\"ticks\"><g class=\"tick\" transform=\"translate(20 163.2)\"><line x1=\"0\" x2=\"0\" y1=\"0\" y2=\"5\" /><g transform=\"translate(0 6)\"><text class=\"lab\">0</text></g></g><g class=\"tick\" transform=\"translate(191.36 163.2)\"><line x1=\"0\" x2=\"0\" y1=\"0\" y2=\"5\" /><g transform=\"translate(0 6)\"><text class=\"lab\">3060</text></g></g><g class=\"tick\" transform=\"translate(346.032 163.2)\"><line x1=\"0\" x2=\"0\" y1=\"0\" y2=\"5\" /><g transform=\"translate(0 6)\"><text class=\"lab\">5822</text></g></g><g class=\"tick\" transform=\"translate(580 163.2)\"><line x1=\"0\" x2=\"0\" y1=\"0\" y2=\"5\" /><g transform=\"translate(0 6)\"><text class=\"lab\">10000</text></g></g></g></g></g><g class=\"plotbox trees\"><g class=\"tree t0\" transform=\"translate(20 0)\"><g class=\"plotbox\"><g class=\"c2 node n7 p0 root\" transform=\"translate(116.25 80.4706)\"><g class=\"a7 i0 leaf node n1 p0 sample\" transform=\"translate(32.0833 40.9294)\"><path class=\"edge\" d=\"M 0 0 V -40.9294 H -32.0833\" /><rect class=\"sym\" height=\"6\" width=\"6\" x=\"-3\" y=\"-3\" /><text class=\"lab\" transform=\"translate(0 11)\">1</text></g><g class=\"a7 c2 node n5 p0\" transform=\"translate(-32.0833 24.9736)\"><g class=\"a5 i1 leaf node n2 p0 sample\" transform=\"translate(27.5 15.9559)\"><path class=\"edge\" d=\"M 0 0 V -15.9559 H -27.5\" /><rect class=\"sym\" height=\"6\" width=\"6\" x=\"-3\" y=\"-3\" /><text class=\"lab\" transform=\"translate(0 11)\">2</text></g><g class=\"a5 c2 node n4 p0\" transform=\"translate(-27.5 14.766)\"><g class=\"a4 i0 leaf node n0 p0 sample\" transform=\"translate(-18.3333 1.18984)\"><path class=\"edge\" d=\"M 0 0 V -1.18984 H 18.3333\" /><rect class=\"sym\" height=\"6\" width=\"6\" x=\"-3\" y=\"-3\" /><text class=\"lab\" transform=\"translate(0 11)\">0</text></g><g class=\"a4 i1 leaf node n3 p0 sample\" transform=\"translate(18.3333 1.18984)\"><path class=\"edge\" d=\"M 0 0 V -1.18984 H -18.3333\" /><rect class=\"sym\" height=\"6\" width=\"6\" x=\"-3\" y=\"-3\" /><text class=\"lab\" transform=\"translate(0 11)\">3</text></g><path class=\"edge\" d=\"M 0 0 V -14.766 H 27.5\" /><circle class=\"sym\" cx=\"0\" cy=\"0\" r=\"3\" /><text class=\"lab lft\" transform=\"translate(-3 -7.0)\">4</text></g><path class=\"edge\" d=\"M 0 0 V -24.9736 H 32.0833\" /><circle class=\"sym\" cx=\"0\" cy=\"0\" r=\"3\" /><text class=\"lab lft\" transform=\"translate(-3 -7.0)\">5</text></g><circle class=\"sym\" cx=\"0\" cy=\"0\" r=\"3\" /><text class=\"lab\" transform=\"translate(0 -11)\">7</text></g></g></g><g class=\"tree t1\" transform=\"translate(206.667 0)\"><g class=\"plotbox\"><g class=\"c2 node n7 p0 root\" transform=\"translate(93.3333 80.4706)\"><g class=\"a7 c2 node n4 p0\" transform=\"translate(-36.6667 39.7396)\"><g class=\"a4 i0 leaf node n0 p0 sample\" transform=\"translate(-18.3333 1.18984)\"><path class=\"edge\" d=\"M 0 0 V -1.18984 H 18.3333\" /><rect class=\"sym\" height=\"6\" width=\"6\" x=\"-3\" y=\"-3\" /><text class=\"lab\" transform=\"translate(0 11)\">0</text></g><g class=\"a4 i1 leaf node n3 p0 sample\" transform=\"translate(18.3333 1.18984)\"><path class=\"edge\" d=\"M 0 0 V -1.18984 H -18.3333\" /><rect class=\"sym\" height=\"6\" width=\"6\" x=\"-3\" y=\"-3\" /><text class=\"lab\" transform=\"translate(0 11)\">3</text></g><path class=\"edge\" d=\"M 0 0 V -39.7396 H 36.6667\" /><circle class=\"sym\" cx=\"0\" cy=\"0\" r=\"3\" /><text class=\"lab lft\" transform=\"translate(-3 -7.0)\">4</text></g><g class=\"a7 c2 node n6 p0\" transform=\"translate(36.6667 22.3113)\"><g class=\"a6 i0 leaf node n1 p0 sample\" transform=\"translate(-18.3333 18.6181)\"><path class=\"edge\" d=\"M 0 0 V -18.6181 H 18.3333\" /><rect class=\"sym\" height=\"6\" width=\"6\" x=\"-3\" y=\"-3\" /><text class=\"lab\" transform=\"translate(0 11)\">1</text></g><g class=\"a6 i1 leaf node n2 p0 sample\" transform=\"translate(18.3333 18.6181)\"><path class=\"edge\" d=\"M 0 0 V -18.6181 H -18.3333\" /><rect class=\"sym\" height=\"6\" width=\"6\" x=\"-3\" y=\"-3\" /><text class=\"lab\" transform=\"translate(0 11)\">2</text></g><path class=\"edge\" d=\"M 0 0 V -22.3113 H -36.6667\" /><circle class=\"sym\" cx=\"0\" cy=\"0\" r=\"3\" /><text class=\"lab rgt\" transform=\"translate(3 -7.0)\">6</text></g><circle class=\"sym\" cx=\"0\" cy=\"0\" r=\"3\" /><text class=\"lab\" transform=\"translate(0 -11)\">7</text></g></g></g><g class=\"tree t2\" transform=\"translate(393.333 0)\"><g class=\"plotbox\"><g class=\"c2 node n8 p0 root\" transform=\"translate(93.3333 26.8)\"><g class=\"a8 c2 node n4 p0\" transform=\"translate(-36.6667 93.4102)\"><g class=\"a4 i0 leaf node n0 p0 sample\" transform=\"translate(-18.3333 1.18984)\"><path class=\"edge\" d=\"M 0 0 V -1.18984 H 18.3333\" /><rect class=\"sym\" height=\"6\" width=\"6\" x=\"-3\" y=\"-3\" /><text class=\"lab\" transform=\"translate(0 11)\">0</text></g><g class=\"a4 i1 leaf node n3 p0 sample\" transform=\"translate(18.3333 1.18984)\"><path class=\"edge\" d=\"M 0 0 V -1.18984 H -18.3333\" /><rect class=\"sym\" height=\"6\" width=\"6\" x=\"-3\" y=\"-3\" /><text class=\"lab\" transform=\"translate(0 11)\">3</text></g><path class=\"edge\" d=\"M 0 0 V -93.4102 H 36.6667\" /><circle class=\"sym\" cx=\"0\" cy=\"0\" r=\"3\" /><text class=\"lab lft\" transform=\"translate(-3 -7.0)\">4</text></g><g class=\"a8 c2 node n6 p0\" transform=\"translate(36.6667 75.9819)\"><g class=\"a6 i0 leaf node n1 p0 sample\" transform=\"translate(-18.3333 18.6181)\"><path class=\"edge\" d=\"M 0 0 V -18.6181 H 18.3333\" /><rect class=\"sym\" height=\"6\" width=\"6\" x=\"-3\" y=\"-3\" /><text class=\"lab\" transform=\"translate(0 11)\">1</text></g><g class=\"a6 i1 leaf node n2 p0 sample\" transform=\"translate(18.3333 18.6181)\"><path class=\"edge\" d=\"M 0 0 V -18.6181 H -18.3333\" /><rect class=\"sym\" height=\"6\" width=\"6\" x=\"-3\" y=\"-3\" /><text class=\"lab\" transform=\"translate(0 11)\">2</text></g><path class=\"edge\" d=\"M 0 0 V -75.9819 H -36.6667\" /><circle class=\"sym\" cx=\"0\" cy=\"0\" r=\"3\" /><text class=\"lab rgt\" transform=\"translate(3 -7.0)\">6</text></g><circle class=\"sym\" cx=\"0\" cy=\"0\" r=\"3\" /><text class=\"lab\" transform=\"translate(0 -11)\">8</text></g></g></g></g></g></svg>"
      ],
      "text/plain": [
       "'<svg baseProfile=\"full\" height=\"200\" version=\"1.1\" width=\"600\" xmlns=\"http://www.w3.org/2000/svg\" xmlns:ev=\"http://www.w3.org/2001/xml-events\" xmlns:xlink=\"http://www.w3.org/1999/xlink\"><defs><style type=\"text/css\"><![CDATA[.background path {fill: #808080; fill-opacity: 0}.background path:nth-child(odd) {fill-opacity: .1}.axes {font-size: 14px}.x-axis .tick .lab {font-weight: bold; dominant-baseline: hanging}.axes, .tree {font-size: 14px; text-anchor: middle}.axes line, .edge {stroke: black; fill: none}.axes .ax-skip {stroke-dasharray: 4}.y-axis .grid {stroke: #FAFAFA}.node > .sym {fill: black; stroke: none}.site > .sym {stroke: black}.mut text {fill: red; font-style: italic}.mut.extra text {fill: hotpink}.mut line {fill: none; stroke: none}.mut .sym {fill: none; stroke: red}.mut.extra .sym {stroke: hotpink}.node .mut .sym {stroke-width: 1.5px}.tree text, .tree-sequence text {dominant-baseline: central}.plotbox .lab.lft {text-anchor: end}.plotbox .lab.rgt {text-anchor: start}]]></style></defs><g class=\"tree-sequence\"><g class=\"background\"><path d=\"M20,0 l186.667,0 l0,138.2 l-15.3067,25 l0,5 l-171.36,0 l0,-5 l0,-25 l0,-138.2z\" /><path d=\"M206.667,0 l186.667,0 l0,138.2 l-47.3013,25 l0,5 l-154.672,0 l0,-5 l15.307,-25 l0,-138.2z\" /><path d=\"M393.333,0 l186.667,0 l0,138.2 l0,25 l0,5 l-233.968,0 l0,-5 l47.301,-25 l0,-138.2z\" /></g><g class=\"axes\"><g class=\"x-axis\"><g class=\"title\" transform=\"translate(300 200)\"><text class=\"lab\" text-anchor=\"middle\" transform=\"translate(0 -11)\">Genome position</text></g><line class=\"ax-line\" x1=\"20\" x2=\"580\" y1=\"163.2\" y2=\"163.2\" /><g class=\"ticks\"><g class=\"tick\" transform=\"translate(20 163.2)\"><line x1=\"0\" x2=\"0\" y1=\"0\" y2=\"5\" /><g transform=\"translate(0 6)\"><text class=\"lab\">0</text></g></g><g class=\"tick\" transform=\"translate(191.36 163.2)\"><line x1=\"0\" x2=\"0\" y1=\"0\" y2=\"5\" /><g transform=\"translate(0 6)\"><text class=\"lab\">3060</text></g></g><g class=\"tick\" transform=\"translate(346.032 163.2)\"><line x1=\"0\" x2=\"0\" y1=\"0\" y2=\"5\" /><g transform=\"translate(0 6)\"><text class=\"lab\">5822</text></g></g><g class=\"tick\" transform=\"translate(580 163.2)\"><line x1=\"0\" x2=\"0\" y1=\"0\" y2=\"5\" /><g transform=\"translate(0 6)\"><text class=\"lab\">10000</text></g></g></g></g></g><g class=\"plotbox trees\"><g class=\"tree t0\" transform=\"translate(20 0)\"><g class=\"plotbox\"><g class=\"c2 node n7 p0 root\" transform=\"translate(116.25 80.4706)\"><g class=\"a7 i0 leaf node n1 p0 sample\" transform=\"translate(32.0833 40.9294)\"><path class=\"edge\" d=\"M 0 0 V -40.9294 H -32.0833\" /><rect class=\"sym\" height=\"6\" width=\"6\" x=\"-3\" y=\"-3\" /><text class=\"lab\" transform=\"translate(0 11)\">1</text></g><g class=\"a7 c2 node n5 p0\" transform=\"translate(-32.0833 24.9736)\"><g class=\"a5 i1 leaf node n2 p0 sample\" transform=\"translate(27.5 15.9559)\"><path class=\"edge\" d=\"M 0 0 V -15.9559 H -27.5\" /><rect class=\"sym\" height=\"6\" width=\"6\" x=\"-3\" y=\"-3\" /><text class=\"lab\" transform=\"translate(0 11)\">2</text></g><g class=\"a5 c2 node n4 p0\" transform=\"translate(-27.5 14.766)\"><g class=\"a4 i0 leaf node n0 p0 sample\" transform=\"translate(-18.3333 1.18984)\"><path class=\"edge\" d=\"M 0 0 V -1.18984 H 18.3333\" /><rect class=\"sym\" height=\"6\" width=\"6\" x=\"-3\" y=\"-3\" /><text class=\"lab\" transform=\"translate(0 11)\">0</text></g><g class=\"a4 i1 leaf node n3 p0 sample\" transform=\"translate(18.3333 1.18984)\"><path class=\"edge\" d=\"M 0 0 V -1.18984 H -18.3333\" /><rect class=\"sym\" height=\"6\" width=\"6\" x=\"-3\" y=\"-3\" /><text class=\"lab\" transform=\"translate(0 11)\">3</text></g><path class=\"edge\" d=\"M 0 0 V -14.766 H 27.5\" /><circle class=\"sym\" cx=\"0\" cy=\"0\" r=\"3\" /><text class=\"lab lft\" transform=\"translate(-3 -7.0)\">4</text></g><path class=\"edge\" d=\"M 0 0 V -24.9736 H 32.0833\" /><circle class=\"sym\" cx=\"0\" cy=\"0\" r=\"3\" /><text class=\"lab lft\" transform=\"translate(-3 -7.0)\">5</text></g><circle class=\"sym\" cx=\"0\" cy=\"0\" r=\"3\" /><text class=\"lab\" transform=\"translate(0 -11)\">7</text></g></g></g><g class=\"tree t1\" transform=\"translate(206.667 0)\"><g class=\"plotbox\"><g class=\"c2 node n7 p0 root\" transform=\"translate(93.3333 80.4706)\"><g class=\"a7 c2 node n4 p0\" transform=\"translate(-36.6667 39.7396)\"><g class=\"a4 i0 leaf node n0 p0 sample\" transform=\"translate(-18.3333 1.18984)\"><path class=\"edge\" d=\"M 0 0 V -1.18984 H 18.3333\" /><rect class=\"sym\" height=\"6\" width=\"6\" x=\"-3\" y=\"-3\" /><text class=\"lab\" transform=\"translate(0 11)\">0</text></g><g class=\"a4 i1 leaf node n3 p0 sample\" transform=\"translate(18.3333 1.18984)\"><path class=\"edge\" d=\"M 0 0 V -1.18984 H -18.3333\" /><rect class=\"sym\" height=\"6\" width=\"6\" x=\"-3\" y=\"-3\" /><text class=\"lab\" transform=\"translate(0 11)\">3</text></g><path class=\"edge\" d=\"M 0 0 V -39.7396 H 36.6667\" /><circle class=\"sym\" cx=\"0\" cy=\"0\" r=\"3\" /><text class=\"lab lft\" transform=\"translate(-3 -7.0)\">4</text></g><g class=\"a7 c2 node n6 p0\" transform=\"translate(36.6667 22.3113)\"><g class=\"a6 i0 leaf node n1 p0 sample\" transform=\"translate(-18.3333 18.6181)\"><path class=\"edge\" d=\"M 0 0 V -18.6181 H 18.3333\" /><rect class=\"sym\" height=\"6\" width=\"6\" x=\"-3\" y=\"-3\" /><text class=\"lab\" transform=\"translate(0 11)\">1</text></g><g class=\"a6 i1 leaf node n2 p0 sample\" transform=\"translate(18.3333 18.6181)\"><path class=\"edge\" d=\"M 0 0 V -18.6181 H -18.3333\" /><rect class=\"sym\" height=\"6\" width=\"6\" x=\"-3\" y=\"-3\" /><text class=\"lab\" transform=\"translate(0 11)\">2</text></g><path class=\"edge\" d=\"M 0 0 V -22.3113 H -36.6667\" /><circle class=\"sym\" cx=\"0\" cy=\"0\" r=\"3\" /><text class=\"lab rgt\" transform=\"translate(3 -7.0)\">6</text></g><circle class=\"sym\" cx=\"0\" cy=\"0\" r=\"3\" /><text class=\"lab\" transform=\"translate(0 -11)\">7</text></g></g></g><g class=\"tree t2\" transform=\"translate(393.333 0)\"><g class=\"plotbox\"><g class=\"c2 node n8 p0 root\" transform=\"translate(93.3333 26.8)\"><g class=\"a8 c2 node n4 p0\" transform=\"translate(-36.6667 93.4102)\"><g class=\"a4 i0 leaf node n0 p0 sample\" transform=\"translate(-18.3333 1.18984)\"><path class=\"edge\" d=\"M 0 0 V -1.18984 H 18.3333\" /><rect class=\"sym\" height=\"6\" width=\"6\" x=\"-3\" y=\"-3\" /><text class=\"lab\" transform=\"translate(0 11)\">0</text></g><g class=\"a4 i1 leaf node n3 p0 sample\" transform=\"translate(18.3333 1.18984)\"><path class=\"edge\" d=\"M 0 0 V -1.18984 H -18.3333\" /><rect class=\"sym\" height=\"6\" width=\"6\" x=\"-3\" y=\"-3\" /><text class=\"lab\" transform=\"translate(0 11)\">3</text></g><path class=\"edge\" d=\"M 0 0 V -93.4102 H 36.6667\" /><circle class=\"sym\" cx=\"0\" cy=\"0\" r=\"3\" /><text class=\"lab lft\" transform=\"translate(-3 -7.0)\">4</text></g><g class=\"a8 c2 node n6 p0\" transform=\"translate(36.6667 75.9819)\"><g class=\"a6 i0 leaf node n1 p0 sample\" transform=\"translate(-18.3333 18.6181)\"><path class=\"edge\" d=\"M 0 0 V -18.6181 H 18.3333\" /><rect class=\"sym\" height=\"6\" width=\"6\" x=\"-3\" y=\"-3\" /><text class=\"lab\" transform=\"translate(0 11)\">1</text></g><g class=\"a6 i1 leaf node n2 p0 sample\" transform=\"translate(18.3333 18.6181)\"><path class=\"edge\" d=\"M 0 0 V -18.6181 H -18.3333\" /><rect class=\"sym\" height=\"6\" width=\"6\" x=\"-3\" y=\"-3\" /><text class=\"lab\" transform=\"translate(0 11)\">2</text></g><path class=\"edge\" d=\"M 0 0 V -75.9819 H -36.6667\" /><circle class=\"sym\" cx=\"0\" cy=\"0\" r=\"3\" /><text class=\"lab rgt\" transform=\"translate(3 -7.0)\">6</text></g><circle class=\"sym\" cx=\"0\" cy=\"0\" r=\"3\" /><text class=\"lab\" transform=\"translate(0 -11)\">8</text></g></g></g></g></g></svg>'"
      ]
     },
     "execution_count": 19,
     "metadata": {},
     "output_type": "execute_result"
    }
   ],
   "source": [
    "ts.draw_svg(omit_sites=True)"
   ]
  },
  {
   "cell_type": "code",
   "execution_count": 20,
   "id": "6303bdff",
   "metadata": {},
   "outputs": [
    {
     "data": {
      "text/html": [
       "\n",
       "        <div>\n",
       "            <style scoped=\"\">\n",
       "                .tskit-table tbody tr th:only-of-type {vertical-align: middle;}\n",
       "                .tskit-table tbody tr th {vertical-align: top;}\n",
       "                .tskit-table tbody td {text-align: right;padding: 0.5em 0.5em;}\n",
       "                .tskit-table tbody th {padding: 0.5em 0.5em;}\n",
       "            </style>\n",
       "            <table border=\"1\" class=\"tskit-table\">\n",
       "                <thead>\n",
       "                    <tr>\n",
       "                        <th>id</th><th>flags</th><th>population</th><th>individual</th><th>time</th><th>metadata</th>\n",
       "                    </tr>\n",
       "                </thead>\n",
       "                <tbody>\n",
       "                    <tr><td>0</td><td>1</td><td>0</td><td>0</td><td>0.00000000</td><td></td></tr>\n",
       "<tr><td>1</td><td>1</td><td>0</td><td>0</td><td>0.00000000</td><td></td></tr>\n",
       "<tr><td>2</td><td>1</td><td>0</td><td>1</td><td>0.00000000</td><td></td></tr>\n",
       "<tr><td>3</td><td>1</td><td>0</td><td>1</td><td>0.00000000</td><td></td></tr>\n",
       "<tr><td>4</td><td>0</td><td>0</td><td>-1</td><td>68.22262809</td><td></td></tr>\n",
       "<tr><td>5</td><td>0</td><td>0</td><td>-1</td><td>914.87455689</td><td></td></tr>\n",
       "<tr><td>6</td><td>0</td><td>0</td><td>-1</td><td>1067.52208671</td><td></td></tr>\n",
       "<tr><td>7</td><td>0</td><td>0</td><td>-1</td><td>2346.80413120</td><td></td></tr>\n",
       "<tr><td>8</td><td>0</td><td>0</td><td>-1</td><td>5424.15871673</td><td></td></tr>\n",
       "\n",
       "                </tbody>\n",
       "            </table>\n",
       "        </div>\n",
       "    "
      ],
      "text/plain": [
       "<tskit.tables.NodeTable at 0x7fcab97b7a30>"
      ]
     },
     "execution_count": 20,
     "metadata": {},
     "output_type": "execute_result"
    }
   ],
   "source": [
    "ts.tables.nodes"
   ]
  },
  {
   "cell_type": "code",
   "execution_count": 21,
   "id": "8092b55e",
   "metadata": {},
   "outputs": [
    {
     "data": {
      "text/html": [
       "\n",
       "        <div>\n",
       "            <style scoped=\"\">\n",
       "                .tskit-table tbody tr th:only-of-type {vertical-align: middle;}\n",
       "                .tskit-table tbody tr th {vertical-align: top;}\n",
       "                .tskit-table tbody td {text-align: right;padding: 0.5em 0.5em;}\n",
       "                .tskit-table tbody th {padding: 0.5em 0.5em;}\n",
       "            </style>\n",
       "            <table border=\"1\" class=\"tskit-table\">\n",
       "                <thead>\n",
       "                    <tr>\n",
       "                        <th>id</th><th>left</th><th>right</th><th>parent</th><th>child</th><th>metadata</th>\n",
       "                    </tr>\n",
       "                </thead>\n",
       "                <tbody>\n",
       "                    <tr><td>0</td><td>0</td><td>10000</td><td>4</td><td>0</td><td></td></tr>\n",
       "<tr><td>1</td><td>0</td><td>10000</td><td>4</td><td>3</td><td></td></tr>\n",
       "<tr><td>2</td><td>0</td><td>3060</td><td>5</td><td>2</td><td></td></tr>\n",
       "<tr><td>3</td><td>0</td><td>3060</td><td>5</td><td>4</td><td></td></tr>\n",
       "<tr><td>4</td><td>3060</td><td>10000</td><td>6</td><td>1</td><td></td></tr>\n",
       "<tr><td>5</td><td>3060</td><td>10000</td><td>6</td><td>2</td><td></td></tr>\n",
       "<tr><td>6</td><td>0</td><td>3060</td><td>7</td><td>1</td><td></td></tr>\n",
       "<tr><td>7</td><td>3060</td><td>5822</td><td>7</td><td>4</td><td></td></tr>\n",
       "<tr><td>8</td><td>0</td><td>3060</td><td>7</td><td>5</td><td></td></tr>\n",
       "<tr><td>9</td><td>3060</td><td>5822</td><td>7</td><td>6</td><td></td></tr>\n",
       "<tr><td>10</td><td>5822</td><td>10000</td><td>8</td><td>4</td><td></td></tr>\n",
       "<tr><td>11</td><td>5822</td><td>10000</td><td>8</td><td>6</td><td></td></tr>\n",
       "\n",
       "                </tbody>\n",
       "            </table>\n",
       "        </div>\n",
       "    "
      ],
      "text/plain": [
       "<tskit.tables.EdgeTable at 0x7fcab97b7b20>"
      ]
     },
     "execution_count": 21,
     "metadata": {},
     "output_type": "execute_result"
    }
   ],
   "source": [
    "ts.tables.edges"
   ]
  },
  {
   "cell_type": "code",
   "execution_count": 22,
   "id": "f0fb73d3",
   "metadata": {},
   "outputs": [
    {
     "data": {
      "image/svg+xml": [
       "<svg baseProfile=\"full\" height=\"200\" version=\"1.1\" width=\"600\" xmlns=\"http://www.w3.org/2000/svg\" xmlns:ev=\"http://www.w3.org/2001/xml-events\" xmlns:xlink=\"http://www.w3.org/1999/xlink\"><defs><style type=\"text/css\"><![CDATA[.background path {fill: #808080; fill-opacity: 0}.background path:nth-child(odd) {fill-opacity: .1}.axes {font-size: 14px}.x-axis .tick .lab {font-weight: bold; dominant-baseline: hanging}.axes, .tree {font-size: 14px; text-anchor: middle}.axes line, .edge {stroke: black; fill: none}.axes .ax-skip {stroke-dasharray: 4}.y-axis .grid {stroke: #FAFAFA}.node > .sym {fill: black; stroke: none}.site > .sym {stroke: black}.mut text {fill: red; font-style: italic}.mut.extra text {fill: hotpink}.mut line {fill: none; stroke: none}.mut .sym {fill: none; stroke: red}.mut.extra .sym {stroke: hotpink}.node .mut .sym {stroke-width: 1.5px}.tree text, .tree-sequence text {dominant-baseline: central}.plotbox .lab.lft {text-anchor: end}.plotbox .lab.rgt {text-anchor: start}]]></style></defs><g class=\"tree-sequence\"><g class=\"background\"><path d=\"M56.8,0 l174.4,0 l0,138.2 l-14.3008,25 l0,5 l-160.099,0 l0,-5 l0,-25 l0,-138.2z\" /><path d=\"M231.2,0 l174.4,0 l0,138.2 l-44.193,25 l0,5 l-144.508,0 l0,-5 l14.301,-25 l0,-138.2z\" /><path d=\"M405.6,0 l174.4,0 l0,138.2 l0,25 l0,5 l-218.593,0 l0,-5 l44.193,-25 l0,-138.2z\" /></g><g class=\"axes\"><g class=\"x-axis\"><g class=\"title\" transform=\"translate(318.4 200)\"><text class=\"lab\" text-anchor=\"middle\" transform=\"translate(0 -11)\">Genome position</text></g><line class=\"ax-line\" x1=\"56.8\" x2=\"580\" y1=\"163.2\" y2=\"163.2\" /><g class=\"ticks\"><g class=\"tick\" transform=\"translate(56.8 163.2)\"><line x1=\"0\" x2=\"0\" y1=\"0\" y2=\"5\" /><g transform=\"translate(0 6)\"><text class=\"lab\">0</text></g></g><g class=\"tick\" transform=\"translate(216.899 163.2)\"><line x1=\"0\" x2=\"0\" y1=\"0\" y2=\"5\" /><g transform=\"translate(0 6)\"><text class=\"lab\">3060</text></g></g><g class=\"tick\" transform=\"translate(361.407 163.2)\"><line x1=\"0\" x2=\"0\" y1=\"0\" y2=\"5\" /><g transform=\"translate(0 6)\"><text class=\"lab\">5822</text></g></g><g class=\"tick\" transform=\"translate(580 163.2)\"><line x1=\"0\" x2=\"0\" y1=\"0\" y2=\"5\" /><g transform=\"translate(0 6)\"><text class=\"lab\">10000</text></g></g></g><g class=\"site s0\" transform=\"translate(208.528 163.2)\"><line class=\"sym\" x1=\"0\" x2=\"0\" y1=\"0\" y2=\"-10\" /><g class=\"mut m0\"><polyline class=\"sym\" points=\"2.5,-6.5 0,-1.5 -2.5,-6.5\" /></g></g><g class=\"site s1\" transform=\"translate(234.217 163.2)\"><line class=\"sym\" x1=\"0\" x2=\"0\" y1=\"0\" y2=\"-10\" /><g class=\"mut m1\"><polyline class=\"sym\" points=\"2.5,-6.5 0,-1.5 -2.5,-6.5\" /></g></g><g class=\"site s2\" transform=\"translate(333.259 163.2)\"><line class=\"sym\" x1=\"0\" x2=\"0\" y1=\"0\" y2=\"-10\" /><g class=\"mut m2\"><polyline class=\"sym\" points=\"2.5,-6.5 0,-1.5 -2.5,-6.5\" /></g></g><g class=\"site s3\" transform=\"translate(378.777 163.2)\"><line class=\"sym\" x1=\"0\" x2=\"0\" y1=\"0\" y2=\"-10\" /><g class=\"mut m3\"><polyline class=\"sym\" points=\"2.5,-6.5 0,-1.5 -2.5,-6.5\" /></g></g><g class=\"site s4\" transform=\"translate(417.913 163.2)\"><line class=\"sym\" x1=\"0\" x2=\"0\" y1=\"0\" y2=\"-10\" /><g class=\"mut m4\"><polyline class=\"sym\" points=\"2.5,-6.5 0,-1.5 -2.5,-6.5\" /></g></g><g class=\"site s5\" transform=\"translate(470.337 163.2)\"><line class=\"sym\" x1=\"0\" x2=\"0\" y1=\"0\" y2=\"-10\" /><g class=\"mut m5\"><polyline class=\"sym\" points=\"2.5,-6.5 0,-1.5 -2.5,-6.5\" /></g></g><g class=\"site s6\" transform=\"translate(471.802 163.2)\"><line class=\"sym\" x1=\"0\" x2=\"0\" y1=\"0\" y2=\"-10\" /><g class=\"mut m6\"><polyline class=\"sym\" points=\"2.5,-6.5 0,-1.5 -2.5,-6.5\" /></g></g><g class=\"site s7\" transform=\"translate(480.801 163.2)\"><line class=\"sym\" x1=\"0\" x2=\"0\" y1=\"0\" y2=\"-10\" /><g class=\"mut m7\"><polyline class=\"sym\" points=\"2.5,-6.5 0,-1.5 -2.5,-6.5\" /></g></g><g class=\"site s8\" transform=\"translate(489.643 163.2)\"><line class=\"sym\" x1=\"0\" x2=\"0\" y1=\"0\" y2=\"-10\" /><g class=\"mut m8\"><polyline class=\"sym\" points=\"2.5,-6.5 0,-1.5 -2.5,-6.5\" /></g></g><g class=\"site s9\" transform=\"translate(518.733 163.2)\"><line class=\"sym\" x1=\"0\" x2=\"0\" y1=\"0\" y2=\"-10\" /><g class=\"mut m9\"><polyline class=\"sym\" points=\"2.5,-6.5 0,-1.5 -2.5,-6.5\" /></g></g></g><g class=\"y-axis\"><g class=\"title\" transform=\"translate(0 65.7)\"><text class=\"lab\" text-anchor=\"middle\" transform=\"translate(11) rotate(-90)\">Time (generations)</text></g><line class=\"ax-line\" x1=\"56.8\" x2=\"56.8\" y1=\"121.4\" y2=\"10\" /><g class=\"ticks\"><g class=\"tick\" transform=\"translate(56.8 121.4)\"><line x1=\"0\" x2=\"-5\" y1=\"0\" y2=\"0\" /><g transform=\"translate(-6 0)\"><text class=\"lab\" text-anchor=\"end\">0.00</text></g></g><g class=\"tick\" transform=\"translate(56.8 120.21)\"><line x1=\"0\" x2=\"-5\" y1=\"0\" y2=\"0\" /><g transform=\"translate(-6 0)\"><text class=\"lab\" text-anchor=\"end\">68.22</text></g></g><g class=\"tick\" transform=\"translate(56.8 105.444)\"><line x1=\"0\" x2=\"-5\" y1=\"0\" y2=\"0\" /><g transform=\"translate(-6 0)\"><text class=\"lab\" text-anchor=\"end\">914.87</text></g></g><g class=\"tick\" transform=\"translate(56.8 102.782)\"><line x1=\"0\" x2=\"-5\" y1=\"0\" y2=\"0\" /><g transform=\"translate(-6 0)\"><text class=\"lab\" text-anchor=\"end\">1067.52</text></g></g><g class=\"tick\" transform=\"translate(56.8 80.4706)\"><line x1=\"0\" x2=\"-5\" y1=\"0\" y2=\"0\" /><g transform=\"translate(-6 0)\"><text class=\"lab\" text-anchor=\"end\">2346.80</text></g></g><g class=\"tick\" transform=\"translate(56.8 26.8)\"><line x1=\"0\" x2=\"-5\" y1=\"0\" y2=\"0\" /><g transform=\"translate(-6 0)\"><text class=\"lab\" text-anchor=\"end\">5424.16</text></g></g></g></g></g><g class=\"plotbox trees\"><g class=\"tree t0\" transform=\"translate(56.8 0)\"><g class=\"plotbox\"><g class=\"c2 node n7 p0 root\" transform=\"translate(108.2 80.4706)\"><g class=\"a7 i0 leaf node n1 p0 sample\" transform=\"translate(29.4 40.9294)\"><path class=\"edge\" d=\"M 0 0 V -40.9294 H -29.4\" /><rect class=\"sym\" height=\"6\" width=\"6\" x=\"-3\" y=\"-3\" /><text class=\"lab\" transform=\"translate(0 11)\">1</text></g><g class=\"a7 c2 node n5 p0\" transform=\"translate(-29.4 24.9736)\"><g class=\"a5 i1 leaf node n2 p0 sample\" transform=\"translate(25.2 15.9559)\"><path class=\"edge\" d=\"M 0 0 V -15.9559 H -25.2\" /><rect class=\"sym\" height=\"6\" width=\"6\" x=\"-3\" y=\"-3\" /><text class=\"lab\" transform=\"translate(0 11)\">2</text></g><g class=\"a5 c2 m0 node n4 p0 s0\" transform=\"translate(-25.2 14.766)\"><g class=\"a4 i0 leaf node n0 p0 sample\" transform=\"translate(-16.8 1.18984)\"><path class=\"edge\" d=\"M 0 0 V -1.18984 H 16.8\" /><rect class=\"sym\" height=\"6\" width=\"6\" x=\"-3\" y=\"-3\" /><text class=\"lab\" transform=\"translate(0 11)\">0</text></g><g class=\"a4 i1 leaf node n3 p0 sample\" transform=\"translate(16.8 1.18984)\"><path class=\"edge\" d=\"M 0 0 V -1.18984 H -16.8\" /><rect class=\"sym\" height=\"6\" width=\"6\" x=\"-3\" y=\"-3\" /><text class=\"lab\" transform=\"translate(0 11)\">3</text></g><path class=\"edge\" d=\"M 0 0 V -14.766 H 25.2\" /><g class=\"mut m0 s0\" transform=\"translate(0 -6.42798)\"><line x1=\"0\" x2=\"0\" y1=\"0\" y2=\"6.42798\" /><path class=\"sym\" d=\"M -3,-3 l 6,6 M -3,3 l 6,-6\" /><text class=\"lab lft\" transform=\"translate(-5 0)\">0</text></g><circle class=\"sym\" cx=\"0\" cy=\"0\" r=\"3\" /><text class=\"lab lft\" transform=\"translate(-3 -7.0)\">4</text></g><path class=\"edge\" d=\"M 0 0 V -24.9736 H 29.4\" /><circle class=\"sym\" cx=\"0\" cy=\"0\" r=\"3\" /><text class=\"lab lft\" transform=\"translate(-3 -7.0)\">5</text></g><circle class=\"sym\" cx=\"0\" cy=\"0\" r=\"3\" /><text class=\"lab\" transform=\"translate(0 -11)\">7</text></g></g></g><g class=\"tree t1\" transform=\"translate(231.2 0)\"><g class=\"plotbox\"><g class=\"c2 node n7 p0 root\" transform=\"translate(87.2 80.4706)\"><g class=\"a7 c2 m1 node n4 p0 s1\" transform=\"translate(-33.6 39.7396)\"><g class=\"a4 i0 leaf node n0 p0 sample\" transform=\"translate(-16.8 1.18984)\"><path class=\"edge\" d=\"M 0 0 V -1.18984 H 16.8\" /><rect class=\"sym\" height=\"6\" width=\"6\" x=\"-3\" y=\"-3\" /><text class=\"lab\" transform=\"translate(0 11)\">0</text></g><g class=\"a4 i1 leaf node n3 p0 sample\" transform=\"translate(16.8 1.18984)\"><path class=\"edge\" d=\"M 0 0 V -1.18984 H -16.8\" /><rect class=\"sym\" height=\"6\" width=\"6\" x=\"-3\" y=\"-3\" /><text class=\"lab\" transform=\"translate(0 11)\">3</text></g><path class=\"edge\" d=\"M 0 0 V -39.7396 H 33.6\" /><g class=\"mut m1 s1\" transform=\"translate(0 -11.9082)\"><line x1=\"0\" x2=\"0\" y1=\"0\" y2=\"11.9082\" /><path class=\"sym\" d=\"M -3,-3 l 6,6 M -3,3 l 6,-6\" /><text class=\"lab lft\" transform=\"translate(-5 0)\">1</text></g><circle class=\"sym\" cx=\"0\" cy=\"0\" r=\"3\" /><text class=\"lab lft\" transform=\"translate(-3 -7.0)\">4</text></g><g class=\"a7 c2 node n6 p0\" transform=\"translate(33.6 22.3113)\"><g class=\"a6 i0 leaf m2 node n1 p0 s2 sample\" transform=\"translate(-16.8 18.6181)\"><path class=\"edge\" d=\"M 0 0 V -18.6181 H 16.8\" /><g class=\"mut m2 s2\" transform=\"translate(0 -6.15021)\"><line x1=\"0\" x2=\"0\" y1=\"0\" y2=\"6.15021\" /><path class=\"sym\" d=\"M -3,-3 l 6,6 M -3,3 l 6,-6\" /><text class=\"lab lft\" transform=\"translate(-5 0)\">2</text></g><rect class=\"sym\" height=\"6\" width=\"6\" x=\"-3\" y=\"-3\" /><text class=\"lab\" transform=\"translate(0 11)\">1</text></g><g class=\"a6 i1 leaf node n2 p0 sample\" transform=\"translate(16.8 18.6181)\"><path class=\"edge\" d=\"M 0 0 V -18.6181 H -16.8\" /><rect class=\"sym\" height=\"6\" width=\"6\" x=\"-3\" y=\"-3\" /><text class=\"lab\" transform=\"translate(0 11)\">2</text></g><path class=\"edge\" d=\"M 0 0 V -22.3113 H -33.6\" /><circle class=\"sym\" cx=\"0\" cy=\"0\" r=\"3\" /><text class=\"lab rgt\" transform=\"translate(3 -7.0)\">6</text></g><circle class=\"sym\" cx=\"0\" cy=\"0\" r=\"3\" /><text class=\"lab\" transform=\"translate(0 -11)\">7</text></g></g></g><g class=\"tree t2\" transform=\"translate(405.6 0)\"><g class=\"plotbox\"><g class=\"c2 node n8 p0 root\" transform=\"translate(87.2 26.8)\"><g class=\"a8 c2 m4 m5 m7 m8 m9 node n4 p0 s4 s5 s7 s8 s9\" transform=\"translate(-33.6 93.4102)\"><g class=\"a4 i0 leaf node n0 p0 sample\" transform=\"translate(-16.8 1.18984)\"><path class=\"edge\" d=\"M 0 0 V -1.18984 H 16.8\" /><rect class=\"sym\" height=\"6\" width=\"6\" x=\"-3\" y=\"-3\" /><text class=\"lab\" transform=\"translate(0 11)\">0</text></g><g class=\"a4 i1 leaf node n3 p0 sample\" transform=\"translate(16.8 1.18984)\"><path class=\"edge\" d=\"M 0 0 V -1.18984 H -16.8\" /><rect class=\"sym\" height=\"6\" width=\"6\" x=\"-3\" y=\"-3\" /><text class=\"lab\" transform=\"translate(0 11)\">3</text></g><path class=\"edge\" d=\"M 0 0 V -93.4102 H 33.6\" /><g class=\"mut m4 s4\" transform=\"translate(0 -79.77)\"><line x1=\"0\" x2=\"0\" y1=\"0\" y2=\"79.77\" /><path class=\"sym\" d=\"M -3,-3 l 6,6 M -3,3 l 6,-6\" /><text class=\"lab lft\" transform=\"translate(-5 0)\">4</text></g><g class=\"mut m9 s9\" transform=\"translate(0 -73.3583)\"><line x1=\"0\" x2=\"0\" y1=\"0\" y2=\"73.3583\" /><path class=\"sym\" d=\"M -3,-3 l 6,6 M -3,3 l 6,-6\" /><text class=\"lab lft\" transform=\"translate(-5 0)\">9</text></g><g class=\"mut m5 s5\" transform=\"translate(0 -47.9734)\"><line x1=\"0\" x2=\"0\" y1=\"0\" y2=\"47.9734\" /><path class=\"sym\" d=\"M -3,-3 l 6,6 M -3,3 l 6,-6\" /><text class=\"lab lft\" transform=\"translate(-5 0)\">5</text></g><g class=\"mut m7 s7\" transform=\"translate(0 -46.1667)\"><line x1=\"0\" x2=\"0\" y1=\"0\" y2=\"46.1667\" /><path class=\"sym\" d=\"M -3,-3 l 6,6 M -3,3 l 6,-6\" /><text class=\"lab lft\" transform=\"translate(-5 0)\">7</text></g><g class=\"mut m8 s8\" transform=\"translate(0 -17.2286)\"><line x1=\"0\" x2=\"0\" y1=\"0\" y2=\"17.2286\" /><path class=\"sym\" d=\"M -3,-3 l 6,6 M -3,3 l 6,-6\" /><text class=\"lab lft\" transform=\"translate(-5 0)\">8</text></g><circle class=\"sym\" cx=\"0\" cy=\"0\" r=\"3\" /><text class=\"lab lft\" transform=\"translate(-3 -7.0)\">4</text></g><g class=\"a8 c2 m3 m6 node n6 p0 s3 s6\" transform=\"translate(33.6 75.9819)\"><g class=\"a6 i0 leaf node n1 p0 sample\" transform=\"translate(-16.8 18.6181)\"><path class=\"edge\" d=\"M 0 0 V -18.6181 H 16.8\" /><rect class=\"sym\" height=\"6\" width=\"6\" x=\"-3\" y=\"-3\" /><text class=\"lab\" transform=\"translate(0 11)\">1</text></g><g class=\"a6 i1 leaf node n2 p0 sample\" transform=\"translate(16.8 18.6181)\"><path class=\"edge\" d=\"M 0 0 V -18.6181 H -16.8\" /><rect class=\"sym\" height=\"6\" width=\"6\" x=\"-3\" y=\"-3\" /><text class=\"lab\" transform=\"translate(0 11)\">2</text></g><path class=\"edge\" d=\"M 0 0 V -75.9819 H -33.6\" /><g class=\"mut m3 s3\" transform=\"translate(0 -73.6745)\"><line x1=\"0\" x2=\"0\" y1=\"0\" y2=\"73.6745\" /><path class=\"sym\" d=\"M -3,-3 l 6,6 M -3,3 l 6,-6\" /><text class=\"lab rgt\" transform=\"translate(5 0)\">3</text></g><g class=\"mut m6 s6\" transform=\"translate(0 -22.568)\"><line x1=\"0\" x2=\"0\" y1=\"0\" y2=\"22.568\" /><path class=\"sym\" d=\"M -3,-3 l 6,6 M -3,3 l 6,-6\" /><text class=\"lab rgt\" transform=\"translate(5 0)\">6</text></g><circle class=\"sym\" cx=\"0\" cy=\"0\" r=\"3\" /><text class=\"lab rgt\" transform=\"translate(3 -7.0)\">6</text></g><circle class=\"sym\" cx=\"0\" cy=\"0\" r=\"3\" /><text class=\"lab\" transform=\"translate(0 -11)\">8</text></g></g></g></g></g></svg>"
      ],
      "text/plain": [
       "'<svg baseProfile=\"full\" height=\"200\" version=\"1.1\" width=\"600\" xmlns=\"http://www.w3.org/2000/svg\" xmlns:ev=\"http://www.w3.org/2001/xml-events\" xmlns:xlink=\"http://www.w3.org/1999/xlink\"><defs><style type=\"text/css\"><![CDATA[.background path {fill: #808080; fill-opacity: 0}.background path:nth-child(odd) {fill-opacity: .1}.axes {font-size: 14px}.x-axis .tick .lab {font-weight: bold; dominant-baseline: hanging}.axes, .tree {font-size: 14px; text-anchor: middle}.axes line, .edge {stroke: black; fill: none}.axes .ax-skip {stroke-dasharray: 4}.y-axis .grid {stroke: #FAFAFA}.node > .sym {fill: black; stroke: none}.site > .sym {stroke: black}.mut text {fill: red; font-style: italic}.mut.extra text {fill: hotpink}.mut line {fill: none; stroke: none}.mut .sym {fill: none; stroke: red}.mut.extra .sym {stroke: hotpink}.node .mut .sym {stroke-width: 1.5px}.tree text, .tree-sequence text {dominant-baseline: central}.plotbox .lab.lft {text-anchor: end}.plotbox .lab.rgt {text-anchor: start}]]></style></defs><g class=\"tree-sequence\"><g class=\"background\"><path d=\"M56.8,0 l174.4,0 l0,138.2 l-14.3008,25 l0,5 l-160.099,0 l0,-5 l0,-25 l0,-138.2z\" /><path d=\"M231.2,0 l174.4,0 l0,138.2 l-44.193,25 l0,5 l-144.508,0 l0,-5 l14.301,-25 l0,-138.2z\" /><path d=\"M405.6,0 l174.4,0 l0,138.2 l0,25 l0,5 l-218.593,0 l0,-5 l44.193,-25 l0,-138.2z\" /></g><g class=\"axes\"><g class=\"x-axis\"><g class=\"title\" transform=\"translate(318.4 200)\"><text class=\"lab\" text-anchor=\"middle\" transform=\"translate(0 -11)\">Genome position</text></g><line class=\"ax-line\" x1=\"56.8\" x2=\"580\" y1=\"163.2\" y2=\"163.2\" /><g class=\"ticks\"><g class=\"tick\" transform=\"translate(56.8 163.2)\"><line x1=\"0\" x2=\"0\" y1=\"0\" y2=\"5\" /><g transform=\"translate(0 6)\"><text class=\"lab\">0</text></g></g><g class=\"tick\" transform=\"translate(216.899 163.2)\"><line x1=\"0\" x2=\"0\" y1=\"0\" y2=\"5\" /><g transform=\"translate(0 6)\"><text class=\"lab\">3060</text></g></g><g class=\"tick\" transform=\"translate(361.407 163.2)\"><line x1=\"0\" x2=\"0\" y1=\"0\" y2=\"5\" /><g transform=\"translate(0 6)\"><text class=\"lab\">5822</text></g></g><g class=\"tick\" transform=\"translate(580 163.2)\"><line x1=\"0\" x2=\"0\" y1=\"0\" y2=\"5\" /><g transform=\"translate(0 6)\"><text class=\"lab\">10000</text></g></g></g><g class=\"site s0\" transform=\"translate(208.528 163.2)\"><line class=\"sym\" x1=\"0\" x2=\"0\" y1=\"0\" y2=\"-10\" /><g class=\"mut m0\"><polyline class=\"sym\" points=\"2.5,-6.5 0,-1.5 -2.5,-6.5\" /></g></g><g class=\"site s1\" transform=\"translate(234.217 163.2)\"><line class=\"sym\" x1=\"0\" x2=\"0\" y1=\"0\" y2=\"-10\" /><g class=\"mut m1\"><polyline class=\"sym\" points=\"2.5,-6.5 0,-1.5 -2.5,-6.5\" /></g></g><g class=\"site s2\" transform=\"translate(333.259 163.2)\"><line class=\"sym\" x1=\"0\" x2=\"0\" y1=\"0\" y2=\"-10\" /><g class=\"mut m2\"><polyline class=\"sym\" points=\"2.5,-6.5 0,-1.5 -2.5,-6.5\" /></g></g><g class=\"site s3\" transform=\"translate(378.777 163.2)\"><line class=\"sym\" x1=\"0\" x2=\"0\" y1=\"0\" y2=\"-10\" /><g class=\"mut m3\"><polyline class=\"sym\" points=\"2.5,-6.5 0,-1.5 -2.5,-6.5\" /></g></g><g class=\"site s4\" transform=\"translate(417.913 163.2)\"><line class=\"sym\" x1=\"0\" x2=\"0\" y1=\"0\" y2=\"-10\" /><g class=\"mut m4\"><polyline class=\"sym\" points=\"2.5,-6.5 0,-1.5 -2.5,-6.5\" /></g></g><g class=\"site s5\" transform=\"translate(470.337 163.2)\"><line class=\"sym\" x1=\"0\" x2=\"0\" y1=\"0\" y2=\"-10\" /><g class=\"mut m5\"><polyline class=\"sym\" points=\"2.5,-6.5 0,-1.5 -2.5,-6.5\" /></g></g><g class=\"site s6\" transform=\"translate(471.802 163.2)\"><line class=\"sym\" x1=\"0\" x2=\"0\" y1=\"0\" y2=\"-10\" /><g class=\"mut m6\"><polyline class=\"sym\" points=\"2.5,-6.5 0,-1.5 -2.5,-6.5\" /></g></g><g class=\"site s7\" transform=\"translate(480.801 163.2)\"><line class=\"sym\" x1=\"0\" x2=\"0\" y1=\"0\" y2=\"-10\" /><g class=\"mut m7\"><polyline class=\"sym\" points=\"2.5,-6.5 0,-1.5 -2.5,-6.5\" /></g></g><g class=\"site s8\" transform=\"translate(489.643 163.2)\"><line class=\"sym\" x1=\"0\" x2=\"0\" y1=\"0\" y2=\"-10\" /><g class=\"mut m8\"><polyline class=\"sym\" points=\"2.5,-6.5 0,-1.5 -2.5,-6.5\" /></g></g><g class=\"site s9\" transform=\"translate(518.733 163.2)\"><line class=\"sym\" x1=\"0\" x2=\"0\" y1=\"0\" y2=\"-10\" /><g class=\"mut m9\"><polyline class=\"sym\" points=\"2.5,-6.5 0,-1.5 -2.5,-6.5\" /></g></g></g><g class=\"y-axis\"><g class=\"title\" transform=\"translate(0 65.7)\"><text class=\"lab\" text-anchor=\"middle\" transform=\"translate(11) rotate(-90)\">Time (generations)</text></g><line class=\"ax-line\" x1=\"56.8\" x2=\"56.8\" y1=\"121.4\" y2=\"10\" /><g class=\"ticks\"><g class=\"tick\" transform=\"translate(56.8 121.4)\"><line x1=\"0\" x2=\"-5\" y1=\"0\" y2=\"0\" /><g transform=\"translate(-6 0)\"><text class=\"lab\" text-anchor=\"end\">0.00</text></g></g><g class=\"tick\" transform=\"translate(56.8 120.21)\"><line x1=\"0\" x2=\"-5\" y1=\"0\" y2=\"0\" /><g transform=\"translate(-6 0)\"><text class=\"lab\" text-anchor=\"end\">68.22</text></g></g><g class=\"tick\" transform=\"translate(56.8 105.444)\"><line x1=\"0\" x2=\"-5\" y1=\"0\" y2=\"0\" /><g transform=\"translate(-6 0)\"><text class=\"lab\" text-anchor=\"end\">914.87</text></g></g><g class=\"tick\" transform=\"translate(56.8 102.782)\"><line x1=\"0\" x2=\"-5\" y1=\"0\" y2=\"0\" /><g transform=\"translate(-6 0)\"><text class=\"lab\" text-anchor=\"end\">1067.52</text></g></g><g class=\"tick\" transform=\"translate(56.8 80.4706)\"><line x1=\"0\" x2=\"-5\" y1=\"0\" y2=\"0\" /><g transform=\"translate(-6 0)\"><text class=\"lab\" text-anchor=\"end\">2346.80</text></g></g><g class=\"tick\" transform=\"translate(56.8 26.8)\"><line x1=\"0\" x2=\"-5\" y1=\"0\" y2=\"0\" /><g transform=\"translate(-6 0)\"><text class=\"lab\" text-anchor=\"end\">5424.16</text></g></g></g></g></g><g class=\"plotbox trees\"><g class=\"tree t0\" transform=\"translate(56.8 0)\"><g class=\"plotbox\"><g class=\"c2 node n7 p0 root\" transform=\"translate(108.2 80.4706)\"><g class=\"a7 i0 leaf node n1 p0 sample\" transform=\"translate(29.4 40.9294)\"><path class=\"edge\" d=\"M 0 0 V -40.9294 H -29.4\" /><rect class=\"sym\" height=\"6\" width=\"6\" x=\"-3\" y=\"-3\" /><text class=\"lab\" transform=\"translate(0 11)\">1</text></g><g class=\"a7 c2 node n5 p0\" transform=\"translate(-29.4 24.9736)\"><g class=\"a5 i1 leaf node n2 p0 sample\" transform=\"translate(25.2 15.9559)\"><path class=\"edge\" d=\"M 0 0 V -15.9559 H -25.2\" /><rect class=\"sym\" height=\"6\" width=\"6\" x=\"-3\" y=\"-3\" /><text class=\"lab\" transform=\"translate(0 11)\">2</text></g><g class=\"a5 c2 m0 node n4 p0 s0\" transform=\"translate(-25.2 14.766)\"><g class=\"a4 i0 leaf node n0 p0 sample\" transform=\"translate(-16.8 1.18984)\"><path class=\"edge\" d=\"M 0 0 V -1.18984 H 16.8\" /><rect class=\"sym\" height=\"6\" width=\"6\" x=\"-3\" y=\"-3\" /><text class=\"lab\" transform=\"translate(0 11)\">0</text></g><g class=\"a4 i1 leaf node n3 p0 sample\" transform=\"translate(16.8 1.18984)\"><path class=\"edge\" d=\"M 0 0 V -1.18984 H -16.8\" /><rect class=\"sym\" height=\"6\" width=\"6\" x=\"-3\" y=\"-3\" /><text class=\"lab\" transform=\"translate(0 11)\">3</text></g><path class=\"edge\" d=\"M 0 0 V -14.766 H 25.2\" /><g class=\"mut m0 s0\" transform=\"translate(0 -6.42798)\"><line x1=\"0\" x2=\"0\" y1=\"0\" y2=\"6.42798\" /><path class=\"sym\" d=\"M -3,-3 l 6,6 M -3,3 l 6,-6\" /><text class=\"lab lft\" transform=\"translate(-5 0)\">0</text></g><circle class=\"sym\" cx=\"0\" cy=\"0\" r=\"3\" /><text class=\"lab lft\" transform=\"translate(-3 -7.0)\">4</text></g><path class=\"edge\" d=\"M 0 0 V -24.9736 H 29.4\" /><circle class=\"sym\" cx=\"0\" cy=\"0\" r=\"3\" /><text class=\"lab lft\" transform=\"translate(-3 -7.0)\">5</text></g><circle class=\"sym\" cx=\"0\" cy=\"0\" r=\"3\" /><text class=\"lab\" transform=\"translate(0 -11)\">7</text></g></g></g><g class=\"tree t1\" transform=\"translate(231.2 0)\"><g class=\"plotbox\"><g class=\"c2 node n7 p0 root\" transform=\"translate(87.2 80.4706)\"><g class=\"a7 c2 m1 node n4 p0 s1\" transform=\"translate(-33.6 39.7396)\"><g class=\"a4 i0 leaf node n0 p0 sample\" transform=\"translate(-16.8 1.18984)\"><path class=\"edge\" d=\"M 0 0 V -1.18984 H 16.8\" /><rect class=\"sym\" height=\"6\" width=\"6\" x=\"-3\" y=\"-3\" /><text class=\"lab\" transform=\"translate(0 11)\">0</text></g><g class=\"a4 i1 leaf node n3 p0 sample\" transform=\"translate(16.8 1.18984)\"><path class=\"edge\" d=\"M 0 0 V -1.18984 H -16.8\" /><rect class=\"sym\" height=\"6\" width=\"6\" x=\"-3\" y=\"-3\" /><text class=\"lab\" transform=\"translate(0 11)\">3</text></g><path class=\"edge\" d=\"M 0 0 V -39.7396 H 33.6\" /><g class=\"mut m1 s1\" transform=\"translate(0 -11.9082)\"><line x1=\"0\" x2=\"0\" y1=\"0\" y2=\"11.9082\" /><path class=\"sym\" d=\"M -3,-3 l 6,6 M -3,3 l 6,-6\" /><text class=\"lab lft\" transform=\"translate(-5 0)\">1</text></g><circle class=\"sym\" cx=\"0\" cy=\"0\" r=\"3\" /><text class=\"lab lft\" transform=\"translate(-3 -7.0)\">4</text></g><g class=\"a7 c2 node n6 p0\" transform=\"translate(33.6 22.3113)\"><g class=\"a6 i0 leaf m2 node n1 p0 s2 sample\" transform=\"translate(-16.8 18.6181)\"><path class=\"edge\" d=\"M 0 0 V -18.6181 H 16.8\" /><g class=\"mut m2 s2\" transform=\"translate(0 -6.15021)\"><line x1=\"0\" x2=\"0\" y1=\"0\" y2=\"6.15021\" /><path class=\"sym\" d=\"M -3,-3 l 6,6 M -3,3 l 6,-6\" /><text class=\"lab lft\" transform=\"translate(-5 0)\">2</text></g><rect class=\"sym\" height=\"6\" width=\"6\" x=\"-3\" y=\"-3\" /><text class=\"lab\" transform=\"translate(0 11)\">1</text></g><g class=\"a6 i1 leaf node n2 p0 sample\" transform=\"translate(16.8 18.6181)\"><path class=\"edge\" d=\"M 0 0 V -18.6181 H -16.8\" /><rect class=\"sym\" height=\"6\" width=\"6\" x=\"-3\" y=\"-3\" /><text class=\"lab\" transform=\"translate(0 11)\">2</text></g><path class=\"edge\" d=\"M 0 0 V -22.3113 H -33.6\" /><circle class=\"sym\" cx=\"0\" cy=\"0\" r=\"3\" /><text class=\"lab rgt\" transform=\"translate(3 -7.0)\">6</text></g><circle class=\"sym\" cx=\"0\" cy=\"0\" r=\"3\" /><text class=\"lab\" transform=\"translate(0 -11)\">7</text></g></g></g><g class=\"tree t2\" transform=\"translate(405.6 0)\"><g class=\"plotbox\"><g class=\"c2 node n8 p0 root\" transform=\"translate(87.2 26.8)\"><g class=\"a8 c2 m4 m5 m7 m8 m9 node n4 p0 s4 s5 s7 s8 s9\" transform=\"translate(-33.6 93.4102)\"><g class=\"a4 i0 leaf node n0 p0 sample\" transform=\"translate(-16.8 1.18984)\"><path class=\"edge\" d=\"M 0 0 V -1.18984 H 16.8\" /><rect class=\"sym\" height=\"6\" width=\"6\" x=\"-3\" y=\"-3\" /><text class=\"lab\" transform=\"translate(0 11)\">0</text></g><g class=\"a4 i1 leaf node n3 p0 sample\" transform=\"translate(16.8 1.18984)\"><path class=\"edge\" d=\"M 0 0 V -1.18984 H -16.8\" /><rect class=\"sym\" height=\"6\" width=\"6\" x=\"-3\" y=\"-3\" /><text class=\"lab\" transform=\"translate(0 11)\">3</text></g><path class=\"edge\" d=\"M 0 0 V -93.4102 H 33.6\" /><g class=\"mut m4 s4\" transform=\"translate(0 -79.77)\"><line x1=\"0\" x2=\"0\" y1=\"0\" y2=\"79.77\" /><path class=\"sym\" d=\"M -3,-3 l 6,6 M -3,3 l 6,-6\" /><text class=\"lab lft\" transform=\"translate(-5 0)\">4</text></g><g class=\"mut m9 s9\" transform=\"translate(0 -73.3583)\"><line x1=\"0\" x2=\"0\" y1=\"0\" y2=\"73.3583\" /><path class=\"sym\" d=\"M -3,-3 l 6,6 M -3,3 l 6,-6\" /><text class=\"lab lft\" transform=\"translate(-5 0)\">9</text></g><g class=\"mut m5 s5\" transform=\"translate(0 -47.9734)\"><line x1=\"0\" x2=\"0\" y1=\"0\" y2=\"47.9734\" /><path class=\"sym\" d=\"M -3,-3 l 6,6 M -3,3 l 6,-6\" /><text class=\"lab lft\" transform=\"translate(-5 0)\">5</text></g><g class=\"mut m7 s7\" transform=\"translate(0 -46.1667)\"><line x1=\"0\" x2=\"0\" y1=\"0\" y2=\"46.1667\" /><path class=\"sym\" d=\"M -3,-3 l 6,6 M -3,3 l 6,-6\" /><text class=\"lab lft\" transform=\"translate(-5 0)\">7</text></g><g class=\"mut m8 s8\" transform=\"translate(0 -17.2286)\"><line x1=\"0\" x2=\"0\" y1=\"0\" y2=\"17.2286\" /><path class=\"sym\" d=\"M -3,-3 l 6,6 M -3,3 l 6,-6\" /><text class=\"lab lft\" transform=\"translate(-5 0)\">8</text></g><circle class=\"sym\" cx=\"0\" cy=\"0\" r=\"3\" /><text class=\"lab lft\" transform=\"translate(-3 -7.0)\">4</text></g><g class=\"a8 c2 m3 m6 node n6 p0 s3 s6\" transform=\"translate(33.6 75.9819)\"><g class=\"a6 i0 leaf node n1 p0 sample\" transform=\"translate(-16.8 18.6181)\"><path class=\"edge\" d=\"M 0 0 V -18.6181 H 16.8\" /><rect class=\"sym\" height=\"6\" width=\"6\" x=\"-3\" y=\"-3\" /><text class=\"lab\" transform=\"translate(0 11)\">1</text></g><g class=\"a6 i1 leaf node n2 p0 sample\" transform=\"translate(16.8 18.6181)\"><path class=\"edge\" d=\"M 0 0 V -18.6181 H -16.8\" /><rect class=\"sym\" height=\"6\" width=\"6\" x=\"-3\" y=\"-3\" /><text class=\"lab\" transform=\"translate(0 11)\">2</text></g><path class=\"edge\" d=\"M 0 0 V -75.9819 H -33.6\" /><g class=\"mut m3 s3\" transform=\"translate(0 -73.6745)\"><line x1=\"0\" x2=\"0\" y1=\"0\" y2=\"73.6745\" /><path class=\"sym\" d=\"M -3,-3 l 6,6 M -3,3 l 6,-6\" /><text class=\"lab rgt\" transform=\"translate(5 0)\">3</text></g><g class=\"mut m6 s6\" transform=\"translate(0 -22.568)\"><line x1=\"0\" x2=\"0\" y1=\"0\" y2=\"22.568\" /><path class=\"sym\" d=\"M -3,-3 l 6,6 M -3,3 l 6,-6\" /><text class=\"lab rgt\" transform=\"translate(5 0)\">6</text></g><circle class=\"sym\" cx=\"0\" cy=\"0\" r=\"3\" /><text class=\"lab rgt\" transform=\"translate(3 -7.0)\">6</text></g><circle class=\"sym\" cx=\"0\" cy=\"0\" r=\"3\" /><text class=\"lab\" transform=\"translate(0 -11)\">8</text></g></g></g></g></g></svg>'"
      ]
     },
     "execution_count": 22,
     "metadata": {},
     "output_type": "execute_result"
    }
   ],
   "source": [
    "ts.draw_svg(omit_sites=False, y_axis=True)"
   ]
  },
  {
   "cell_type": "markdown",
   "id": "2ad4a568",
   "metadata": {},
   "source": [
    "Look into sites and mutations tables"
   ]
  },
  {
   "cell_type": "code",
   "execution_count": 23,
   "id": "809d4c9f",
   "metadata": {},
   "outputs": [
    {
     "data": {
      "text/html": [
       "\n",
       "        <div>\n",
       "            <style scoped=\"\">\n",
       "                .tskit-table tbody tr th:only-of-type {vertical-align: middle;}\n",
       "                .tskit-table tbody tr th {vertical-align: top;}\n",
       "                .tskit-table tbody td {text-align: right;padding: 0.5em 0.5em;}\n",
       "                .tskit-table tbody th {padding: 0.5em 0.5em;}\n",
       "            </style>\n",
       "            <table border=\"1\" class=\"tskit-table\">\n",
       "                <thead>\n",
       "                    <tr>\n",
       "                        <th>id</th><th>position</th><th>ancestral_state</th><th>metadata</th>\n",
       "                    </tr>\n",
       "                </thead>\n",
       "                <tbody>\n",
       "                    <tr><td>0</td><td>2900</td><td>A</td><td></td></tr>\n",
       "<tr><td>1</td><td>3391</td><td>C</td><td></td></tr>\n",
       "<tr><td>2</td><td>5284</td><td>A</td><td></td></tr>\n",
       "<tr><td>3</td><td>6154</td><td>A</td><td></td></tr>\n",
       "<tr><td>4</td><td>6902</td><td>G</td><td></td></tr>\n",
       "<tr><td>5</td><td>7904</td><td>A</td><td></td></tr>\n",
       "<tr><td>6</td><td>7932</td><td>A</td><td></td></tr>\n",
       "<tr><td>7</td><td>8104</td><td>A</td><td></td></tr>\n",
       "<tr><td>8</td><td>8273</td><td>C</td><td></td></tr>\n",
       "<tr><td>9</td><td>8829</td><td>C</td><td></td></tr>\n",
       "\n",
       "                </tbody>\n",
       "            </table>\n",
       "        </div>\n",
       "    "
      ],
      "text/plain": [
       "<tskit.tables.SiteTable at 0x7fcab9769ac0>"
      ]
     },
     "execution_count": 23,
     "metadata": {},
     "output_type": "execute_result"
    }
   ],
   "source": [
    "ts.tables.sites"
   ]
  },
  {
   "cell_type": "code",
   "execution_count": 24,
   "id": "e946f818",
   "metadata": {},
   "outputs": [
    {
     "data": {
      "text/html": [
       "\n",
       "        <div>\n",
       "            <style scoped=\"\">\n",
       "                .tskit-table tbody tr th:only-of-type {vertical-align: middle;}\n",
       "                .tskit-table tbody tr th {vertical-align: top;}\n",
       "                .tskit-table tbody td {text-align: right;padding: 0.5em 0.5em;}\n",
       "                .tskit-table tbody th {padding: 0.5em 0.5em;}\n",
       "            </style>\n",
       "            <table border=\"1\" class=\"tskit-table\">\n",
       "                <thead>\n",
       "                    <tr>\n",
       "                        <th>id</th><th>site</th><th>node</th><th>time</th><th>derived_state</th><th>parent</th><th>metadata</th>\n",
       "                    </tr>\n",
       "                </thead>\n",
       "                <tbody>\n",
       "                    <tr><td>0</td><td>0</td><td>4</td><td>436.78917194</td><td>C</td><td>-1</td><td></td></tr>\n",
       "<tr><td>1</td><td>1</td><td>4</td><td>751.01023306</td><td>A</td><td>-1</td><td></td></tr>\n",
       "<tr><td>2</td><td>2</td><td>1</td><td>352.63971670</td><td>C</td><td>-1</td><td></td></tr>\n",
       "<tr><td>3</td><td>3</td><td>6</td><td>5291.85815154</td><td>G</td><td>-1</td><td></td></tr>\n",
       "<tr><td>4</td><td>4</td><td>4</td><td>4642.05970742</td><td>C</td><td>-1</td><td></td></tr>\n",
       "<tr><td>5</td><td>5</td><td>4</td><td>2818.91420369</td><td>C</td><td>-1</td><td></td></tr>\n",
       "<tr><td>6</td><td>6</td><td>6</td><td>2361.52315316</td><td>T</td><td>-1</td><td></td></tr>\n",
       "<tr><td>7</td><td>7</td><td>4</td><td>2715.32355793</td><td>G</td><td>-1</td><td></td></tr>\n",
       "<tr><td>8</td><td>8</td><td>4</td><td>1056.07074569</td><td>A</td><td>-1</td><td></td></tr>\n",
       "<tr><td>9</td><td>9</td><td>4</td><td>4274.42748637</td><td>G</td><td>-1</td><td></td></tr>\n",
       "\n",
       "                </tbody>\n",
       "            </table>\n",
       "        </div>\n",
       "    "
      ],
      "text/plain": [
       "<tskit.tables.MutationTable at 0x7fcab9769fa0>"
      ]
     },
     "execution_count": 24,
     "metadata": {},
     "output_type": "execute_result"
    }
   ],
   "source": [
    "ts.tables.mutations"
   ]
  },
  {
   "cell_type": "markdown",
   "id": "fbd7af39",
   "metadata": {},
   "source": [
    "Generate genotype matrix and compare to trees"
   ]
  },
  {
   "cell_type": "code",
   "execution_count": 25,
   "id": "40d5a8ae",
   "metadata": {},
   "outputs": [
    {
     "data": {
      "text/plain": [
       "array([[1, 0, 0, 1],\n",
       "       [1, 0, 0, 1],\n",
       "       [0, 1, 0, 0],\n",
       "       [0, 1, 1, 0],\n",
       "       [1, 0, 0, 1],\n",
       "       [1, 0, 0, 1],\n",
       "       [0, 1, 1, 0],\n",
       "       [1, 0, 0, 1],\n",
       "       [1, 0, 0, 1],\n",
       "       [1, 0, 0, 1]], dtype=int32)"
      ]
     },
     "execution_count": 25,
     "metadata": {},
     "output_type": "execute_result"
    }
   ],
   "source": [
    "ts.genotype_matrix()"
   ]
  },
  {
   "cell_type": "code",
   "execution_count": 26,
   "id": "2c78225f",
   "metadata": {},
   "outputs": [
    {
     "data": {
      "image/svg+xml": [
       "<svg baseProfile=\"full\" height=\"200\" version=\"1.1\" width=\"600\" xmlns=\"http://www.w3.org/2000/svg\" xmlns:ev=\"http://www.w3.org/2001/xml-events\" xmlns:xlink=\"http://www.w3.org/1999/xlink\"><defs><style type=\"text/css\"><![CDATA[.background path {fill: #808080; fill-opacity: 0}.background path:nth-child(odd) {fill-opacity: .1}.axes {font-size: 14px}.x-axis .tick .lab {font-weight: bold; dominant-baseline: hanging}.axes, .tree {font-size: 14px; text-anchor: middle}.axes line, .edge {stroke: black; fill: none}.axes .ax-skip {stroke-dasharray: 4}.y-axis .grid {stroke: #FAFAFA}.node > .sym {fill: black; stroke: none}.site > .sym {stroke: black}.mut text {fill: red; font-style: italic}.mut.extra text {fill: hotpink}.mut line {fill: none; stroke: none}.mut .sym {fill: none; stroke: red}.mut.extra .sym {stroke: hotpink}.node .mut .sym {stroke-width: 1.5px}.tree text, .tree-sequence text {dominant-baseline: central}.plotbox .lab.lft {text-anchor: end}.plotbox .lab.rgt {text-anchor: start}]]></style></defs><g class=\"tree-sequence\"><g class=\"background\"><path d=\"M20,0 l186.667,0 l0,138.2 l-15.3067,25 l0,5 l-171.36,0 l0,-5 l0,-25 l0,-138.2z\" /><path d=\"M206.667,0 l186.667,0 l0,138.2 l-47.3013,25 l0,5 l-154.672,0 l0,-5 l15.307,-25 l0,-138.2z\" /><path d=\"M393.333,0 l186.667,0 l0,138.2 l0,25 l0,5 l-233.968,0 l0,-5 l47.301,-25 l0,-138.2z\" /></g><g class=\"axes\"><g class=\"x-axis\"><g class=\"title\" transform=\"translate(300 200)\"><text class=\"lab\" text-anchor=\"middle\" transform=\"translate(0 -11)\">Genome position</text></g><line class=\"ax-line\" x1=\"20\" x2=\"580\" y1=\"163.2\" y2=\"163.2\" /><g class=\"ticks\"><g class=\"tick\" transform=\"translate(20 163.2)\"><line x1=\"0\" x2=\"0\" y1=\"0\" y2=\"5\" /><g transform=\"translate(0 6)\"><text class=\"lab\">0</text></g></g><g class=\"tick\" transform=\"translate(191.36 163.2)\"><line x1=\"0\" x2=\"0\" y1=\"0\" y2=\"5\" /><g transform=\"translate(0 6)\"><text class=\"lab\">3060</text></g></g><g class=\"tick\" transform=\"translate(346.032 163.2)\"><line x1=\"0\" x2=\"0\" y1=\"0\" y2=\"5\" /><g transform=\"translate(0 6)\"><text class=\"lab\">5822</text></g></g><g class=\"tick\" transform=\"translate(580 163.2)\"><line x1=\"0\" x2=\"0\" y1=\"0\" y2=\"5\" /><g transform=\"translate(0 6)\"><text class=\"lab\">10000</text></g></g></g><g class=\"site s0\" transform=\"translate(182.4 163.2)\"><line class=\"sym\" x1=\"0\" x2=\"0\" y1=\"0\" y2=\"-10\" /><g class=\"mut m0\"><polyline class=\"sym\" points=\"2.5,-6.5 0,-1.5 -2.5,-6.5\" /></g></g><g class=\"site s1\" transform=\"translate(209.896 163.2)\"><line class=\"sym\" x1=\"0\" x2=\"0\" y1=\"0\" y2=\"-10\" /><g class=\"mut m1\"><polyline class=\"sym\" points=\"2.5,-6.5 0,-1.5 -2.5,-6.5\" /></g></g><g class=\"site s2\" transform=\"translate(315.904 163.2)\"><line class=\"sym\" x1=\"0\" x2=\"0\" y1=\"0\" y2=\"-10\" /><g class=\"mut m2\"><polyline class=\"sym\" points=\"2.5,-6.5 0,-1.5 -2.5,-6.5\" /></g></g><g class=\"site s3\" transform=\"translate(364.624 163.2)\"><line class=\"sym\" x1=\"0\" x2=\"0\" y1=\"0\" y2=\"-10\" /><g class=\"mut m3\"><polyline class=\"sym\" points=\"2.5,-6.5 0,-1.5 -2.5,-6.5\" /></g></g><g class=\"site s4\" transform=\"translate(406.512 163.2)\"><line class=\"sym\" x1=\"0\" x2=\"0\" y1=\"0\" y2=\"-10\" /><g class=\"mut m4\"><polyline class=\"sym\" points=\"2.5,-6.5 0,-1.5 -2.5,-6.5\" /></g></g><g class=\"site s5\" transform=\"translate(462.624 163.2)\"><line class=\"sym\" x1=\"0\" x2=\"0\" y1=\"0\" y2=\"-10\" /><g class=\"mut m5\"><polyline class=\"sym\" points=\"2.5,-6.5 0,-1.5 -2.5,-6.5\" /></g></g><g class=\"site s6\" transform=\"translate(464.192 163.2)\"><line class=\"sym\" x1=\"0\" x2=\"0\" y1=\"0\" y2=\"-10\" /><g class=\"mut m6\"><polyline class=\"sym\" points=\"2.5,-6.5 0,-1.5 -2.5,-6.5\" /></g></g><g class=\"site s7\" transform=\"translate(473.824 163.2)\"><line class=\"sym\" x1=\"0\" x2=\"0\" y1=\"0\" y2=\"-10\" /><g class=\"mut m7\"><polyline class=\"sym\" points=\"2.5,-6.5 0,-1.5 -2.5,-6.5\" /></g></g><g class=\"site s8\" transform=\"translate(483.288 163.2)\"><line class=\"sym\" x1=\"0\" x2=\"0\" y1=\"0\" y2=\"-10\" /><g class=\"mut m8\"><polyline class=\"sym\" points=\"2.5,-6.5 0,-1.5 -2.5,-6.5\" /></g></g><g class=\"site s9\" transform=\"translate(514.424 163.2)\"><line class=\"sym\" x1=\"0\" x2=\"0\" y1=\"0\" y2=\"-10\" /><g class=\"mut m9\"><polyline class=\"sym\" points=\"2.5,-6.5 0,-1.5 -2.5,-6.5\" /></g></g></g></g><g class=\"plotbox trees\"><g class=\"tree t0\" transform=\"translate(20 0)\"><g class=\"plotbox\"><g class=\"c2 node n7 p0 root\" transform=\"translate(116.25 80.4706)\"><g class=\"a7 i0 leaf node n1 p0 sample\" transform=\"translate(32.0833 40.9294)\"><path class=\"edge\" d=\"M 0 0 V -40.9294 H -32.0833\" /><rect class=\"sym\" height=\"6\" width=\"6\" x=\"-3\" y=\"-3\" /><text class=\"lab\" transform=\"translate(0 11)\">1</text></g><g class=\"a7 c2 node n5 p0\" transform=\"translate(-32.0833 24.9736)\"><g class=\"a5 i1 leaf node n2 p0 sample\" transform=\"translate(27.5 15.9559)\"><path class=\"edge\" d=\"M 0 0 V -15.9559 H -27.5\" /><rect class=\"sym\" height=\"6\" width=\"6\" x=\"-3\" y=\"-3\" /><text class=\"lab\" transform=\"translate(0 11)\">2</text></g><g class=\"a5 c2 m0 node n4 p0 s0\" transform=\"translate(-27.5 14.766)\"><g class=\"a4 i0 leaf node n0 p0 sample\" transform=\"translate(-18.3333 1.18984)\"><path class=\"edge\" d=\"M 0 0 V -1.18984 H 18.3333\" /><rect class=\"sym\" height=\"6\" width=\"6\" x=\"-3\" y=\"-3\" /><text class=\"lab\" transform=\"translate(0 11)\">0</text></g><g class=\"a4 i1 leaf node n3 p0 sample\" transform=\"translate(18.3333 1.18984)\"><path class=\"edge\" d=\"M 0 0 V -1.18984 H -18.3333\" /><rect class=\"sym\" height=\"6\" width=\"6\" x=\"-3\" y=\"-3\" /><text class=\"lab\" transform=\"translate(0 11)\">3</text></g><path class=\"edge\" d=\"M 0 0 V -14.766 H 27.5\" /><g class=\"mut m0 s0\" transform=\"translate(0 -6.42798)\"><line x1=\"0\" x2=\"0\" y1=\"0\" y2=\"6.42798\" /><path class=\"sym\" d=\"M -3,-3 l 6,6 M -3,3 l 6,-6\" /><text class=\"lab lft\" transform=\"translate(-5 0)\">0</text></g><circle class=\"sym\" cx=\"0\" cy=\"0\" r=\"3\" /><text class=\"lab lft\" transform=\"translate(-3 -7.0)\">4</text></g><path class=\"edge\" d=\"M 0 0 V -24.9736 H 32.0833\" /><circle class=\"sym\" cx=\"0\" cy=\"0\" r=\"3\" /><text class=\"lab lft\" transform=\"translate(-3 -7.0)\">5</text></g><circle class=\"sym\" cx=\"0\" cy=\"0\" r=\"3\" /><text class=\"lab\" transform=\"translate(0 -11)\">7</text></g></g></g><g class=\"tree t1\" transform=\"translate(206.667 0)\"><g class=\"plotbox\"><g class=\"c2 node n7 p0 root\" transform=\"translate(93.3333 80.4706)\"><g class=\"a7 c2 m1 node n4 p0 s1\" transform=\"translate(-36.6667 39.7396)\"><g class=\"a4 i0 leaf node n0 p0 sample\" transform=\"translate(-18.3333 1.18984)\"><path class=\"edge\" d=\"M 0 0 V -1.18984 H 18.3333\" /><rect class=\"sym\" height=\"6\" width=\"6\" x=\"-3\" y=\"-3\" /><text class=\"lab\" transform=\"translate(0 11)\">0</text></g><g class=\"a4 i1 leaf node n3 p0 sample\" transform=\"translate(18.3333 1.18984)\"><path class=\"edge\" d=\"M 0 0 V -1.18984 H -18.3333\" /><rect class=\"sym\" height=\"6\" width=\"6\" x=\"-3\" y=\"-3\" /><text class=\"lab\" transform=\"translate(0 11)\">3</text></g><path class=\"edge\" d=\"M 0 0 V -39.7396 H 36.6667\" /><g class=\"mut m1 s1\" transform=\"translate(0 -11.9082)\"><line x1=\"0\" x2=\"0\" y1=\"0\" y2=\"11.9082\" /><path class=\"sym\" d=\"M -3,-3 l 6,6 M -3,3 l 6,-6\" /><text class=\"lab lft\" transform=\"translate(-5 0)\">1</text></g><circle class=\"sym\" cx=\"0\" cy=\"0\" r=\"3\" /><text class=\"lab lft\" transform=\"translate(-3 -7.0)\">4</text></g><g class=\"a7 c2 node n6 p0\" transform=\"translate(36.6667 22.3113)\"><g class=\"a6 i0 leaf m2 node n1 p0 s2 sample\" transform=\"translate(-18.3333 18.6181)\"><path class=\"edge\" d=\"M 0 0 V -18.6181 H 18.3333\" /><g class=\"mut m2 s2\" transform=\"translate(0 -6.15021)\"><line x1=\"0\" x2=\"0\" y1=\"0\" y2=\"6.15021\" /><path class=\"sym\" d=\"M -3,-3 l 6,6 M -3,3 l 6,-6\" /><text class=\"lab lft\" transform=\"translate(-5 0)\">2</text></g><rect class=\"sym\" height=\"6\" width=\"6\" x=\"-3\" y=\"-3\" /><text class=\"lab\" transform=\"translate(0 11)\">1</text></g><g class=\"a6 i1 leaf node n2 p0 sample\" transform=\"translate(18.3333 18.6181)\"><path class=\"edge\" d=\"M 0 0 V -18.6181 H -18.3333\" /><rect class=\"sym\" height=\"6\" width=\"6\" x=\"-3\" y=\"-3\" /><text class=\"lab\" transform=\"translate(0 11)\">2</text></g><path class=\"edge\" d=\"M 0 0 V -22.3113 H -36.6667\" /><circle class=\"sym\" cx=\"0\" cy=\"0\" r=\"3\" /><text class=\"lab rgt\" transform=\"translate(3 -7.0)\">6</text></g><circle class=\"sym\" cx=\"0\" cy=\"0\" r=\"3\" /><text class=\"lab\" transform=\"translate(0 -11)\">7</text></g></g></g><g class=\"tree t2\" transform=\"translate(393.333 0)\"><g class=\"plotbox\"><g class=\"c2 node n8 p0 root\" transform=\"translate(93.3333 26.8)\"><g class=\"a8 c2 m4 m5 m7 m8 m9 node n4 p0 s4 s5 s7 s8 s9\" transform=\"translate(-36.6667 93.4102)\"><g class=\"a4 i0 leaf node n0 p0 sample\" transform=\"translate(-18.3333 1.18984)\"><path class=\"edge\" d=\"M 0 0 V -1.18984 H 18.3333\" /><rect class=\"sym\" height=\"6\" width=\"6\" x=\"-3\" y=\"-3\" /><text class=\"lab\" transform=\"translate(0 11)\">0</text></g><g class=\"a4 i1 leaf node n3 p0 sample\" transform=\"translate(18.3333 1.18984)\"><path class=\"edge\" d=\"M 0 0 V -1.18984 H -18.3333\" /><rect class=\"sym\" height=\"6\" width=\"6\" x=\"-3\" y=\"-3\" /><text class=\"lab\" transform=\"translate(0 11)\">3</text></g><path class=\"edge\" d=\"M 0 0 V -93.4102 H 36.6667\" /><g class=\"mut m4 s4\" transform=\"translate(0 -79.77)\"><line x1=\"0\" x2=\"0\" y1=\"0\" y2=\"79.77\" /><path class=\"sym\" d=\"M -3,-3 l 6,6 M -3,3 l 6,-6\" /><text class=\"lab lft\" transform=\"translate(-5 0)\">4</text></g><g class=\"mut m9 s9\" transform=\"translate(0 -73.3583)\"><line x1=\"0\" x2=\"0\" y1=\"0\" y2=\"73.3583\" /><path class=\"sym\" d=\"M -3,-3 l 6,6 M -3,3 l 6,-6\" /><text class=\"lab lft\" transform=\"translate(-5 0)\">9</text></g><g class=\"mut m5 s5\" transform=\"translate(0 -47.9734)\"><line x1=\"0\" x2=\"0\" y1=\"0\" y2=\"47.9734\" /><path class=\"sym\" d=\"M -3,-3 l 6,6 M -3,3 l 6,-6\" /><text class=\"lab lft\" transform=\"translate(-5 0)\">5</text></g><g class=\"mut m7 s7\" transform=\"translate(0 -46.1667)\"><line x1=\"0\" x2=\"0\" y1=\"0\" y2=\"46.1667\" /><path class=\"sym\" d=\"M -3,-3 l 6,6 M -3,3 l 6,-6\" /><text class=\"lab lft\" transform=\"translate(-5 0)\">7</text></g><g class=\"mut m8 s8\" transform=\"translate(0 -17.2286)\"><line x1=\"0\" x2=\"0\" y1=\"0\" y2=\"17.2286\" /><path class=\"sym\" d=\"M -3,-3 l 6,6 M -3,3 l 6,-6\" /><text class=\"lab lft\" transform=\"translate(-5 0)\">8</text></g><circle class=\"sym\" cx=\"0\" cy=\"0\" r=\"3\" /><text class=\"lab lft\" transform=\"translate(-3 -7.0)\">4</text></g><g class=\"a8 c2 m3 m6 node n6 p0 s3 s6\" transform=\"translate(36.6667 75.9819)\"><g class=\"a6 i0 leaf node n1 p0 sample\" transform=\"translate(-18.3333 18.6181)\"><path class=\"edge\" d=\"M 0 0 V -18.6181 H 18.3333\" /><rect class=\"sym\" height=\"6\" width=\"6\" x=\"-3\" y=\"-3\" /><text class=\"lab\" transform=\"translate(0 11)\">1</text></g><g class=\"a6 i1 leaf node n2 p0 sample\" transform=\"translate(18.3333 18.6181)\"><path class=\"edge\" d=\"M 0 0 V -18.6181 H -18.3333\" /><rect class=\"sym\" height=\"6\" width=\"6\" x=\"-3\" y=\"-3\" /><text class=\"lab\" transform=\"translate(0 11)\">2</text></g><path class=\"edge\" d=\"M 0 0 V -75.9819 H -36.6667\" /><g class=\"mut m3 s3\" transform=\"translate(0 -73.6745)\"><line x1=\"0\" x2=\"0\" y1=\"0\" y2=\"73.6745\" /><path class=\"sym\" d=\"M -3,-3 l 6,6 M -3,3 l 6,-6\" /><text class=\"lab rgt\" transform=\"translate(5 0)\">3</text></g><g class=\"mut m6 s6\" transform=\"translate(0 -22.568)\"><line x1=\"0\" x2=\"0\" y1=\"0\" y2=\"22.568\" /><path class=\"sym\" d=\"M -3,-3 l 6,6 M -3,3 l 6,-6\" /><text class=\"lab rgt\" transform=\"translate(5 0)\">6</text></g><circle class=\"sym\" cx=\"0\" cy=\"0\" r=\"3\" /><text class=\"lab rgt\" transform=\"translate(3 -7.0)\">6</text></g><circle class=\"sym\" cx=\"0\" cy=\"0\" r=\"3\" /><text class=\"lab\" transform=\"translate(0 -11)\">8</text></g></g></g></g></g></svg>"
      ],
      "text/plain": [
       "'<svg baseProfile=\"full\" height=\"200\" version=\"1.1\" width=\"600\" xmlns=\"http://www.w3.org/2000/svg\" xmlns:ev=\"http://www.w3.org/2001/xml-events\" xmlns:xlink=\"http://www.w3.org/1999/xlink\"><defs><style type=\"text/css\"><![CDATA[.background path {fill: #808080; fill-opacity: 0}.background path:nth-child(odd) {fill-opacity: .1}.axes {font-size: 14px}.x-axis .tick .lab {font-weight: bold; dominant-baseline: hanging}.axes, .tree {font-size: 14px; text-anchor: middle}.axes line, .edge {stroke: black; fill: none}.axes .ax-skip {stroke-dasharray: 4}.y-axis .grid {stroke: #FAFAFA}.node > .sym {fill: black; stroke: none}.site > .sym {stroke: black}.mut text {fill: red; font-style: italic}.mut.extra text {fill: hotpink}.mut line {fill: none; stroke: none}.mut .sym {fill: none; stroke: red}.mut.extra .sym {stroke: hotpink}.node .mut .sym {stroke-width: 1.5px}.tree text, .tree-sequence text {dominant-baseline: central}.plotbox .lab.lft {text-anchor: end}.plotbox .lab.rgt {text-anchor: start}]]></style></defs><g class=\"tree-sequence\"><g class=\"background\"><path d=\"M20,0 l186.667,0 l0,138.2 l-15.3067,25 l0,5 l-171.36,0 l0,-5 l0,-25 l0,-138.2z\" /><path d=\"M206.667,0 l186.667,0 l0,138.2 l-47.3013,25 l0,5 l-154.672,0 l0,-5 l15.307,-25 l0,-138.2z\" /><path d=\"M393.333,0 l186.667,0 l0,138.2 l0,25 l0,5 l-233.968,0 l0,-5 l47.301,-25 l0,-138.2z\" /></g><g class=\"axes\"><g class=\"x-axis\"><g class=\"title\" transform=\"translate(300 200)\"><text class=\"lab\" text-anchor=\"middle\" transform=\"translate(0 -11)\">Genome position</text></g><line class=\"ax-line\" x1=\"20\" x2=\"580\" y1=\"163.2\" y2=\"163.2\" /><g class=\"ticks\"><g class=\"tick\" transform=\"translate(20 163.2)\"><line x1=\"0\" x2=\"0\" y1=\"0\" y2=\"5\" /><g transform=\"translate(0 6)\"><text class=\"lab\">0</text></g></g><g class=\"tick\" transform=\"translate(191.36 163.2)\"><line x1=\"0\" x2=\"0\" y1=\"0\" y2=\"5\" /><g transform=\"translate(0 6)\"><text class=\"lab\">3060</text></g></g><g class=\"tick\" transform=\"translate(346.032 163.2)\"><line x1=\"0\" x2=\"0\" y1=\"0\" y2=\"5\" /><g transform=\"translate(0 6)\"><text class=\"lab\">5822</text></g></g><g class=\"tick\" transform=\"translate(580 163.2)\"><line x1=\"0\" x2=\"0\" y1=\"0\" y2=\"5\" /><g transform=\"translate(0 6)\"><text class=\"lab\">10000</text></g></g></g><g class=\"site s0\" transform=\"translate(182.4 163.2)\"><line class=\"sym\" x1=\"0\" x2=\"0\" y1=\"0\" y2=\"-10\" /><g class=\"mut m0\"><polyline class=\"sym\" points=\"2.5,-6.5 0,-1.5 -2.5,-6.5\" /></g></g><g class=\"site s1\" transform=\"translate(209.896 163.2)\"><line class=\"sym\" x1=\"0\" x2=\"0\" y1=\"0\" y2=\"-10\" /><g class=\"mut m1\"><polyline class=\"sym\" points=\"2.5,-6.5 0,-1.5 -2.5,-6.5\" /></g></g><g class=\"site s2\" transform=\"translate(315.904 163.2)\"><line class=\"sym\" x1=\"0\" x2=\"0\" y1=\"0\" y2=\"-10\" /><g class=\"mut m2\"><polyline class=\"sym\" points=\"2.5,-6.5 0,-1.5 -2.5,-6.5\" /></g></g><g class=\"site s3\" transform=\"translate(364.624 163.2)\"><line class=\"sym\" x1=\"0\" x2=\"0\" y1=\"0\" y2=\"-10\" /><g class=\"mut m3\"><polyline class=\"sym\" points=\"2.5,-6.5 0,-1.5 -2.5,-6.5\" /></g></g><g class=\"site s4\" transform=\"translate(406.512 163.2)\"><line class=\"sym\" x1=\"0\" x2=\"0\" y1=\"0\" y2=\"-10\" /><g class=\"mut m4\"><polyline class=\"sym\" points=\"2.5,-6.5 0,-1.5 -2.5,-6.5\" /></g></g><g class=\"site s5\" transform=\"translate(462.624 163.2)\"><line class=\"sym\" x1=\"0\" x2=\"0\" y1=\"0\" y2=\"-10\" /><g class=\"mut m5\"><polyline class=\"sym\" points=\"2.5,-6.5 0,-1.5 -2.5,-6.5\" /></g></g><g class=\"site s6\" transform=\"translate(464.192 163.2)\"><line class=\"sym\" x1=\"0\" x2=\"0\" y1=\"0\" y2=\"-10\" /><g class=\"mut m6\"><polyline class=\"sym\" points=\"2.5,-6.5 0,-1.5 -2.5,-6.5\" /></g></g><g class=\"site s7\" transform=\"translate(473.824 163.2)\"><line class=\"sym\" x1=\"0\" x2=\"0\" y1=\"0\" y2=\"-10\" /><g class=\"mut m7\"><polyline class=\"sym\" points=\"2.5,-6.5 0,-1.5 -2.5,-6.5\" /></g></g><g class=\"site s8\" transform=\"translate(483.288 163.2)\"><line class=\"sym\" x1=\"0\" x2=\"0\" y1=\"0\" y2=\"-10\" /><g class=\"mut m8\"><polyline class=\"sym\" points=\"2.5,-6.5 0,-1.5 -2.5,-6.5\" /></g></g><g class=\"site s9\" transform=\"translate(514.424 163.2)\"><line class=\"sym\" x1=\"0\" x2=\"0\" y1=\"0\" y2=\"-10\" /><g class=\"mut m9\"><polyline class=\"sym\" points=\"2.5,-6.5 0,-1.5 -2.5,-6.5\" /></g></g></g></g><g class=\"plotbox trees\"><g class=\"tree t0\" transform=\"translate(20 0)\"><g class=\"plotbox\"><g class=\"c2 node n7 p0 root\" transform=\"translate(116.25 80.4706)\"><g class=\"a7 i0 leaf node n1 p0 sample\" transform=\"translate(32.0833 40.9294)\"><path class=\"edge\" d=\"M 0 0 V -40.9294 H -32.0833\" /><rect class=\"sym\" height=\"6\" width=\"6\" x=\"-3\" y=\"-3\" /><text class=\"lab\" transform=\"translate(0 11)\">1</text></g><g class=\"a7 c2 node n5 p0\" transform=\"translate(-32.0833 24.9736)\"><g class=\"a5 i1 leaf node n2 p0 sample\" transform=\"translate(27.5 15.9559)\"><path class=\"edge\" d=\"M 0 0 V -15.9559 H -27.5\" /><rect class=\"sym\" height=\"6\" width=\"6\" x=\"-3\" y=\"-3\" /><text class=\"lab\" transform=\"translate(0 11)\">2</text></g><g class=\"a5 c2 m0 node n4 p0 s0\" transform=\"translate(-27.5 14.766)\"><g class=\"a4 i0 leaf node n0 p0 sample\" transform=\"translate(-18.3333 1.18984)\"><path class=\"edge\" d=\"M 0 0 V -1.18984 H 18.3333\" /><rect class=\"sym\" height=\"6\" width=\"6\" x=\"-3\" y=\"-3\" /><text class=\"lab\" transform=\"translate(0 11)\">0</text></g><g class=\"a4 i1 leaf node n3 p0 sample\" transform=\"translate(18.3333 1.18984)\"><path class=\"edge\" d=\"M 0 0 V -1.18984 H -18.3333\" /><rect class=\"sym\" height=\"6\" width=\"6\" x=\"-3\" y=\"-3\" /><text class=\"lab\" transform=\"translate(0 11)\">3</text></g><path class=\"edge\" d=\"M 0 0 V -14.766 H 27.5\" /><g class=\"mut m0 s0\" transform=\"translate(0 -6.42798)\"><line x1=\"0\" x2=\"0\" y1=\"0\" y2=\"6.42798\" /><path class=\"sym\" d=\"M -3,-3 l 6,6 M -3,3 l 6,-6\" /><text class=\"lab lft\" transform=\"translate(-5 0)\">0</text></g><circle class=\"sym\" cx=\"0\" cy=\"0\" r=\"3\" /><text class=\"lab lft\" transform=\"translate(-3 -7.0)\">4</text></g><path class=\"edge\" d=\"M 0 0 V -24.9736 H 32.0833\" /><circle class=\"sym\" cx=\"0\" cy=\"0\" r=\"3\" /><text class=\"lab lft\" transform=\"translate(-3 -7.0)\">5</text></g><circle class=\"sym\" cx=\"0\" cy=\"0\" r=\"3\" /><text class=\"lab\" transform=\"translate(0 -11)\">7</text></g></g></g><g class=\"tree t1\" transform=\"translate(206.667 0)\"><g class=\"plotbox\"><g class=\"c2 node n7 p0 root\" transform=\"translate(93.3333 80.4706)\"><g class=\"a7 c2 m1 node n4 p0 s1\" transform=\"translate(-36.6667 39.7396)\"><g class=\"a4 i0 leaf node n0 p0 sample\" transform=\"translate(-18.3333 1.18984)\"><path class=\"edge\" d=\"M 0 0 V -1.18984 H 18.3333\" /><rect class=\"sym\" height=\"6\" width=\"6\" x=\"-3\" y=\"-3\" /><text class=\"lab\" transform=\"translate(0 11)\">0</text></g><g class=\"a4 i1 leaf node n3 p0 sample\" transform=\"translate(18.3333 1.18984)\"><path class=\"edge\" d=\"M 0 0 V -1.18984 H -18.3333\" /><rect class=\"sym\" height=\"6\" width=\"6\" x=\"-3\" y=\"-3\" /><text class=\"lab\" transform=\"translate(0 11)\">3</text></g><path class=\"edge\" d=\"M 0 0 V -39.7396 H 36.6667\" /><g class=\"mut m1 s1\" transform=\"translate(0 -11.9082)\"><line x1=\"0\" x2=\"0\" y1=\"0\" y2=\"11.9082\" /><path class=\"sym\" d=\"M -3,-3 l 6,6 M -3,3 l 6,-6\" /><text class=\"lab lft\" transform=\"translate(-5 0)\">1</text></g><circle class=\"sym\" cx=\"0\" cy=\"0\" r=\"3\" /><text class=\"lab lft\" transform=\"translate(-3 -7.0)\">4</text></g><g class=\"a7 c2 node n6 p0\" transform=\"translate(36.6667 22.3113)\"><g class=\"a6 i0 leaf m2 node n1 p0 s2 sample\" transform=\"translate(-18.3333 18.6181)\"><path class=\"edge\" d=\"M 0 0 V -18.6181 H 18.3333\" /><g class=\"mut m2 s2\" transform=\"translate(0 -6.15021)\"><line x1=\"0\" x2=\"0\" y1=\"0\" y2=\"6.15021\" /><path class=\"sym\" d=\"M -3,-3 l 6,6 M -3,3 l 6,-6\" /><text class=\"lab lft\" transform=\"translate(-5 0)\">2</text></g><rect class=\"sym\" height=\"6\" width=\"6\" x=\"-3\" y=\"-3\" /><text class=\"lab\" transform=\"translate(0 11)\">1</text></g><g class=\"a6 i1 leaf node n2 p0 sample\" transform=\"translate(18.3333 18.6181)\"><path class=\"edge\" d=\"M 0 0 V -18.6181 H -18.3333\" /><rect class=\"sym\" height=\"6\" width=\"6\" x=\"-3\" y=\"-3\" /><text class=\"lab\" transform=\"translate(0 11)\">2</text></g><path class=\"edge\" d=\"M 0 0 V -22.3113 H -36.6667\" /><circle class=\"sym\" cx=\"0\" cy=\"0\" r=\"3\" /><text class=\"lab rgt\" transform=\"translate(3 -7.0)\">6</text></g><circle class=\"sym\" cx=\"0\" cy=\"0\" r=\"3\" /><text class=\"lab\" transform=\"translate(0 -11)\">7</text></g></g></g><g class=\"tree t2\" transform=\"translate(393.333 0)\"><g class=\"plotbox\"><g class=\"c2 node n8 p0 root\" transform=\"translate(93.3333 26.8)\"><g class=\"a8 c2 m4 m5 m7 m8 m9 node n4 p0 s4 s5 s7 s8 s9\" transform=\"translate(-36.6667 93.4102)\"><g class=\"a4 i0 leaf node n0 p0 sample\" transform=\"translate(-18.3333 1.18984)\"><path class=\"edge\" d=\"M 0 0 V -1.18984 H 18.3333\" /><rect class=\"sym\" height=\"6\" width=\"6\" x=\"-3\" y=\"-3\" /><text class=\"lab\" transform=\"translate(0 11)\">0</text></g><g class=\"a4 i1 leaf node n3 p0 sample\" transform=\"translate(18.3333 1.18984)\"><path class=\"edge\" d=\"M 0 0 V -1.18984 H -18.3333\" /><rect class=\"sym\" height=\"6\" width=\"6\" x=\"-3\" y=\"-3\" /><text class=\"lab\" transform=\"translate(0 11)\">3</text></g><path class=\"edge\" d=\"M 0 0 V -93.4102 H 36.6667\" /><g class=\"mut m4 s4\" transform=\"translate(0 -79.77)\"><line x1=\"0\" x2=\"0\" y1=\"0\" y2=\"79.77\" /><path class=\"sym\" d=\"M -3,-3 l 6,6 M -3,3 l 6,-6\" /><text class=\"lab lft\" transform=\"translate(-5 0)\">4</text></g><g class=\"mut m9 s9\" transform=\"translate(0 -73.3583)\"><line x1=\"0\" x2=\"0\" y1=\"0\" y2=\"73.3583\" /><path class=\"sym\" d=\"M -3,-3 l 6,6 M -3,3 l 6,-6\" /><text class=\"lab lft\" transform=\"translate(-5 0)\">9</text></g><g class=\"mut m5 s5\" transform=\"translate(0 -47.9734)\"><line x1=\"0\" x2=\"0\" y1=\"0\" y2=\"47.9734\" /><path class=\"sym\" d=\"M -3,-3 l 6,6 M -3,3 l 6,-6\" /><text class=\"lab lft\" transform=\"translate(-5 0)\">5</text></g><g class=\"mut m7 s7\" transform=\"translate(0 -46.1667)\"><line x1=\"0\" x2=\"0\" y1=\"0\" y2=\"46.1667\" /><path class=\"sym\" d=\"M -3,-3 l 6,6 M -3,3 l 6,-6\" /><text class=\"lab lft\" transform=\"translate(-5 0)\">7</text></g><g class=\"mut m8 s8\" transform=\"translate(0 -17.2286)\"><line x1=\"0\" x2=\"0\" y1=\"0\" y2=\"17.2286\" /><path class=\"sym\" d=\"M -3,-3 l 6,6 M -3,3 l 6,-6\" /><text class=\"lab lft\" transform=\"translate(-5 0)\">8</text></g><circle class=\"sym\" cx=\"0\" cy=\"0\" r=\"3\" /><text class=\"lab lft\" transform=\"translate(-3 -7.0)\">4</text></g><g class=\"a8 c2 m3 m6 node n6 p0 s3 s6\" transform=\"translate(36.6667 75.9819)\"><g class=\"a6 i0 leaf node n1 p0 sample\" transform=\"translate(-18.3333 18.6181)\"><path class=\"edge\" d=\"M 0 0 V -18.6181 H 18.3333\" /><rect class=\"sym\" height=\"6\" width=\"6\" x=\"-3\" y=\"-3\" /><text class=\"lab\" transform=\"translate(0 11)\">1</text></g><g class=\"a6 i1 leaf node n2 p0 sample\" transform=\"translate(18.3333 18.6181)\"><path class=\"edge\" d=\"M 0 0 V -18.6181 H -18.3333\" /><rect class=\"sym\" height=\"6\" width=\"6\" x=\"-3\" y=\"-3\" /><text class=\"lab\" transform=\"translate(0 11)\">2</text></g><path class=\"edge\" d=\"M 0 0 V -75.9819 H -36.6667\" /><g class=\"mut m3 s3\" transform=\"translate(0 -73.6745)\"><line x1=\"0\" x2=\"0\" y1=\"0\" y2=\"73.6745\" /><path class=\"sym\" d=\"M -3,-3 l 6,6 M -3,3 l 6,-6\" /><text class=\"lab rgt\" transform=\"translate(5 0)\">3</text></g><g class=\"mut m6 s6\" transform=\"translate(0 -22.568)\"><line x1=\"0\" x2=\"0\" y1=\"0\" y2=\"22.568\" /><path class=\"sym\" d=\"M -3,-3 l 6,6 M -3,3 l 6,-6\" /><text class=\"lab rgt\" transform=\"translate(5 0)\">6</text></g><circle class=\"sym\" cx=\"0\" cy=\"0\" r=\"3\" /><text class=\"lab rgt\" transform=\"translate(3 -7.0)\">6</text></g><circle class=\"sym\" cx=\"0\" cy=\"0\" r=\"3\" /><text class=\"lab\" transform=\"translate(0 -11)\">8</text></g></g></g></g></g></svg>'"
      ]
     },
     "execution_count": 26,
     "metadata": {},
     "output_type": "execute_result"
    }
   ],
   "source": [
    "ts.draw_svg()"
   ]
  },
  {
   "cell_type": "markdown",
   "id": "027d0d8a",
   "metadata": {},
   "source": [
    "## Modifying tree sequences\n",
    "Table collections inderlying tree sequences are immutable by default. But one can create a mutable copy:"
   ]
  },
  {
   "cell_type": "code",
   "execution_count": 29,
   "id": "357e4f38",
   "metadata": {},
   "outputs": [],
   "source": [
    "myTabs = ts.tables.copy()"
   ]
  },
  {
   "cell_type": "code",
   "execution_count": 30,
   "id": "3433c739",
   "metadata": {},
   "outputs": [
    {
     "data": {
      "text/html": [
       "\n",
       "        <div>\n",
       "            <style scoped=\"\">\n",
       "                .tskit-table tbody tr th:only-of-type {vertical-align: middle;}\n",
       "                .tskit-table tbody tr th {vertical-align: top;}\n",
       "                .tskit-table tbody td {text-align: right;padding: 0.5em 0.5em;}\n",
       "                .tskit-table tbody th {padding: 0.5em 0.5em;}\n",
       "            </style>\n",
       "            <table border=\"1\" class=\"tskit-table\">\n",
       "                <thead>\n",
       "                    <tr>\n",
       "                        <th>id</th><th>flags</th><th>population</th><th>individual</th><th>time</th><th>metadata</th>\n",
       "                    </tr>\n",
       "                </thead>\n",
       "                <tbody>\n",
       "                    <tr><td>0</td><td>1</td><td>0</td><td>0</td><td>0.00000000</td><td></td></tr>\n",
       "<tr><td>1</td><td>1</td><td>0</td><td>0</td><td>0.00000000</td><td></td></tr>\n",
       "<tr><td>2</td><td>1</td><td>0</td><td>1</td><td>0.00000000</td><td></td></tr>\n",
       "<tr><td>3</td><td>1</td><td>0</td><td>1</td><td>0.00000000</td><td></td></tr>\n",
       "<tr><td>4</td><td>0</td><td>0</td><td>-1</td><td>68.22262809</td><td></td></tr>\n",
       "<tr><td>5</td><td>0</td><td>0</td><td>-1</td><td>914.87455689</td><td></td></tr>\n",
       "<tr><td>6</td><td>0</td><td>0</td><td>-1</td><td>1067.52208671</td><td></td></tr>\n",
       "<tr><td>7</td><td>0</td><td>0</td><td>-1</td><td>2346.80413120</td><td></td></tr>\n",
       "<tr><td>8</td><td>0</td><td>0</td><td>-1</td><td>5424.15871673</td><td></td></tr>\n",
       "\n",
       "                </tbody>\n",
       "            </table>\n",
       "        </div>\n",
       "    "
      ],
      "text/plain": [
       "<tskit.tables.NodeTable at 0x7fcab971f670>"
      ]
     },
     "execution_count": 30,
     "metadata": {},
     "output_type": "execute_result"
    }
   ],
   "source": [
    "myTabs.nodes"
   ]
  },
  {
   "cell_type": "code",
   "execution_count": 31,
   "id": "491da666",
   "metadata": {},
   "outputs": [
    {
     "data": {
      "text/plain": [
       "NodeTableRow(flags=0, time=5424.158716732344, population=0, individual=-1, metadata=b'')"
      ]
     },
     "execution_count": 31,
     "metadata": {},
     "output_type": "execute_result"
    }
   ],
   "source": [
    "myTabs.nodes[8]"
   ]
  },
  {
   "cell_type": "markdown",
   "id": "0d678a1f",
   "metadata": {},
   "source": [
    "Let as change the age of node 8. The recommanded way is to replace the corresponding row by a new `NodeTableRow`:"
   ]
  },
  {
   "cell_type": "code",
   "execution_count": 33,
   "id": "c50b3737",
   "metadata": {},
   "outputs": [],
   "source": [
    "myTabs.nodes[8] = tskit.NodeTableRow(flags=0, time=20_000, population=0, individual=-1, metadata=b'')"
   ]
  },
  {
   "cell_type": "code",
   "execution_count": 34,
   "id": "411c35be",
   "metadata": {},
   "outputs": [
    {
     "data": {
      "text/html": [
       "\n",
       "        <div>\n",
       "            <style scoped=\"\">\n",
       "                .tskit-table tbody tr th:only-of-type {vertical-align: middle;}\n",
       "                .tskit-table tbody tr th {vertical-align: top;}\n",
       "                .tskit-table tbody td {text-align: right;padding: 0.5em 0.5em;}\n",
       "                .tskit-table tbody th {padding: 0.5em 0.5em;}\n",
       "            </style>\n",
       "            <table border=\"1\" class=\"tskit-table\">\n",
       "                <thead>\n",
       "                    <tr>\n",
       "                        <th>id</th><th>flags</th><th>population</th><th>individual</th><th>time</th><th>metadata</th>\n",
       "                    </tr>\n",
       "                </thead>\n",
       "                <tbody>\n",
       "                    <tr><td>0</td><td>1</td><td>0</td><td>0</td><td>0.00000000</td><td></td></tr>\n",
       "<tr><td>1</td><td>1</td><td>0</td><td>0</td><td>0.00000000</td><td></td></tr>\n",
       "<tr><td>2</td><td>1</td><td>0</td><td>1</td><td>0.00000000</td><td></td></tr>\n",
       "<tr><td>3</td><td>1</td><td>0</td><td>1</td><td>0.00000000</td><td></td></tr>\n",
       "<tr><td>4</td><td>0</td><td>0</td><td>-1</td><td>68.22262809</td><td></td></tr>\n",
       "<tr><td>5</td><td>0</td><td>0</td><td>-1</td><td>914.87455689</td><td></td></tr>\n",
       "<tr><td>6</td><td>0</td><td>0</td><td>-1</td><td>1067.52208671</td><td></td></tr>\n",
       "<tr><td>7</td><td>0</td><td>0</td><td>-1</td><td>2346.80413120</td><td></td></tr>\n",
       "<tr><td>8</td><td>0</td><td>0</td><td>-1</td><td>20000.00000000</td><td></td></tr>\n",
       "\n",
       "                </tbody>\n",
       "            </table>\n",
       "        </div>\n",
       "    "
      ],
      "text/plain": [
       "<tskit.tables.NodeTable at 0x7fcab971f670>"
      ]
     },
     "execution_count": 34,
     "metadata": {},
     "output_type": "execute_result"
    }
   ],
   "source": [
    "myTabs.nodes"
   ]
  },
  {
   "cell_type": "markdown",
   "id": "3e8d8984",
   "metadata": {},
   "source": [
    "To create a TS from a table collection, the collection must be sorted and then the tree_sequence method can be called:"
   ]
  },
  {
   "cell_type": "code",
   "execution_count": 36,
   "id": "562ec885",
   "metadata": {},
   "outputs": [],
   "source": [
    "myTabs.sort()"
   ]
  },
  {
   "cell_type": "code",
   "execution_count": 37,
   "id": "3b270fd6",
   "metadata": {},
   "outputs": [],
   "source": [
    "myTs = myTabs.tree_sequence()"
   ]
  },
  {
   "cell_type": "markdown",
   "id": "fe97c4a2",
   "metadata": {},
   "source": [
    "Here, node 8 is much older than in the original sequence:"
   ]
  },
  {
   "cell_type": "code",
   "execution_count": 40,
   "id": "1b21c348",
   "metadata": {},
   "outputs": [
    {
     "data": {
      "image/svg+xml": [
       "<svg baseProfile=\"full\" height=\"200\" version=\"1.1\" width=\"600\" xmlns=\"http://www.w3.org/2000/svg\" xmlns:ev=\"http://www.w3.org/2001/xml-events\" xmlns:xlink=\"http://www.w3.org/1999/xlink\"><defs><style type=\"text/css\"><![CDATA[.background path {fill: #808080; fill-opacity: 0}.background path:nth-child(odd) {fill-opacity: .1}.axes {font-size: 14px}.x-axis .tick .lab {font-weight: bold; dominant-baseline: hanging}.axes, .tree {font-size: 14px; text-anchor: middle}.axes line, .edge {stroke: black; fill: none}.axes .ax-skip {stroke-dasharray: 4}.y-axis .grid {stroke: #FAFAFA}.node > .sym {fill: black; stroke: none}.site > .sym {stroke: black}.mut text {fill: red; font-style: italic}.mut.extra text {fill: hotpink}.mut line {fill: none; stroke: none}.mut .sym {fill: none; stroke: red}.mut.extra .sym {stroke: hotpink}.node .mut .sym {stroke-width: 1.5px}.tree text, .tree-sequence text {dominant-baseline: central}.plotbox .lab.lft {text-anchor: end}.plotbox .lab.rgt {text-anchor: start}]]></style></defs><g class=\"tree-sequence\"><g class=\"background\"><path d=\"M56.8,0 l174.4,0 l0,138.2 l-14.3008,25 l0,5 l-160.099,0 l0,-5 l0,-25 l0,-138.2z\" /><path d=\"M231.2,0 l174.4,0 l0,138.2 l-44.193,25 l0,5 l-144.508,0 l0,-5 l14.301,-25 l0,-138.2z\" /><path d=\"M405.6,0 l174.4,0 l0,138.2 l0,25 l0,5 l-218.593,0 l0,-5 l44.193,-25 l0,-138.2z\" /></g><g class=\"axes\"><g class=\"x-axis\"><g class=\"title\" transform=\"translate(318.4 200)\"><text class=\"lab\" text-anchor=\"middle\" transform=\"translate(0 -11)\">Genome position</text></g><line class=\"ax-line\" x1=\"56.8\" x2=\"580\" y1=\"163.2\" y2=\"163.2\" /><g class=\"ticks\"><g class=\"tick\" transform=\"translate(56.8 163.2)\"><line x1=\"0\" x2=\"0\" y1=\"0\" y2=\"5\" /><g transform=\"translate(0 6)\"><text class=\"lab\">0</text></g></g><g class=\"tick\" transform=\"translate(216.899 163.2)\"><line x1=\"0\" x2=\"0\" y1=\"0\" y2=\"5\" /><g transform=\"translate(0 6)\"><text class=\"lab\">3060</text></g></g><g class=\"tick\" transform=\"translate(361.407 163.2)\"><line x1=\"0\" x2=\"0\" y1=\"0\" y2=\"5\" /><g transform=\"translate(0 6)\"><text class=\"lab\">5822</text></g></g><g class=\"tick\" transform=\"translate(580 163.2)\"><line x1=\"0\" x2=\"0\" y1=\"0\" y2=\"5\" /><g transform=\"translate(0 6)\"><text class=\"lab\">10000</text></g></g></g><g class=\"site s0\" transform=\"translate(208.528 163.2)\"><line class=\"sym\" x1=\"0\" x2=\"0\" y1=\"0\" y2=\"-10\" /><g class=\"mut m0\"><polyline class=\"sym\" points=\"2.5,-6.5 0,-1.5 -2.5,-6.5\" /></g></g><g class=\"site s1\" transform=\"translate(234.217 163.2)\"><line class=\"sym\" x1=\"0\" x2=\"0\" y1=\"0\" y2=\"-10\" /><g class=\"mut m1\"><polyline class=\"sym\" points=\"2.5,-6.5 0,-1.5 -2.5,-6.5\" /></g></g><g class=\"site s2\" transform=\"translate(333.259 163.2)\"><line class=\"sym\" x1=\"0\" x2=\"0\" y1=\"0\" y2=\"-10\" /><g class=\"mut m2\"><polyline class=\"sym\" points=\"2.5,-6.5 0,-1.5 -2.5,-6.5\" /></g></g><g class=\"site s3\" transform=\"translate(378.777 163.2)\"><line class=\"sym\" x1=\"0\" x2=\"0\" y1=\"0\" y2=\"-10\" /><g class=\"mut m3\"><polyline class=\"sym\" points=\"2.5,-6.5 0,-1.5 -2.5,-6.5\" /></g></g><g class=\"site s4\" transform=\"translate(417.913 163.2)\"><line class=\"sym\" x1=\"0\" x2=\"0\" y1=\"0\" y2=\"-10\" /><g class=\"mut m4\"><polyline class=\"sym\" points=\"2.5,-6.5 0,-1.5 -2.5,-6.5\" /></g></g><g class=\"site s5\" transform=\"translate(470.337 163.2)\"><line class=\"sym\" x1=\"0\" x2=\"0\" y1=\"0\" y2=\"-10\" /><g class=\"mut m5\"><polyline class=\"sym\" points=\"2.5,-6.5 0,-1.5 -2.5,-6.5\" /></g></g><g class=\"site s6\" transform=\"translate(471.802 163.2)\"><line class=\"sym\" x1=\"0\" x2=\"0\" y1=\"0\" y2=\"-10\" /><g class=\"mut m6\"><polyline class=\"sym\" points=\"2.5,-6.5 0,-1.5 -2.5,-6.5\" /></g></g><g class=\"site s7\" transform=\"translate(480.801 163.2)\"><line class=\"sym\" x1=\"0\" x2=\"0\" y1=\"0\" y2=\"-10\" /><g class=\"mut m7\"><polyline class=\"sym\" points=\"2.5,-6.5 0,-1.5 -2.5,-6.5\" /></g></g><g class=\"site s8\" transform=\"translate(489.643 163.2)\"><line class=\"sym\" x1=\"0\" x2=\"0\" y1=\"0\" y2=\"-10\" /><g class=\"mut m8\"><polyline class=\"sym\" points=\"2.5,-6.5 0,-1.5 -2.5,-6.5\" /></g></g><g class=\"site s9\" transform=\"translate(518.733 163.2)\"><line class=\"sym\" x1=\"0\" x2=\"0\" y1=\"0\" y2=\"-10\" /><g class=\"mut m9\"><polyline class=\"sym\" points=\"2.5,-6.5 0,-1.5 -2.5,-6.5\" /></g></g></g><g class=\"y-axis\"><g class=\"title\" transform=\"translate(0 65.7)\"><text class=\"lab\" text-anchor=\"middle\" transform=\"translate(11) rotate(-90)\">Time (generations)</text></g><line class=\"ax-line\" x1=\"56.8\" x2=\"56.8\" y1=\"121.4\" y2=\"10\" /><g class=\"ticks\"><g class=\"tick\" transform=\"translate(56.8 121.4)\"><line x1=\"0\" x2=\"-5\" y1=\"0\" y2=\"0\" /><g transform=\"translate(-6 0)\"><text class=\"lab\" text-anchor=\"end\">0.00</text></g></g><g class=\"tick\" transform=\"translate(56.8 121.077)\"><line x1=\"0\" x2=\"-5\" y1=\"0\" y2=\"0\" /><g transform=\"translate(-6 0)\"><text class=\"lab\" text-anchor=\"end\">68.22</text></g></g><g class=\"tick\" transform=\"translate(56.8 117.073)\"><line x1=\"0\" x2=\"-5\" y1=\"0\" y2=\"0\" /><g transform=\"translate(-6 0)\"><text class=\"lab\" text-anchor=\"end\">914.87</text></g></g><g class=\"tick\" transform=\"translate(56.8 116.351)\"><line x1=\"0\" x2=\"-5\" y1=\"0\" y2=\"0\" /><g transform=\"translate(-6 0)\"><text class=\"lab\" text-anchor=\"end\">1067.52</text></g></g><g class=\"tick\" transform=\"translate(56.8 110.3)\"><line x1=\"0\" x2=\"-5\" y1=\"0\" y2=\"0\" /><g transform=\"translate(-6 0)\"><text class=\"lab\" text-anchor=\"end\">2346.80</text></g></g><g class=\"tick\" transform=\"translate(56.8 26.8)\"><line x1=\"0\" x2=\"-5\" y1=\"0\" y2=\"0\" /><g transform=\"translate(-6 0)\"><text class=\"lab\" text-anchor=\"end\">20000.00</text></g></g></g></g></g><g class=\"plotbox trees\"><g class=\"tree t0\" transform=\"translate(56.8 0)\"><g class=\"plotbox\"><g class=\"c2 node n7 p0 root\" transform=\"translate(108.2 110.3)\"><g class=\"a7 i0 leaf node n1 p0 sample\" transform=\"translate(29.4 11.1004)\"><path class=\"edge\" d=\"M 0 0 V -11.1004 H -29.4\" /><rect class=\"sym\" height=\"6\" width=\"6\" x=\"-3\" y=\"-3\" /><text class=\"lab\" transform=\"translate(0 11)\">1</text></g><g class=\"a7 c2 node n5 p0\" transform=\"translate(-29.4 6.77303)\"><g class=\"a5 i1 leaf node n2 p0 sample\" transform=\"translate(25.2 4.32736)\"><path class=\"edge\" d=\"M 0 0 V -4.32736 H -25.2\" /><rect class=\"sym\" height=\"6\" width=\"6\" x=\"-3\" y=\"-3\" /><text class=\"lab\" transform=\"translate(0 11)\">2</text></g><g class=\"a5 c2 m0 node n4 p0 s0\" transform=\"translate(-25.2 4.00466)\"><g class=\"a4 i0 leaf node n0 p0 sample\" transform=\"translate(-16.8 0.322693)\"><path class=\"edge\" d=\"M 0 0 V -0.322693 H 16.8\" /><rect class=\"sym\" height=\"6\" width=\"6\" x=\"-3\" y=\"-3\" /><text class=\"lab\" transform=\"translate(0 11)\">0</text></g><g class=\"a4 i1 leaf node n3 p0 sample\" transform=\"translate(16.8 0.322693)\"><path class=\"edge\" d=\"M 0 0 V -0.322693 H -16.8\" /><rect class=\"sym\" height=\"6\" width=\"6\" x=\"-3\" y=\"-3\" /><text class=\"lab\" transform=\"translate(0 11)\">3</text></g><path class=\"edge\" d=\"M 0 0 V -4.00466 H 25.2\" /><g class=\"mut m0 s0\" transform=\"translate(0 -1.74332)\"><line x1=\"0\" x2=\"0\" y1=\"0\" y2=\"1.74332\" /><path class=\"sym\" d=\"M -3,-3 l 6,6 M -3,3 l 6,-6\" /><text class=\"lab lft\" transform=\"translate(-5 0)\">0</text></g><circle class=\"sym\" cx=\"0\" cy=\"0\" r=\"3\" /><text class=\"lab lft\" transform=\"translate(-3 -7.0)\">4</text></g><path class=\"edge\" d=\"M 0 0 V -6.77303 H 29.4\" /><circle class=\"sym\" cx=\"0\" cy=\"0\" r=\"3\" /><text class=\"lab lft\" transform=\"translate(-3 -7.0)\">5</text></g><circle class=\"sym\" cx=\"0\" cy=\"0\" r=\"3\" /><text class=\"lab\" transform=\"translate(0 -11)\">7</text></g></g></g><g class=\"tree t1\" transform=\"translate(231.2 0)\"><g class=\"plotbox\"><g class=\"c2 node n7 p0 root\" transform=\"translate(87.2 110.3)\"><g class=\"a7 c2 m1 node n4 p0 s1\" transform=\"translate(-33.6 10.7777)\"><g class=\"a4 i0 leaf node n0 p0 sample\" transform=\"translate(-16.8 0.322693)\"><path class=\"edge\" d=\"M 0 0 V -0.322693 H 16.8\" /><rect class=\"sym\" height=\"6\" width=\"6\" x=\"-3\" y=\"-3\" /><text class=\"lab\" transform=\"translate(0 11)\">0</text></g><g class=\"a4 i1 leaf node n3 p0 sample\" transform=\"translate(16.8 0.322693)\"><path class=\"edge\" d=\"M 0 0 V -0.322693 H -16.8\" /><rect class=\"sym\" height=\"6\" width=\"6\" x=\"-3\" y=\"-3\" /><text class=\"lab\" transform=\"translate(0 11)\">3</text></g><path class=\"edge\" d=\"M 0 0 V -10.7777 H 33.6\" /><g class=\"mut m1 s1\" transform=\"translate(0 -3.22959)\"><line x1=\"0\" x2=\"0\" y1=\"0\" y2=\"3.22959\" /><path class=\"sym\" d=\"M -3,-3 l 6,6 M -3,3 l 6,-6\" /><text class=\"lab lft\" transform=\"translate(-5 0)\">1</text></g><circle class=\"sym\" cx=\"0\" cy=\"0\" r=\"3\" /><text class=\"lab lft\" transform=\"translate(-3 -7.0)\">4</text></g><g class=\"a7 c2 node n6 p0\" transform=\"translate(33.6 6.051)\"><g class=\"a6 i0 leaf m2 node n1 p0 s2 sample\" transform=\"translate(-16.8 5.04938)\"><path class=\"edge\" d=\"M 0 0 V -5.04938 H 16.8\" /><g class=\"mut m2 s2\" transform=\"translate(0 -1.66799)\"><line x1=\"0\" x2=\"0\" y1=\"0\" y2=\"1.66799\" /><path class=\"sym\" d=\"M -3,-3 l 6,6 M -3,3 l 6,-6\" /><text class=\"lab lft\" transform=\"translate(-5 0)\">2</text></g><rect class=\"sym\" height=\"6\" width=\"6\" x=\"-3\" y=\"-3\" /><text class=\"lab\" transform=\"translate(0 11)\">1</text></g><g class=\"a6 i1 leaf node n2 p0 sample\" transform=\"translate(16.8 5.04938)\"><path class=\"edge\" d=\"M 0 0 V -5.04938 H -16.8\" /><rect class=\"sym\" height=\"6\" width=\"6\" x=\"-3\" y=\"-3\" /><text class=\"lab\" transform=\"translate(0 11)\">2</text></g><path class=\"edge\" d=\"M 0 0 V -6.051 H -33.6\" /><circle class=\"sym\" cx=\"0\" cy=\"0\" r=\"3\" /><text class=\"lab rgt\" transform=\"translate(3 -7.0)\">6</text></g><circle class=\"sym\" cx=\"0\" cy=\"0\" r=\"3\" /><text class=\"lab\" transform=\"translate(0 -11)\">7</text></g></g></g><g class=\"tree t2\" transform=\"translate(405.6 0)\"><g class=\"plotbox\"><g class=\"c2 node n8 p0 root\" transform=\"translate(87.2 26.8)\"><g class=\"a8 c2 m4 m5 m7 m8 m9 node n4 p0 s4 s5 s7 s8 s9\" transform=\"translate(-33.6 94.2773)\"><g class=\"a4 i0 leaf node n0 p0 sample\" transform=\"translate(-16.8 0.322693)\"><path class=\"edge\" d=\"M 0 0 V -0.322693 H 16.8\" /><rect class=\"sym\" height=\"6\" width=\"6\" x=\"-3\" y=\"-3\" /><text class=\"lab\" transform=\"translate(0 11)\">0</text></g><g class=\"a4 i1 leaf node n3 p0 sample\" transform=\"translate(16.8 0.322693)\"><path class=\"edge\" d=\"M 0 0 V -0.322693 H -16.8\" /><rect class=\"sym\" height=\"6\" width=\"6\" x=\"-3\" y=\"-3\" /><text class=\"lab\" transform=\"translate(0 11)\">3</text></g><path class=\"edge\" d=\"M 0 0 V -94.2773 H 33.6\" /><g class=\"mut m4 s4\" transform=\"translate(0 -21.6342)\"><line x1=\"0\" x2=\"0\" y1=\"0\" y2=\"21.6342\" /><path class=\"sym\" d=\"M -3,-3 l 6,6 M -3,3 l 6,-6\" /><text class=\"lab lft\" transform=\"translate(-5 0)\">4</text></g><g class=\"mut m9 s9\" transform=\"translate(0 -19.8953)\"><line x1=\"0\" x2=\"0\" y1=\"0\" y2=\"19.8953\" /><path class=\"sym\" d=\"M -3,-3 l 6,6 M -3,3 l 6,-6\" /><text class=\"lab lft\" transform=\"translate(-5 0)\">9</text></g><g class=\"mut m5 s5\" transform=\"translate(0 -13.0108)\"><line x1=\"0\" x2=\"0\" y1=\"0\" y2=\"13.0108\" /><path class=\"sym\" d=\"M -3,-3 l 6,6 M -3,3 l 6,-6\" /><text class=\"lab lft\" transform=\"translate(-5 0)\">5</text></g><g class=\"mut m7 s7\" transform=\"translate(0 -12.5208)\"><line x1=\"0\" x2=\"0\" y1=\"0\" y2=\"12.5208\" /><path class=\"sym\" d=\"M -3,-3 l 6,6 M -3,3 l 6,-6\" /><text class=\"lab lft\" transform=\"translate(-5 0)\">7</text></g><g class=\"mut m8 s8\" transform=\"translate(0 -4.67252)\"><line x1=\"0\" x2=\"0\" y1=\"0\" y2=\"4.67252\" /><path class=\"sym\" d=\"M -3,-3 l 6,6 M -3,3 l 6,-6\" /><text class=\"lab lft\" transform=\"translate(-5 0)\">8</text></g><circle class=\"sym\" cx=\"0\" cy=\"0\" r=\"3\" /><text class=\"lab lft\" transform=\"translate(-3 -7.0)\">4</text></g><g class=\"a8 c2 m3 m6 node n6 p0 s3 s6\" transform=\"translate(33.6 89.5506)\"><g class=\"a6 i0 leaf node n1 p0 sample\" transform=\"translate(-16.8 5.04938)\"><path class=\"edge\" d=\"M 0 0 V -5.04938 H 16.8\" /><rect class=\"sym\" height=\"6\" width=\"6\" x=\"-3\" y=\"-3\" /><text class=\"lab\" transform=\"translate(0 11)\">1</text></g><g class=\"a6 i1 leaf node n2 p0 sample\" transform=\"translate(16.8 5.04938)\"><path class=\"edge\" d=\"M 0 0 V -5.04938 H -16.8\" /><rect class=\"sym\" height=\"6\" width=\"6\" x=\"-3\" y=\"-3\" /><text class=\"lab\" transform=\"translate(0 11)\">2</text></g><path class=\"edge\" d=\"M 0 0 V -89.5506 H -33.6\" /><g class=\"mut m3 s3\" transform=\"translate(0 -19.9811)\"><line x1=\"0\" x2=\"0\" y1=\"0\" y2=\"19.9811\" /><path class=\"sym\" d=\"M -3,-3 l 6,6 M -3,3 l 6,-6\" /><text class=\"lab rgt\" transform=\"translate(5 0)\">3</text></g><g class=\"mut m6 s6\" transform=\"translate(0 -6.12063)\"><line x1=\"0\" x2=\"0\" y1=\"0\" y2=\"6.12063\" /><path class=\"sym\" d=\"M -3,-3 l 6,6 M -3,3 l 6,-6\" /><text class=\"lab rgt\" transform=\"translate(5 0)\">6</text></g><circle class=\"sym\" cx=\"0\" cy=\"0\" r=\"3\" /><text class=\"lab rgt\" transform=\"translate(3 -7.0)\">6</text></g><circle class=\"sym\" cx=\"0\" cy=\"0\" r=\"3\" /><text class=\"lab\" transform=\"translate(0 -11)\">8</text></g></g></g></g></g></svg>"
      ],
      "text/plain": [
       "'<svg baseProfile=\"full\" height=\"200\" version=\"1.1\" width=\"600\" xmlns=\"http://www.w3.org/2000/svg\" xmlns:ev=\"http://www.w3.org/2001/xml-events\" xmlns:xlink=\"http://www.w3.org/1999/xlink\"><defs><style type=\"text/css\"><![CDATA[.background path {fill: #808080; fill-opacity: 0}.background path:nth-child(odd) {fill-opacity: .1}.axes {font-size: 14px}.x-axis .tick .lab {font-weight: bold; dominant-baseline: hanging}.axes, .tree {font-size: 14px; text-anchor: middle}.axes line, .edge {stroke: black; fill: none}.axes .ax-skip {stroke-dasharray: 4}.y-axis .grid {stroke: #FAFAFA}.node > .sym {fill: black; stroke: none}.site > .sym {stroke: black}.mut text {fill: red; font-style: italic}.mut.extra text {fill: hotpink}.mut line {fill: none; stroke: none}.mut .sym {fill: none; stroke: red}.mut.extra .sym {stroke: hotpink}.node .mut .sym {stroke-width: 1.5px}.tree text, .tree-sequence text {dominant-baseline: central}.plotbox .lab.lft {text-anchor: end}.plotbox .lab.rgt {text-anchor: start}]]></style></defs><g class=\"tree-sequence\"><g class=\"background\"><path d=\"M56.8,0 l174.4,0 l0,138.2 l-14.3008,25 l0,5 l-160.099,0 l0,-5 l0,-25 l0,-138.2z\" /><path d=\"M231.2,0 l174.4,0 l0,138.2 l-44.193,25 l0,5 l-144.508,0 l0,-5 l14.301,-25 l0,-138.2z\" /><path d=\"M405.6,0 l174.4,0 l0,138.2 l0,25 l0,5 l-218.593,0 l0,-5 l44.193,-25 l0,-138.2z\" /></g><g class=\"axes\"><g class=\"x-axis\"><g class=\"title\" transform=\"translate(318.4 200)\"><text class=\"lab\" text-anchor=\"middle\" transform=\"translate(0 -11)\">Genome position</text></g><line class=\"ax-line\" x1=\"56.8\" x2=\"580\" y1=\"163.2\" y2=\"163.2\" /><g class=\"ticks\"><g class=\"tick\" transform=\"translate(56.8 163.2)\"><line x1=\"0\" x2=\"0\" y1=\"0\" y2=\"5\" /><g transform=\"translate(0 6)\"><text class=\"lab\">0</text></g></g><g class=\"tick\" transform=\"translate(216.899 163.2)\"><line x1=\"0\" x2=\"0\" y1=\"0\" y2=\"5\" /><g transform=\"translate(0 6)\"><text class=\"lab\">3060</text></g></g><g class=\"tick\" transform=\"translate(361.407 163.2)\"><line x1=\"0\" x2=\"0\" y1=\"0\" y2=\"5\" /><g transform=\"translate(0 6)\"><text class=\"lab\">5822</text></g></g><g class=\"tick\" transform=\"translate(580 163.2)\"><line x1=\"0\" x2=\"0\" y1=\"0\" y2=\"5\" /><g transform=\"translate(0 6)\"><text class=\"lab\">10000</text></g></g></g><g class=\"site s0\" transform=\"translate(208.528 163.2)\"><line class=\"sym\" x1=\"0\" x2=\"0\" y1=\"0\" y2=\"-10\" /><g class=\"mut m0\"><polyline class=\"sym\" points=\"2.5,-6.5 0,-1.5 -2.5,-6.5\" /></g></g><g class=\"site s1\" transform=\"translate(234.217 163.2)\"><line class=\"sym\" x1=\"0\" x2=\"0\" y1=\"0\" y2=\"-10\" /><g class=\"mut m1\"><polyline class=\"sym\" points=\"2.5,-6.5 0,-1.5 -2.5,-6.5\" /></g></g><g class=\"site s2\" transform=\"translate(333.259 163.2)\"><line class=\"sym\" x1=\"0\" x2=\"0\" y1=\"0\" y2=\"-10\" /><g class=\"mut m2\"><polyline class=\"sym\" points=\"2.5,-6.5 0,-1.5 -2.5,-6.5\" /></g></g><g class=\"site s3\" transform=\"translate(378.777 163.2)\"><line class=\"sym\" x1=\"0\" x2=\"0\" y1=\"0\" y2=\"-10\" /><g class=\"mut m3\"><polyline class=\"sym\" points=\"2.5,-6.5 0,-1.5 -2.5,-6.5\" /></g></g><g class=\"site s4\" transform=\"translate(417.913 163.2)\"><line class=\"sym\" x1=\"0\" x2=\"0\" y1=\"0\" y2=\"-10\" /><g class=\"mut m4\"><polyline class=\"sym\" points=\"2.5,-6.5 0,-1.5 -2.5,-6.5\" /></g></g><g class=\"site s5\" transform=\"translate(470.337 163.2)\"><line class=\"sym\" x1=\"0\" x2=\"0\" y1=\"0\" y2=\"-10\" /><g class=\"mut m5\"><polyline class=\"sym\" points=\"2.5,-6.5 0,-1.5 -2.5,-6.5\" /></g></g><g class=\"site s6\" transform=\"translate(471.802 163.2)\"><line class=\"sym\" x1=\"0\" x2=\"0\" y1=\"0\" y2=\"-10\" /><g class=\"mut m6\"><polyline class=\"sym\" points=\"2.5,-6.5 0,-1.5 -2.5,-6.5\" /></g></g><g class=\"site s7\" transform=\"translate(480.801 163.2)\"><line class=\"sym\" x1=\"0\" x2=\"0\" y1=\"0\" y2=\"-10\" /><g class=\"mut m7\"><polyline class=\"sym\" points=\"2.5,-6.5 0,-1.5 -2.5,-6.5\" /></g></g><g class=\"site s8\" transform=\"translate(489.643 163.2)\"><line class=\"sym\" x1=\"0\" x2=\"0\" y1=\"0\" y2=\"-10\" /><g class=\"mut m8\"><polyline class=\"sym\" points=\"2.5,-6.5 0,-1.5 -2.5,-6.5\" /></g></g><g class=\"site s9\" transform=\"translate(518.733 163.2)\"><line class=\"sym\" x1=\"0\" x2=\"0\" y1=\"0\" y2=\"-10\" /><g class=\"mut m9\"><polyline class=\"sym\" points=\"2.5,-6.5 0,-1.5 -2.5,-6.5\" /></g></g></g><g class=\"y-axis\"><g class=\"title\" transform=\"translate(0 65.7)\"><text class=\"lab\" text-anchor=\"middle\" transform=\"translate(11) rotate(-90)\">Time (generations)</text></g><line class=\"ax-line\" x1=\"56.8\" x2=\"56.8\" y1=\"121.4\" y2=\"10\" /><g class=\"ticks\"><g class=\"tick\" transform=\"translate(56.8 121.4)\"><line x1=\"0\" x2=\"-5\" y1=\"0\" y2=\"0\" /><g transform=\"translate(-6 0)\"><text class=\"lab\" text-anchor=\"end\">0.00</text></g></g><g class=\"tick\" transform=\"translate(56.8 121.077)\"><line x1=\"0\" x2=\"-5\" y1=\"0\" y2=\"0\" /><g transform=\"translate(-6 0)\"><text class=\"lab\" text-anchor=\"end\">68.22</text></g></g><g class=\"tick\" transform=\"translate(56.8 117.073)\"><line x1=\"0\" x2=\"-5\" y1=\"0\" y2=\"0\" /><g transform=\"translate(-6 0)\"><text class=\"lab\" text-anchor=\"end\">914.87</text></g></g><g class=\"tick\" transform=\"translate(56.8 116.351)\"><line x1=\"0\" x2=\"-5\" y1=\"0\" y2=\"0\" /><g transform=\"translate(-6 0)\"><text class=\"lab\" text-anchor=\"end\">1067.52</text></g></g><g class=\"tick\" transform=\"translate(56.8 110.3)\"><line x1=\"0\" x2=\"-5\" y1=\"0\" y2=\"0\" /><g transform=\"translate(-6 0)\"><text class=\"lab\" text-anchor=\"end\">2346.80</text></g></g><g class=\"tick\" transform=\"translate(56.8 26.8)\"><line x1=\"0\" x2=\"-5\" y1=\"0\" y2=\"0\" /><g transform=\"translate(-6 0)\"><text class=\"lab\" text-anchor=\"end\">20000.00</text></g></g></g></g></g><g class=\"plotbox trees\"><g class=\"tree t0\" transform=\"translate(56.8 0)\"><g class=\"plotbox\"><g class=\"c2 node n7 p0 root\" transform=\"translate(108.2 110.3)\"><g class=\"a7 i0 leaf node n1 p0 sample\" transform=\"translate(29.4 11.1004)\"><path class=\"edge\" d=\"M 0 0 V -11.1004 H -29.4\" /><rect class=\"sym\" height=\"6\" width=\"6\" x=\"-3\" y=\"-3\" /><text class=\"lab\" transform=\"translate(0 11)\">1</text></g><g class=\"a7 c2 node n5 p0\" transform=\"translate(-29.4 6.77303)\"><g class=\"a5 i1 leaf node n2 p0 sample\" transform=\"translate(25.2 4.32736)\"><path class=\"edge\" d=\"M 0 0 V -4.32736 H -25.2\" /><rect class=\"sym\" height=\"6\" width=\"6\" x=\"-3\" y=\"-3\" /><text class=\"lab\" transform=\"translate(0 11)\">2</text></g><g class=\"a5 c2 m0 node n4 p0 s0\" transform=\"translate(-25.2 4.00466)\"><g class=\"a4 i0 leaf node n0 p0 sample\" transform=\"translate(-16.8 0.322693)\"><path class=\"edge\" d=\"M 0 0 V -0.322693 H 16.8\" /><rect class=\"sym\" height=\"6\" width=\"6\" x=\"-3\" y=\"-3\" /><text class=\"lab\" transform=\"translate(0 11)\">0</text></g><g class=\"a4 i1 leaf node n3 p0 sample\" transform=\"translate(16.8 0.322693)\"><path class=\"edge\" d=\"M 0 0 V -0.322693 H -16.8\" /><rect class=\"sym\" height=\"6\" width=\"6\" x=\"-3\" y=\"-3\" /><text class=\"lab\" transform=\"translate(0 11)\">3</text></g><path class=\"edge\" d=\"M 0 0 V -4.00466 H 25.2\" /><g class=\"mut m0 s0\" transform=\"translate(0 -1.74332)\"><line x1=\"0\" x2=\"0\" y1=\"0\" y2=\"1.74332\" /><path class=\"sym\" d=\"M -3,-3 l 6,6 M -3,3 l 6,-6\" /><text class=\"lab lft\" transform=\"translate(-5 0)\">0</text></g><circle class=\"sym\" cx=\"0\" cy=\"0\" r=\"3\" /><text class=\"lab lft\" transform=\"translate(-3 -7.0)\">4</text></g><path class=\"edge\" d=\"M 0 0 V -6.77303 H 29.4\" /><circle class=\"sym\" cx=\"0\" cy=\"0\" r=\"3\" /><text class=\"lab lft\" transform=\"translate(-3 -7.0)\">5</text></g><circle class=\"sym\" cx=\"0\" cy=\"0\" r=\"3\" /><text class=\"lab\" transform=\"translate(0 -11)\">7</text></g></g></g><g class=\"tree t1\" transform=\"translate(231.2 0)\"><g class=\"plotbox\"><g class=\"c2 node n7 p0 root\" transform=\"translate(87.2 110.3)\"><g class=\"a7 c2 m1 node n4 p0 s1\" transform=\"translate(-33.6 10.7777)\"><g class=\"a4 i0 leaf node n0 p0 sample\" transform=\"translate(-16.8 0.322693)\"><path class=\"edge\" d=\"M 0 0 V -0.322693 H 16.8\" /><rect class=\"sym\" height=\"6\" width=\"6\" x=\"-3\" y=\"-3\" /><text class=\"lab\" transform=\"translate(0 11)\">0</text></g><g class=\"a4 i1 leaf node n3 p0 sample\" transform=\"translate(16.8 0.322693)\"><path class=\"edge\" d=\"M 0 0 V -0.322693 H -16.8\" /><rect class=\"sym\" height=\"6\" width=\"6\" x=\"-3\" y=\"-3\" /><text class=\"lab\" transform=\"translate(0 11)\">3</text></g><path class=\"edge\" d=\"M 0 0 V -10.7777 H 33.6\" /><g class=\"mut m1 s1\" transform=\"translate(0 -3.22959)\"><line x1=\"0\" x2=\"0\" y1=\"0\" y2=\"3.22959\" /><path class=\"sym\" d=\"M -3,-3 l 6,6 M -3,3 l 6,-6\" /><text class=\"lab lft\" transform=\"translate(-5 0)\">1</text></g><circle class=\"sym\" cx=\"0\" cy=\"0\" r=\"3\" /><text class=\"lab lft\" transform=\"translate(-3 -7.0)\">4</text></g><g class=\"a7 c2 node n6 p0\" transform=\"translate(33.6 6.051)\"><g class=\"a6 i0 leaf m2 node n1 p0 s2 sample\" transform=\"translate(-16.8 5.04938)\"><path class=\"edge\" d=\"M 0 0 V -5.04938 H 16.8\" /><g class=\"mut m2 s2\" transform=\"translate(0 -1.66799)\"><line x1=\"0\" x2=\"0\" y1=\"0\" y2=\"1.66799\" /><path class=\"sym\" d=\"M -3,-3 l 6,6 M -3,3 l 6,-6\" /><text class=\"lab lft\" transform=\"translate(-5 0)\">2</text></g><rect class=\"sym\" height=\"6\" width=\"6\" x=\"-3\" y=\"-3\" /><text class=\"lab\" transform=\"translate(0 11)\">1</text></g><g class=\"a6 i1 leaf node n2 p0 sample\" transform=\"translate(16.8 5.04938)\"><path class=\"edge\" d=\"M 0 0 V -5.04938 H -16.8\" /><rect class=\"sym\" height=\"6\" width=\"6\" x=\"-3\" y=\"-3\" /><text class=\"lab\" transform=\"translate(0 11)\">2</text></g><path class=\"edge\" d=\"M 0 0 V -6.051 H -33.6\" /><circle class=\"sym\" cx=\"0\" cy=\"0\" r=\"3\" /><text class=\"lab rgt\" transform=\"translate(3 -7.0)\">6</text></g><circle class=\"sym\" cx=\"0\" cy=\"0\" r=\"3\" /><text class=\"lab\" transform=\"translate(0 -11)\">7</text></g></g></g><g class=\"tree t2\" transform=\"translate(405.6 0)\"><g class=\"plotbox\"><g class=\"c2 node n8 p0 root\" transform=\"translate(87.2 26.8)\"><g class=\"a8 c2 m4 m5 m7 m8 m9 node n4 p0 s4 s5 s7 s8 s9\" transform=\"translate(-33.6 94.2773)\"><g class=\"a4 i0 leaf node n0 p0 sample\" transform=\"translate(-16.8 0.322693)\"><path class=\"edge\" d=\"M 0 0 V -0.322693 H 16.8\" /><rect class=\"sym\" height=\"6\" width=\"6\" x=\"-3\" y=\"-3\" /><text class=\"lab\" transform=\"translate(0 11)\">0</text></g><g class=\"a4 i1 leaf node n3 p0 sample\" transform=\"translate(16.8 0.322693)\"><path class=\"edge\" d=\"M 0 0 V -0.322693 H -16.8\" /><rect class=\"sym\" height=\"6\" width=\"6\" x=\"-3\" y=\"-3\" /><text class=\"lab\" transform=\"translate(0 11)\">3</text></g><path class=\"edge\" d=\"M 0 0 V -94.2773 H 33.6\" /><g class=\"mut m4 s4\" transform=\"translate(0 -21.6342)\"><line x1=\"0\" x2=\"0\" y1=\"0\" y2=\"21.6342\" /><path class=\"sym\" d=\"M -3,-3 l 6,6 M -3,3 l 6,-6\" /><text class=\"lab lft\" transform=\"translate(-5 0)\">4</text></g><g class=\"mut m9 s9\" transform=\"translate(0 -19.8953)\"><line x1=\"0\" x2=\"0\" y1=\"0\" y2=\"19.8953\" /><path class=\"sym\" d=\"M -3,-3 l 6,6 M -3,3 l 6,-6\" /><text class=\"lab lft\" transform=\"translate(-5 0)\">9</text></g><g class=\"mut m5 s5\" transform=\"translate(0 -13.0108)\"><line x1=\"0\" x2=\"0\" y1=\"0\" y2=\"13.0108\" /><path class=\"sym\" d=\"M -3,-3 l 6,6 M -3,3 l 6,-6\" /><text class=\"lab lft\" transform=\"translate(-5 0)\">5</text></g><g class=\"mut m7 s7\" transform=\"translate(0 -12.5208)\"><line x1=\"0\" x2=\"0\" y1=\"0\" y2=\"12.5208\" /><path class=\"sym\" d=\"M -3,-3 l 6,6 M -3,3 l 6,-6\" /><text class=\"lab lft\" transform=\"translate(-5 0)\">7</text></g><g class=\"mut m8 s8\" transform=\"translate(0 -4.67252)\"><line x1=\"0\" x2=\"0\" y1=\"0\" y2=\"4.67252\" /><path class=\"sym\" d=\"M -3,-3 l 6,6 M -3,3 l 6,-6\" /><text class=\"lab lft\" transform=\"translate(-5 0)\">8</text></g><circle class=\"sym\" cx=\"0\" cy=\"0\" r=\"3\" /><text class=\"lab lft\" transform=\"translate(-3 -7.0)\">4</text></g><g class=\"a8 c2 m3 m6 node n6 p0 s3 s6\" transform=\"translate(33.6 89.5506)\"><g class=\"a6 i0 leaf node n1 p0 sample\" transform=\"translate(-16.8 5.04938)\"><path class=\"edge\" d=\"M 0 0 V -5.04938 H 16.8\" /><rect class=\"sym\" height=\"6\" width=\"6\" x=\"-3\" y=\"-3\" /><text class=\"lab\" transform=\"translate(0 11)\">1</text></g><g class=\"a6 i1 leaf node n2 p0 sample\" transform=\"translate(16.8 5.04938)\"><path class=\"edge\" d=\"M 0 0 V -5.04938 H -16.8\" /><rect class=\"sym\" height=\"6\" width=\"6\" x=\"-3\" y=\"-3\" /><text class=\"lab\" transform=\"translate(0 11)\">2</text></g><path class=\"edge\" d=\"M 0 0 V -89.5506 H -33.6\" /><g class=\"mut m3 s3\" transform=\"translate(0 -19.9811)\"><line x1=\"0\" x2=\"0\" y1=\"0\" y2=\"19.9811\" /><path class=\"sym\" d=\"M -3,-3 l 6,6 M -3,3 l 6,-6\" /><text class=\"lab rgt\" transform=\"translate(5 0)\">3</text></g><g class=\"mut m6 s6\" transform=\"translate(0 -6.12063)\"><line x1=\"0\" x2=\"0\" y1=\"0\" y2=\"6.12063\" /><path class=\"sym\" d=\"M -3,-3 l 6,6 M -3,3 l 6,-6\" /><text class=\"lab rgt\" transform=\"translate(5 0)\">6</text></g><circle class=\"sym\" cx=\"0\" cy=\"0\" r=\"3\" /><text class=\"lab rgt\" transform=\"translate(3 -7.0)\">6</text></g><circle class=\"sym\" cx=\"0\" cy=\"0\" r=\"3\" /><text class=\"lab\" transform=\"translate(0 -11)\">8</text></g></g></g></g></g></svg>'"
      ]
     },
     "execution_count": 40,
     "metadata": {},
     "output_type": "execute_result"
    }
   ],
   "source": [
    "myTs.draw_svg(y_axis=True)"
   ]
  },
  {
   "cell_type": "markdown",
   "id": "4501c6aa",
   "metadata": {},
   "source": [
    "Original for comparison"
   ]
  },
  {
   "cell_type": "code",
   "execution_count": 41,
   "id": "7f5575eb",
   "metadata": {},
   "outputs": [
    {
     "data": {
      "image/svg+xml": [
       "<svg baseProfile=\"full\" height=\"200\" version=\"1.1\" width=\"600\" xmlns=\"http://www.w3.org/2000/svg\" xmlns:ev=\"http://www.w3.org/2001/xml-events\" xmlns:xlink=\"http://www.w3.org/1999/xlink\"><defs><style type=\"text/css\"><![CDATA[.background path {fill: #808080; fill-opacity: 0}.background path:nth-child(odd) {fill-opacity: .1}.axes {font-size: 14px}.x-axis .tick .lab {font-weight: bold; dominant-baseline: hanging}.axes, .tree {font-size: 14px; text-anchor: middle}.axes line, .edge {stroke: black; fill: none}.axes .ax-skip {stroke-dasharray: 4}.y-axis .grid {stroke: #FAFAFA}.node > .sym {fill: black; stroke: none}.site > .sym {stroke: black}.mut text {fill: red; font-style: italic}.mut.extra text {fill: hotpink}.mut line {fill: none; stroke: none}.mut .sym {fill: none; stroke: red}.mut.extra .sym {stroke: hotpink}.node .mut .sym {stroke-width: 1.5px}.tree text, .tree-sequence text {dominant-baseline: central}.plotbox .lab.lft {text-anchor: end}.plotbox .lab.rgt {text-anchor: start}]]></style></defs><g class=\"tree-sequence\"><g class=\"background\"><path d=\"M56.8,0 l174.4,0 l0,138.2 l-14.3008,25 l0,5 l-160.099,0 l0,-5 l0,-25 l0,-138.2z\" /><path d=\"M231.2,0 l174.4,0 l0,138.2 l-44.193,25 l0,5 l-144.508,0 l0,-5 l14.301,-25 l0,-138.2z\" /><path d=\"M405.6,0 l174.4,0 l0,138.2 l0,25 l0,5 l-218.593,0 l0,-5 l44.193,-25 l0,-138.2z\" /></g><g class=\"axes\"><g class=\"x-axis\"><g class=\"title\" transform=\"translate(318.4 200)\"><text class=\"lab\" text-anchor=\"middle\" transform=\"translate(0 -11)\">Genome position</text></g><line class=\"ax-line\" x1=\"56.8\" x2=\"580\" y1=\"163.2\" y2=\"163.2\" /><g class=\"ticks\"><g class=\"tick\" transform=\"translate(56.8 163.2)\"><line x1=\"0\" x2=\"0\" y1=\"0\" y2=\"5\" /><g transform=\"translate(0 6)\"><text class=\"lab\">0</text></g></g><g class=\"tick\" transform=\"translate(216.899 163.2)\"><line x1=\"0\" x2=\"0\" y1=\"0\" y2=\"5\" /><g transform=\"translate(0 6)\"><text class=\"lab\">3060</text></g></g><g class=\"tick\" transform=\"translate(361.407 163.2)\"><line x1=\"0\" x2=\"0\" y1=\"0\" y2=\"5\" /><g transform=\"translate(0 6)\"><text class=\"lab\">5822</text></g></g><g class=\"tick\" transform=\"translate(580 163.2)\"><line x1=\"0\" x2=\"0\" y1=\"0\" y2=\"5\" /><g transform=\"translate(0 6)\"><text class=\"lab\">10000</text></g></g></g><g class=\"site s0\" transform=\"translate(208.528 163.2)\"><line class=\"sym\" x1=\"0\" x2=\"0\" y1=\"0\" y2=\"-10\" /><g class=\"mut m0\"><polyline class=\"sym\" points=\"2.5,-6.5 0,-1.5 -2.5,-6.5\" /></g></g><g class=\"site s1\" transform=\"translate(234.217 163.2)\"><line class=\"sym\" x1=\"0\" x2=\"0\" y1=\"0\" y2=\"-10\" /><g class=\"mut m1\"><polyline class=\"sym\" points=\"2.5,-6.5 0,-1.5 -2.5,-6.5\" /></g></g><g class=\"site s2\" transform=\"translate(333.259 163.2)\"><line class=\"sym\" x1=\"0\" x2=\"0\" y1=\"0\" y2=\"-10\" /><g class=\"mut m2\"><polyline class=\"sym\" points=\"2.5,-6.5 0,-1.5 -2.5,-6.5\" /></g></g><g class=\"site s3\" transform=\"translate(378.777 163.2)\"><line class=\"sym\" x1=\"0\" x2=\"0\" y1=\"0\" y2=\"-10\" /><g class=\"mut m3\"><polyline class=\"sym\" points=\"2.5,-6.5 0,-1.5 -2.5,-6.5\" /></g></g><g class=\"site s4\" transform=\"translate(417.913 163.2)\"><line class=\"sym\" x1=\"0\" x2=\"0\" y1=\"0\" y2=\"-10\" /><g class=\"mut m4\"><polyline class=\"sym\" points=\"2.5,-6.5 0,-1.5 -2.5,-6.5\" /></g></g><g class=\"site s5\" transform=\"translate(470.337 163.2)\"><line class=\"sym\" x1=\"0\" x2=\"0\" y1=\"0\" y2=\"-10\" /><g class=\"mut m5\"><polyline class=\"sym\" points=\"2.5,-6.5 0,-1.5 -2.5,-6.5\" /></g></g><g class=\"site s6\" transform=\"translate(471.802 163.2)\"><line class=\"sym\" x1=\"0\" x2=\"0\" y1=\"0\" y2=\"-10\" /><g class=\"mut m6\"><polyline class=\"sym\" points=\"2.5,-6.5 0,-1.5 -2.5,-6.5\" /></g></g><g class=\"site s7\" transform=\"translate(480.801 163.2)\"><line class=\"sym\" x1=\"0\" x2=\"0\" y1=\"0\" y2=\"-10\" /><g class=\"mut m7\"><polyline class=\"sym\" points=\"2.5,-6.5 0,-1.5 -2.5,-6.5\" /></g></g><g class=\"site s8\" transform=\"translate(489.643 163.2)\"><line class=\"sym\" x1=\"0\" x2=\"0\" y1=\"0\" y2=\"-10\" /><g class=\"mut m8\"><polyline class=\"sym\" points=\"2.5,-6.5 0,-1.5 -2.5,-6.5\" /></g></g><g class=\"site s9\" transform=\"translate(518.733 163.2)\"><line class=\"sym\" x1=\"0\" x2=\"0\" y1=\"0\" y2=\"-10\" /><g class=\"mut m9\"><polyline class=\"sym\" points=\"2.5,-6.5 0,-1.5 -2.5,-6.5\" /></g></g></g><g class=\"y-axis\"><g class=\"title\" transform=\"translate(0 65.7)\"><text class=\"lab\" text-anchor=\"middle\" transform=\"translate(11) rotate(-90)\">Time (generations)</text></g><line class=\"ax-line\" x1=\"56.8\" x2=\"56.8\" y1=\"121.4\" y2=\"10\" /><g class=\"ticks\"><g class=\"tick\" transform=\"translate(56.8 121.4)\"><line x1=\"0\" x2=\"-5\" y1=\"0\" y2=\"0\" /><g transform=\"translate(-6 0)\"><text class=\"lab\" text-anchor=\"end\">0.00</text></g></g><g class=\"tick\" transform=\"translate(56.8 120.21)\"><line x1=\"0\" x2=\"-5\" y1=\"0\" y2=\"0\" /><g transform=\"translate(-6 0)\"><text class=\"lab\" text-anchor=\"end\">68.22</text></g></g><g class=\"tick\" transform=\"translate(56.8 105.444)\"><line x1=\"0\" x2=\"-5\" y1=\"0\" y2=\"0\" /><g transform=\"translate(-6 0)\"><text class=\"lab\" text-anchor=\"end\">914.87</text></g></g><g class=\"tick\" transform=\"translate(56.8 102.782)\"><line x1=\"0\" x2=\"-5\" y1=\"0\" y2=\"0\" /><g transform=\"translate(-6 0)\"><text class=\"lab\" text-anchor=\"end\">1067.52</text></g></g><g class=\"tick\" transform=\"translate(56.8 80.4706)\"><line x1=\"0\" x2=\"-5\" y1=\"0\" y2=\"0\" /><g transform=\"translate(-6 0)\"><text class=\"lab\" text-anchor=\"end\">2346.80</text></g></g><g class=\"tick\" transform=\"translate(56.8 26.8)\"><line x1=\"0\" x2=\"-5\" y1=\"0\" y2=\"0\" /><g transform=\"translate(-6 0)\"><text class=\"lab\" text-anchor=\"end\">5424.16</text></g></g></g></g></g><g class=\"plotbox trees\"><g class=\"tree t0\" transform=\"translate(56.8 0)\"><g class=\"plotbox\"><g class=\"c2 node n7 p0 root\" transform=\"translate(108.2 80.4706)\"><g class=\"a7 i0 leaf node n1 p0 sample\" transform=\"translate(29.4 40.9294)\"><path class=\"edge\" d=\"M 0 0 V -40.9294 H -29.4\" /><rect class=\"sym\" height=\"6\" width=\"6\" x=\"-3\" y=\"-3\" /><text class=\"lab\" transform=\"translate(0 11)\">1</text></g><g class=\"a7 c2 node n5 p0\" transform=\"translate(-29.4 24.9736)\"><g class=\"a5 i1 leaf node n2 p0 sample\" transform=\"translate(25.2 15.9559)\"><path class=\"edge\" d=\"M 0 0 V -15.9559 H -25.2\" /><rect class=\"sym\" height=\"6\" width=\"6\" x=\"-3\" y=\"-3\" /><text class=\"lab\" transform=\"translate(0 11)\">2</text></g><g class=\"a5 c2 m0 node n4 p0 s0\" transform=\"translate(-25.2 14.766)\"><g class=\"a4 i0 leaf node n0 p0 sample\" transform=\"translate(-16.8 1.18984)\"><path class=\"edge\" d=\"M 0 0 V -1.18984 H 16.8\" /><rect class=\"sym\" height=\"6\" width=\"6\" x=\"-3\" y=\"-3\" /><text class=\"lab\" transform=\"translate(0 11)\">0</text></g><g class=\"a4 i1 leaf node n3 p0 sample\" transform=\"translate(16.8 1.18984)\"><path class=\"edge\" d=\"M 0 0 V -1.18984 H -16.8\" /><rect class=\"sym\" height=\"6\" width=\"6\" x=\"-3\" y=\"-3\" /><text class=\"lab\" transform=\"translate(0 11)\">3</text></g><path class=\"edge\" d=\"M 0 0 V -14.766 H 25.2\" /><g class=\"mut m0 s0\" transform=\"translate(0 -6.42798)\"><line x1=\"0\" x2=\"0\" y1=\"0\" y2=\"6.42798\" /><path class=\"sym\" d=\"M -3,-3 l 6,6 M -3,3 l 6,-6\" /><text class=\"lab lft\" transform=\"translate(-5 0)\">0</text></g><circle class=\"sym\" cx=\"0\" cy=\"0\" r=\"3\" /><text class=\"lab lft\" transform=\"translate(-3 -7.0)\">4</text></g><path class=\"edge\" d=\"M 0 0 V -24.9736 H 29.4\" /><circle class=\"sym\" cx=\"0\" cy=\"0\" r=\"3\" /><text class=\"lab lft\" transform=\"translate(-3 -7.0)\">5</text></g><circle class=\"sym\" cx=\"0\" cy=\"0\" r=\"3\" /><text class=\"lab\" transform=\"translate(0 -11)\">7</text></g></g></g><g class=\"tree t1\" transform=\"translate(231.2 0)\"><g class=\"plotbox\"><g class=\"c2 node n7 p0 root\" transform=\"translate(87.2 80.4706)\"><g class=\"a7 c2 m1 node n4 p0 s1\" transform=\"translate(-33.6 39.7396)\"><g class=\"a4 i0 leaf node n0 p0 sample\" transform=\"translate(-16.8 1.18984)\"><path class=\"edge\" d=\"M 0 0 V -1.18984 H 16.8\" /><rect class=\"sym\" height=\"6\" width=\"6\" x=\"-3\" y=\"-3\" /><text class=\"lab\" transform=\"translate(0 11)\">0</text></g><g class=\"a4 i1 leaf node n3 p0 sample\" transform=\"translate(16.8 1.18984)\"><path class=\"edge\" d=\"M 0 0 V -1.18984 H -16.8\" /><rect class=\"sym\" height=\"6\" width=\"6\" x=\"-3\" y=\"-3\" /><text class=\"lab\" transform=\"translate(0 11)\">3</text></g><path class=\"edge\" d=\"M 0 0 V -39.7396 H 33.6\" /><g class=\"mut m1 s1\" transform=\"translate(0 -11.9082)\"><line x1=\"0\" x2=\"0\" y1=\"0\" y2=\"11.9082\" /><path class=\"sym\" d=\"M -3,-3 l 6,6 M -3,3 l 6,-6\" /><text class=\"lab lft\" transform=\"translate(-5 0)\">1</text></g><circle class=\"sym\" cx=\"0\" cy=\"0\" r=\"3\" /><text class=\"lab lft\" transform=\"translate(-3 -7.0)\">4</text></g><g class=\"a7 c2 node n6 p0\" transform=\"translate(33.6 22.3113)\"><g class=\"a6 i0 leaf m2 node n1 p0 s2 sample\" transform=\"translate(-16.8 18.6181)\"><path class=\"edge\" d=\"M 0 0 V -18.6181 H 16.8\" /><g class=\"mut m2 s2\" transform=\"translate(0 -6.15021)\"><line x1=\"0\" x2=\"0\" y1=\"0\" y2=\"6.15021\" /><path class=\"sym\" d=\"M -3,-3 l 6,6 M -3,3 l 6,-6\" /><text class=\"lab lft\" transform=\"translate(-5 0)\">2</text></g><rect class=\"sym\" height=\"6\" width=\"6\" x=\"-3\" y=\"-3\" /><text class=\"lab\" transform=\"translate(0 11)\">1</text></g><g class=\"a6 i1 leaf node n2 p0 sample\" transform=\"translate(16.8 18.6181)\"><path class=\"edge\" d=\"M 0 0 V -18.6181 H -16.8\" /><rect class=\"sym\" height=\"6\" width=\"6\" x=\"-3\" y=\"-3\" /><text class=\"lab\" transform=\"translate(0 11)\">2</text></g><path class=\"edge\" d=\"M 0 0 V -22.3113 H -33.6\" /><circle class=\"sym\" cx=\"0\" cy=\"0\" r=\"3\" /><text class=\"lab rgt\" transform=\"translate(3 -7.0)\">6</text></g><circle class=\"sym\" cx=\"0\" cy=\"0\" r=\"3\" /><text class=\"lab\" transform=\"translate(0 -11)\">7</text></g></g></g><g class=\"tree t2\" transform=\"translate(405.6 0)\"><g class=\"plotbox\"><g class=\"c2 node n8 p0 root\" transform=\"translate(87.2 26.8)\"><g class=\"a8 c2 m4 m5 m7 m8 m9 node n4 p0 s4 s5 s7 s8 s9\" transform=\"translate(-33.6 93.4102)\"><g class=\"a4 i0 leaf node n0 p0 sample\" transform=\"translate(-16.8 1.18984)\"><path class=\"edge\" d=\"M 0 0 V -1.18984 H 16.8\" /><rect class=\"sym\" height=\"6\" width=\"6\" x=\"-3\" y=\"-3\" /><text class=\"lab\" transform=\"translate(0 11)\">0</text></g><g class=\"a4 i1 leaf node n3 p0 sample\" transform=\"translate(16.8 1.18984)\"><path class=\"edge\" d=\"M 0 0 V -1.18984 H -16.8\" /><rect class=\"sym\" height=\"6\" width=\"6\" x=\"-3\" y=\"-3\" /><text class=\"lab\" transform=\"translate(0 11)\">3</text></g><path class=\"edge\" d=\"M 0 0 V -93.4102 H 33.6\" /><g class=\"mut m4 s4\" transform=\"translate(0 -79.77)\"><line x1=\"0\" x2=\"0\" y1=\"0\" y2=\"79.77\" /><path class=\"sym\" d=\"M -3,-3 l 6,6 M -3,3 l 6,-6\" /><text class=\"lab lft\" transform=\"translate(-5 0)\">4</text></g><g class=\"mut m9 s9\" transform=\"translate(0 -73.3583)\"><line x1=\"0\" x2=\"0\" y1=\"0\" y2=\"73.3583\" /><path class=\"sym\" d=\"M -3,-3 l 6,6 M -3,3 l 6,-6\" /><text class=\"lab lft\" transform=\"translate(-5 0)\">9</text></g><g class=\"mut m5 s5\" transform=\"translate(0 -47.9734)\"><line x1=\"0\" x2=\"0\" y1=\"0\" y2=\"47.9734\" /><path class=\"sym\" d=\"M -3,-3 l 6,6 M -3,3 l 6,-6\" /><text class=\"lab lft\" transform=\"translate(-5 0)\">5</text></g><g class=\"mut m7 s7\" transform=\"translate(0 -46.1667)\"><line x1=\"0\" x2=\"0\" y1=\"0\" y2=\"46.1667\" /><path class=\"sym\" d=\"M -3,-3 l 6,6 M -3,3 l 6,-6\" /><text class=\"lab lft\" transform=\"translate(-5 0)\">7</text></g><g class=\"mut m8 s8\" transform=\"translate(0 -17.2286)\"><line x1=\"0\" x2=\"0\" y1=\"0\" y2=\"17.2286\" /><path class=\"sym\" d=\"M -3,-3 l 6,6 M -3,3 l 6,-6\" /><text class=\"lab lft\" transform=\"translate(-5 0)\">8</text></g><circle class=\"sym\" cx=\"0\" cy=\"0\" r=\"3\" /><text class=\"lab lft\" transform=\"translate(-3 -7.0)\">4</text></g><g class=\"a8 c2 m3 m6 node n6 p0 s3 s6\" transform=\"translate(33.6 75.9819)\"><g class=\"a6 i0 leaf node n1 p0 sample\" transform=\"translate(-16.8 18.6181)\"><path class=\"edge\" d=\"M 0 0 V -18.6181 H 16.8\" /><rect class=\"sym\" height=\"6\" width=\"6\" x=\"-3\" y=\"-3\" /><text class=\"lab\" transform=\"translate(0 11)\">1</text></g><g class=\"a6 i1 leaf node n2 p0 sample\" transform=\"translate(16.8 18.6181)\"><path class=\"edge\" d=\"M 0 0 V -18.6181 H -16.8\" /><rect class=\"sym\" height=\"6\" width=\"6\" x=\"-3\" y=\"-3\" /><text class=\"lab\" transform=\"translate(0 11)\">2</text></g><path class=\"edge\" d=\"M 0 0 V -75.9819 H -33.6\" /><g class=\"mut m3 s3\" transform=\"translate(0 -73.6745)\"><line x1=\"0\" x2=\"0\" y1=\"0\" y2=\"73.6745\" /><path class=\"sym\" d=\"M -3,-3 l 6,6 M -3,3 l 6,-6\" /><text class=\"lab rgt\" transform=\"translate(5 0)\">3</text></g><g class=\"mut m6 s6\" transform=\"translate(0 -22.568)\"><line x1=\"0\" x2=\"0\" y1=\"0\" y2=\"22.568\" /><path class=\"sym\" d=\"M -3,-3 l 6,6 M -3,3 l 6,-6\" /><text class=\"lab rgt\" transform=\"translate(5 0)\">6</text></g><circle class=\"sym\" cx=\"0\" cy=\"0\" r=\"3\" /><text class=\"lab rgt\" transform=\"translate(3 -7.0)\">6</text></g><circle class=\"sym\" cx=\"0\" cy=\"0\" r=\"3\" /><text class=\"lab\" transform=\"translate(0 -11)\">8</text></g></g></g></g></g></svg>"
      ],
      "text/plain": [
       "'<svg baseProfile=\"full\" height=\"200\" version=\"1.1\" width=\"600\" xmlns=\"http://www.w3.org/2000/svg\" xmlns:ev=\"http://www.w3.org/2001/xml-events\" xmlns:xlink=\"http://www.w3.org/1999/xlink\"><defs><style type=\"text/css\"><![CDATA[.background path {fill: #808080; fill-opacity: 0}.background path:nth-child(odd) {fill-opacity: .1}.axes {font-size: 14px}.x-axis .tick .lab {font-weight: bold; dominant-baseline: hanging}.axes, .tree {font-size: 14px; text-anchor: middle}.axes line, .edge {stroke: black; fill: none}.axes .ax-skip {stroke-dasharray: 4}.y-axis .grid {stroke: #FAFAFA}.node > .sym {fill: black; stroke: none}.site > .sym {stroke: black}.mut text {fill: red; font-style: italic}.mut.extra text {fill: hotpink}.mut line {fill: none; stroke: none}.mut .sym {fill: none; stroke: red}.mut.extra .sym {stroke: hotpink}.node .mut .sym {stroke-width: 1.5px}.tree text, .tree-sequence text {dominant-baseline: central}.plotbox .lab.lft {text-anchor: end}.plotbox .lab.rgt {text-anchor: start}]]></style></defs><g class=\"tree-sequence\"><g class=\"background\"><path d=\"M56.8,0 l174.4,0 l0,138.2 l-14.3008,25 l0,5 l-160.099,0 l0,-5 l0,-25 l0,-138.2z\" /><path d=\"M231.2,0 l174.4,0 l0,138.2 l-44.193,25 l0,5 l-144.508,0 l0,-5 l14.301,-25 l0,-138.2z\" /><path d=\"M405.6,0 l174.4,0 l0,138.2 l0,25 l0,5 l-218.593,0 l0,-5 l44.193,-25 l0,-138.2z\" /></g><g class=\"axes\"><g class=\"x-axis\"><g class=\"title\" transform=\"translate(318.4 200)\"><text class=\"lab\" text-anchor=\"middle\" transform=\"translate(0 -11)\">Genome position</text></g><line class=\"ax-line\" x1=\"56.8\" x2=\"580\" y1=\"163.2\" y2=\"163.2\" /><g class=\"ticks\"><g class=\"tick\" transform=\"translate(56.8 163.2)\"><line x1=\"0\" x2=\"0\" y1=\"0\" y2=\"5\" /><g transform=\"translate(0 6)\"><text class=\"lab\">0</text></g></g><g class=\"tick\" transform=\"translate(216.899 163.2)\"><line x1=\"0\" x2=\"0\" y1=\"0\" y2=\"5\" /><g transform=\"translate(0 6)\"><text class=\"lab\">3060</text></g></g><g class=\"tick\" transform=\"translate(361.407 163.2)\"><line x1=\"0\" x2=\"0\" y1=\"0\" y2=\"5\" /><g transform=\"translate(0 6)\"><text class=\"lab\">5822</text></g></g><g class=\"tick\" transform=\"translate(580 163.2)\"><line x1=\"0\" x2=\"0\" y1=\"0\" y2=\"5\" /><g transform=\"translate(0 6)\"><text class=\"lab\">10000</text></g></g></g><g class=\"site s0\" transform=\"translate(208.528 163.2)\"><line class=\"sym\" x1=\"0\" x2=\"0\" y1=\"0\" y2=\"-10\" /><g class=\"mut m0\"><polyline class=\"sym\" points=\"2.5,-6.5 0,-1.5 -2.5,-6.5\" /></g></g><g class=\"site s1\" transform=\"translate(234.217 163.2)\"><line class=\"sym\" x1=\"0\" x2=\"0\" y1=\"0\" y2=\"-10\" /><g class=\"mut m1\"><polyline class=\"sym\" points=\"2.5,-6.5 0,-1.5 -2.5,-6.5\" /></g></g><g class=\"site s2\" transform=\"translate(333.259 163.2)\"><line class=\"sym\" x1=\"0\" x2=\"0\" y1=\"0\" y2=\"-10\" /><g class=\"mut m2\"><polyline class=\"sym\" points=\"2.5,-6.5 0,-1.5 -2.5,-6.5\" /></g></g><g class=\"site s3\" transform=\"translate(378.777 163.2)\"><line class=\"sym\" x1=\"0\" x2=\"0\" y1=\"0\" y2=\"-10\" /><g class=\"mut m3\"><polyline class=\"sym\" points=\"2.5,-6.5 0,-1.5 -2.5,-6.5\" /></g></g><g class=\"site s4\" transform=\"translate(417.913 163.2)\"><line class=\"sym\" x1=\"0\" x2=\"0\" y1=\"0\" y2=\"-10\" /><g class=\"mut m4\"><polyline class=\"sym\" points=\"2.5,-6.5 0,-1.5 -2.5,-6.5\" /></g></g><g class=\"site s5\" transform=\"translate(470.337 163.2)\"><line class=\"sym\" x1=\"0\" x2=\"0\" y1=\"0\" y2=\"-10\" /><g class=\"mut m5\"><polyline class=\"sym\" points=\"2.5,-6.5 0,-1.5 -2.5,-6.5\" /></g></g><g class=\"site s6\" transform=\"translate(471.802 163.2)\"><line class=\"sym\" x1=\"0\" x2=\"0\" y1=\"0\" y2=\"-10\" /><g class=\"mut m6\"><polyline class=\"sym\" points=\"2.5,-6.5 0,-1.5 -2.5,-6.5\" /></g></g><g class=\"site s7\" transform=\"translate(480.801 163.2)\"><line class=\"sym\" x1=\"0\" x2=\"0\" y1=\"0\" y2=\"-10\" /><g class=\"mut m7\"><polyline class=\"sym\" points=\"2.5,-6.5 0,-1.5 -2.5,-6.5\" /></g></g><g class=\"site s8\" transform=\"translate(489.643 163.2)\"><line class=\"sym\" x1=\"0\" x2=\"0\" y1=\"0\" y2=\"-10\" /><g class=\"mut m8\"><polyline class=\"sym\" points=\"2.5,-6.5 0,-1.5 -2.5,-6.5\" /></g></g><g class=\"site s9\" transform=\"translate(518.733 163.2)\"><line class=\"sym\" x1=\"0\" x2=\"0\" y1=\"0\" y2=\"-10\" /><g class=\"mut m9\"><polyline class=\"sym\" points=\"2.5,-6.5 0,-1.5 -2.5,-6.5\" /></g></g></g><g class=\"y-axis\"><g class=\"title\" transform=\"translate(0 65.7)\"><text class=\"lab\" text-anchor=\"middle\" transform=\"translate(11) rotate(-90)\">Time (generations)</text></g><line class=\"ax-line\" x1=\"56.8\" x2=\"56.8\" y1=\"121.4\" y2=\"10\" /><g class=\"ticks\"><g class=\"tick\" transform=\"translate(56.8 121.4)\"><line x1=\"0\" x2=\"-5\" y1=\"0\" y2=\"0\" /><g transform=\"translate(-6 0)\"><text class=\"lab\" text-anchor=\"end\">0.00</text></g></g><g class=\"tick\" transform=\"translate(56.8 120.21)\"><line x1=\"0\" x2=\"-5\" y1=\"0\" y2=\"0\" /><g transform=\"translate(-6 0)\"><text class=\"lab\" text-anchor=\"end\">68.22</text></g></g><g class=\"tick\" transform=\"translate(56.8 105.444)\"><line x1=\"0\" x2=\"-5\" y1=\"0\" y2=\"0\" /><g transform=\"translate(-6 0)\"><text class=\"lab\" text-anchor=\"end\">914.87</text></g></g><g class=\"tick\" transform=\"translate(56.8 102.782)\"><line x1=\"0\" x2=\"-5\" y1=\"0\" y2=\"0\" /><g transform=\"translate(-6 0)\"><text class=\"lab\" text-anchor=\"end\">1067.52</text></g></g><g class=\"tick\" transform=\"translate(56.8 80.4706)\"><line x1=\"0\" x2=\"-5\" y1=\"0\" y2=\"0\" /><g transform=\"translate(-6 0)\"><text class=\"lab\" text-anchor=\"end\">2346.80</text></g></g><g class=\"tick\" transform=\"translate(56.8 26.8)\"><line x1=\"0\" x2=\"-5\" y1=\"0\" y2=\"0\" /><g transform=\"translate(-6 0)\"><text class=\"lab\" text-anchor=\"end\">5424.16</text></g></g></g></g></g><g class=\"plotbox trees\"><g class=\"tree t0\" transform=\"translate(56.8 0)\"><g class=\"plotbox\"><g class=\"c2 node n7 p0 root\" transform=\"translate(108.2 80.4706)\"><g class=\"a7 i0 leaf node n1 p0 sample\" transform=\"translate(29.4 40.9294)\"><path class=\"edge\" d=\"M 0 0 V -40.9294 H -29.4\" /><rect class=\"sym\" height=\"6\" width=\"6\" x=\"-3\" y=\"-3\" /><text class=\"lab\" transform=\"translate(0 11)\">1</text></g><g class=\"a7 c2 node n5 p0\" transform=\"translate(-29.4 24.9736)\"><g class=\"a5 i1 leaf node n2 p0 sample\" transform=\"translate(25.2 15.9559)\"><path class=\"edge\" d=\"M 0 0 V -15.9559 H -25.2\" /><rect class=\"sym\" height=\"6\" width=\"6\" x=\"-3\" y=\"-3\" /><text class=\"lab\" transform=\"translate(0 11)\">2</text></g><g class=\"a5 c2 m0 node n4 p0 s0\" transform=\"translate(-25.2 14.766)\"><g class=\"a4 i0 leaf node n0 p0 sample\" transform=\"translate(-16.8 1.18984)\"><path class=\"edge\" d=\"M 0 0 V -1.18984 H 16.8\" /><rect class=\"sym\" height=\"6\" width=\"6\" x=\"-3\" y=\"-3\" /><text class=\"lab\" transform=\"translate(0 11)\">0</text></g><g class=\"a4 i1 leaf node n3 p0 sample\" transform=\"translate(16.8 1.18984)\"><path class=\"edge\" d=\"M 0 0 V -1.18984 H -16.8\" /><rect class=\"sym\" height=\"6\" width=\"6\" x=\"-3\" y=\"-3\" /><text class=\"lab\" transform=\"translate(0 11)\">3</text></g><path class=\"edge\" d=\"M 0 0 V -14.766 H 25.2\" /><g class=\"mut m0 s0\" transform=\"translate(0 -6.42798)\"><line x1=\"0\" x2=\"0\" y1=\"0\" y2=\"6.42798\" /><path class=\"sym\" d=\"M -3,-3 l 6,6 M -3,3 l 6,-6\" /><text class=\"lab lft\" transform=\"translate(-5 0)\">0</text></g><circle class=\"sym\" cx=\"0\" cy=\"0\" r=\"3\" /><text class=\"lab lft\" transform=\"translate(-3 -7.0)\">4</text></g><path class=\"edge\" d=\"M 0 0 V -24.9736 H 29.4\" /><circle class=\"sym\" cx=\"0\" cy=\"0\" r=\"3\" /><text class=\"lab lft\" transform=\"translate(-3 -7.0)\">5</text></g><circle class=\"sym\" cx=\"0\" cy=\"0\" r=\"3\" /><text class=\"lab\" transform=\"translate(0 -11)\">7</text></g></g></g><g class=\"tree t1\" transform=\"translate(231.2 0)\"><g class=\"plotbox\"><g class=\"c2 node n7 p0 root\" transform=\"translate(87.2 80.4706)\"><g class=\"a7 c2 m1 node n4 p0 s1\" transform=\"translate(-33.6 39.7396)\"><g class=\"a4 i0 leaf node n0 p0 sample\" transform=\"translate(-16.8 1.18984)\"><path class=\"edge\" d=\"M 0 0 V -1.18984 H 16.8\" /><rect class=\"sym\" height=\"6\" width=\"6\" x=\"-3\" y=\"-3\" /><text class=\"lab\" transform=\"translate(0 11)\">0</text></g><g class=\"a4 i1 leaf node n3 p0 sample\" transform=\"translate(16.8 1.18984)\"><path class=\"edge\" d=\"M 0 0 V -1.18984 H -16.8\" /><rect class=\"sym\" height=\"6\" width=\"6\" x=\"-3\" y=\"-3\" /><text class=\"lab\" transform=\"translate(0 11)\">3</text></g><path class=\"edge\" d=\"M 0 0 V -39.7396 H 33.6\" /><g class=\"mut m1 s1\" transform=\"translate(0 -11.9082)\"><line x1=\"0\" x2=\"0\" y1=\"0\" y2=\"11.9082\" /><path class=\"sym\" d=\"M -3,-3 l 6,6 M -3,3 l 6,-6\" /><text class=\"lab lft\" transform=\"translate(-5 0)\">1</text></g><circle class=\"sym\" cx=\"0\" cy=\"0\" r=\"3\" /><text class=\"lab lft\" transform=\"translate(-3 -7.0)\">4</text></g><g class=\"a7 c2 node n6 p0\" transform=\"translate(33.6 22.3113)\"><g class=\"a6 i0 leaf m2 node n1 p0 s2 sample\" transform=\"translate(-16.8 18.6181)\"><path class=\"edge\" d=\"M 0 0 V -18.6181 H 16.8\" /><g class=\"mut m2 s2\" transform=\"translate(0 -6.15021)\"><line x1=\"0\" x2=\"0\" y1=\"0\" y2=\"6.15021\" /><path class=\"sym\" d=\"M -3,-3 l 6,6 M -3,3 l 6,-6\" /><text class=\"lab lft\" transform=\"translate(-5 0)\">2</text></g><rect class=\"sym\" height=\"6\" width=\"6\" x=\"-3\" y=\"-3\" /><text class=\"lab\" transform=\"translate(0 11)\">1</text></g><g class=\"a6 i1 leaf node n2 p0 sample\" transform=\"translate(16.8 18.6181)\"><path class=\"edge\" d=\"M 0 0 V -18.6181 H -16.8\" /><rect class=\"sym\" height=\"6\" width=\"6\" x=\"-3\" y=\"-3\" /><text class=\"lab\" transform=\"translate(0 11)\">2</text></g><path class=\"edge\" d=\"M 0 0 V -22.3113 H -33.6\" /><circle class=\"sym\" cx=\"0\" cy=\"0\" r=\"3\" /><text class=\"lab rgt\" transform=\"translate(3 -7.0)\">6</text></g><circle class=\"sym\" cx=\"0\" cy=\"0\" r=\"3\" /><text class=\"lab\" transform=\"translate(0 -11)\">7</text></g></g></g><g class=\"tree t2\" transform=\"translate(405.6 0)\"><g class=\"plotbox\"><g class=\"c2 node n8 p0 root\" transform=\"translate(87.2 26.8)\"><g class=\"a8 c2 m4 m5 m7 m8 m9 node n4 p0 s4 s5 s7 s8 s9\" transform=\"translate(-33.6 93.4102)\"><g class=\"a4 i0 leaf node n0 p0 sample\" transform=\"translate(-16.8 1.18984)\"><path class=\"edge\" d=\"M 0 0 V -1.18984 H 16.8\" /><rect class=\"sym\" height=\"6\" width=\"6\" x=\"-3\" y=\"-3\" /><text class=\"lab\" transform=\"translate(0 11)\">0</text></g><g class=\"a4 i1 leaf node n3 p0 sample\" transform=\"translate(16.8 1.18984)\"><path class=\"edge\" d=\"M 0 0 V -1.18984 H -16.8\" /><rect class=\"sym\" height=\"6\" width=\"6\" x=\"-3\" y=\"-3\" /><text class=\"lab\" transform=\"translate(0 11)\">3</text></g><path class=\"edge\" d=\"M 0 0 V -93.4102 H 33.6\" /><g class=\"mut m4 s4\" transform=\"translate(0 -79.77)\"><line x1=\"0\" x2=\"0\" y1=\"0\" y2=\"79.77\" /><path class=\"sym\" d=\"M -3,-3 l 6,6 M -3,3 l 6,-6\" /><text class=\"lab lft\" transform=\"translate(-5 0)\">4</text></g><g class=\"mut m9 s9\" transform=\"translate(0 -73.3583)\"><line x1=\"0\" x2=\"0\" y1=\"0\" y2=\"73.3583\" /><path class=\"sym\" d=\"M -3,-3 l 6,6 M -3,3 l 6,-6\" /><text class=\"lab lft\" transform=\"translate(-5 0)\">9</text></g><g class=\"mut m5 s5\" transform=\"translate(0 -47.9734)\"><line x1=\"0\" x2=\"0\" y1=\"0\" y2=\"47.9734\" /><path class=\"sym\" d=\"M -3,-3 l 6,6 M -3,3 l 6,-6\" /><text class=\"lab lft\" transform=\"translate(-5 0)\">5</text></g><g class=\"mut m7 s7\" transform=\"translate(0 -46.1667)\"><line x1=\"0\" x2=\"0\" y1=\"0\" y2=\"46.1667\" /><path class=\"sym\" d=\"M -3,-3 l 6,6 M -3,3 l 6,-6\" /><text class=\"lab lft\" transform=\"translate(-5 0)\">7</text></g><g class=\"mut m8 s8\" transform=\"translate(0 -17.2286)\"><line x1=\"0\" x2=\"0\" y1=\"0\" y2=\"17.2286\" /><path class=\"sym\" d=\"M -3,-3 l 6,6 M -3,3 l 6,-6\" /><text class=\"lab lft\" transform=\"translate(-5 0)\">8</text></g><circle class=\"sym\" cx=\"0\" cy=\"0\" r=\"3\" /><text class=\"lab lft\" transform=\"translate(-3 -7.0)\">4</text></g><g class=\"a8 c2 m3 m6 node n6 p0 s3 s6\" transform=\"translate(33.6 75.9819)\"><g class=\"a6 i0 leaf node n1 p0 sample\" transform=\"translate(-16.8 18.6181)\"><path class=\"edge\" d=\"M 0 0 V -18.6181 H 16.8\" /><rect class=\"sym\" height=\"6\" width=\"6\" x=\"-3\" y=\"-3\" /><text class=\"lab\" transform=\"translate(0 11)\">1</text></g><g class=\"a6 i1 leaf node n2 p0 sample\" transform=\"translate(16.8 18.6181)\"><path class=\"edge\" d=\"M 0 0 V -18.6181 H -16.8\" /><rect class=\"sym\" height=\"6\" width=\"6\" x=\"-3\" y=\"-3\" /><text class=\"lab\" transform=\"translate(0 11)\">2</text></g><path class=\"edge\" d=\"M 0 0 V -75.9819 H -33.6\" /><g class=\"mut m3 s3\" transform=\"translate(0 -73.6745)\"><line x1=\"0\" x2=\"0\" y1=\"0\" y2=\"73.6745\" /><path class=\"sym\" d=\"M -3,-3 l 6,6 M -3,3 l 6,-6\" /><text class=\"lab rgt\" transform=\"translate(5 0)\">3</text></g><g class=\"mut m6 s6\" transform=\"translate(0 -22.568)\"><line x1=\"0\" x2=\"0\" y1=\"0\" y2=\"22.568\" /><path class=\"sym\" d=\"M -3,-3 l 6,6 M -3,3 l 6,-6\" /><text class=\"lab rgt\" transform=\"translate(5 0)\">6</text></g><circle class=\"sym\" cx=\"0\" cy=\"0\" r=\"3\" /><text class=\"lab rgt\" transform=\"translate(3 -7.0)\">6</text></g><circle class=\"sym\" cx=\"0\" cy=\"0\" r=\"3\" /><text class=\"lab\" transform=\"translate(0 -11)\">8</text></g></g></g></g></g></svg>'"
      ]
     },
     "execution_count": 41,
     "metadata": {},
     "output_type": "execute_result"
    }
   ],
   "source": [
    "ts.draw_svg(y_axis=True)"
   ]
  },
  {
   "cell_type": "code",
   "execution_count": null,
   "id": "d77e8eb9",
   "metadata": {},
   "outputs": [],
   "source": []
  }
 ],
 "metadata": {
  "kernelspec": {
   "display_name": "Python 3 (ipykernel)",
   "language": "python",
   "name": "python3"
  },
  "language_info": {
   "codemirror_mode": {
    "name": "ipython",
    "version": 3
   },
   "file_extension": ".py",
   "mimetype": "text/x-python",
   "name": "python",
   "nbconvert_exporter": "python",
   "pygments_lexer": "ipython3",
   "version": "3.9.13"
  }
 },
 "nbformat": 4,
 "nbformat_minor": 5
}
